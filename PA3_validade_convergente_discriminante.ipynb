{
  "nbformat": 4,
  "nbformat_minor": 0,
  "metadata": {
    "colab": {
      "provenance": [],
      "authorship_tag": "ABX9TyMMIkgKInp5tncEL+vgIw5f",
      "include_colab_link": true
    },
    "kernelspec": {
      "name": "ir",
      "display_name": "R"
    },
    "language_info": {
      "name": "R"
    }
  },
  "cells": [
    {
      "cell_type": "markdown",
      "metadata": {
        "id": "view-in-github",
        "colab_type": "text"
      },
      "source": [
        "<a href=\"https://colab.research.google.com/github/nemodesouza/TCC-AIX/blob/main/PA3_validade_convergente_discriminante.ipynb\" target=\"_parent\"><img src=\"https://colab.research.google.com/assets/colab-badge.svg\" alt=\"Open In Colab\"/></a>"
      ]
    },
    {
      "cell_type": "code",
      "execution_count": null,
      "metadata": {
        "id": "mMd05MDzz6Ap"
      },
      "outputs": [],
      "source": [
        "# UNIVERSIDADE FEDERAL DE SANTA CATARINA\n",
        "# CENTRO TECNOLÓGICO\n",
        "# DEPARTAMENTO DE INFORMÁTICA E ESTATÍSTICA\n",
        "# GRADUAÇÃO EM SISTEMAS DE INFORMAÇÃO\n",
        "# TRABALHO DE CONCLUSÃO DE CURSO\n",
        "# NEMO DE SOUZA\n",
        "\n",
        "# PA3 = Análise de Validade Convergente e Discriminante do Checklist AIX\n",
        "# Script para a análise de validade do checklist de heurísticas de AIX\n",
        "\n",
        "# Carregamento de bibliotecas\n",
        "if (!require(psych)) install.packages(\"psych\")        # Para análise fatorial\n",
        "if (!require(polycor)) install.packages(\"polycor\")    # Para correlação policórica\n",
        "if (!require(corrplot)) install.packages(\"corrplot\")  # Para visualização de correlações\n",
        "\n",
        "library(psych)\n",
        "library(polycor)\n",
        "library(corrplot)"
      ]
    },
    {
      "cell_type": "code",
      "source": [
        "# Carregamento dos dados\n",
        "dados <- \"PA2 a PA4 - matrix_avaliacao_aplicativos.csv\"\n",
        "heuristicas <- \"matriz_heuristicas_e_itens_checklist.csv\"\n",
        "\n",
        "dados <- read.csv(dados, stringsAsFactors = FALSE)\n",
        "heuristicas <- read.csv(heuristicas, stringsAsFactors = FALSE)\n",
        "\n",
        "# Verificação da estrutura dos dados\n",
        "str(dados)\n",
        "head(dados)\n",
        "\n",
        "# Verificar a estrutura das heurísticas\n",
        "str(heuristicas)\n",
        "head(heuristicas)"
      ],
      "metadata": {
        "id": "4Jrw3VwK0eK2"
      },
      "execution_count": null,
      "outputs": []
    },
    {
      "cell_type": "code",
      "source": [
        "#### Preparação dos dados para análise\n",
        "\n",
        "# Seleção das colunas dos itens (c1 a c23)\n",
        "itens <- dados[, grep(\"^c\\\\d+$\", names(dados))]\n",
        "\n",
        "# Conversão das respostas para valores numéricos (Sim = 1, Não = 0, NA = NA)\n",
        "itens_num <- as.data.frame(lapply(itens, function(x) {\n",
        "  ifelse(x == \"Sim\", 1, ifelse(x == \"Não\", 0, NA))\n",
        "}))\n",
        "\n",
        "# Verificação da conversão\n",
        "head(itens_num)"
      ],
      "metadata": {
        "id": "gaDjbmnW0hyn"
      },
      "execution_count": null,
      "outputs": []
    },
    {
      "cell_type": "code",
      "source": [
        "#### Criação do dicionário para mapear códigos de itens para descrições de heurísticas\n",
        "\n",
        "# Estrutura arquivo:\n",
        "# - ID Heurística: h1, h2, etc.\n",
        "# - Heurística: Descrição da heurística\n",
        "# - ID checklist: c1, c2, etc.\n",
        "# - Item de checklist: Descrição do checklist\n",
        "\n",
        "id_heuristicas <- heuristicas$ID.Heurística\n",
        "descricoes_heuristicas <- heuristicas$Heurística\n",
        "codigos_itens <- heuristicas$ID.checklist\n",
        "descricoes_itens <- heuristicas$Item.de.checklist\n",
        "\n",
        "# Criação dataframe de mapeamento\n",
        "dicionario <- data.frame(\n",
        "  codigo_item = codigos_itens,\n",
        "  descricao_item = descricoes_itens,\n",
        "  id_heuristica = id_heuristicas,\n",
        "  descricao_heuristica = descricoes_heuristicas,\n",
        "  stringsAsFactors = FALSE\n",
        ")\n",
        "\n",
        "# Verificação o dicionário criado\n",
        "head(dicionario)"
      ],
      "metadata": {
        "id": "drie-lE000K2"
      },
      "execution_count": null,
      "outputs": []
    },
    {
      "cell_type": "code",
      "source": [
        "#### Identificação e remoção de colunas problemáticas\n",
        "\n",
        "# Cálculo da porcentagem de NAs em cada coluna\n",
        "na_percentagem <- colMeans(is.na(itens_num)) * 100\n",
        "print(\"Porcentagem de NAs em cada coluna:\")\n",
        "print(na_percentagem)\n",
        "\n",
        "# Cálculo do desvio padrão de cada coluna\n",
        "desvios <- sapply(itens_num, sd, na.rm = TRUE)\n",
        "print(\"Desvio padrão de cada coluna:\")\n",
        "print(desvios)\n",
        "\n",
        "# Colunas com desvio padrão zero ou muito baixo\n",
        "colunas_desvio_zero <- names(desvios[desvios < 0.1])\n",
        "print(\"Colunas com desvio padrão próximo de zero:\")\n",
        "print(colunas_desvio_zero)\n",
        "\n",
        "# Colunas com muitos NAs (mais de 30%)\n",
        "colunas_muitos_na <- names(na_percentagem[na_percentagem > 30])\n",
        "print(\"Colunas com mais de 30% de NAs:\")\n",
        "print(colunas_muitos_na)\n",
        "\n",
        "# Colunas a serem removidas (desvio zero ou muitos NAs)\n",
        "colunas_remover <- unique(c(colunas_desvio_zero, colunas_muitos_na))\n",
        "print(\"Colunas a serem removidas:\")\n",
        "print(colunas_remover)\n",
        "\n",
        "# Conjunto de dados limpo\n",
        "itens_limpos <- itens_num[, !(names(itens_num) %in% colunas_remover)]\n",
        "\n",
        "# Verificação das dimensões do conjunto de dados após limpeza\n",
        "print(\"Dimensões do conjunto de dados após limpeza:\")\n",
        "print(dim(itens_limpos))\n",
        "\n",
        "# Dataframe com informações detalhadas sobre os itens removidos\n",
        "itens_removidos <- data.frame(\n",
        "  codigo = colunas_remover,\n",
        "  proporcao_na = na_percentagem[colunas_remover],\n",
        "  id_heuristica = sapply(colunas_remover, function(codigo) {\n",
        "    idx <- which(dicionario$codigo_item == codigo)\n",
        "    if (length(idx) > 0) dicionario$id_heuristica[idx[1]] else NA\n",
        "  }),\n",
        "  descricao_heuristica = sapply(colunas_remover, function(codigo) {\n",
        "    idx <- which(dicionario$codigo_item == codigo)\n",
        "    if (length(idx) > 0) dicionario$descricao_heuristica[idx[1]] else NA\n",
        "  }),\n",
        "  motivo = sapply(colunas_remover, function(codigo) {\n",
        "    if (codigo %in% colunas_desvio_zero) {\n",
        "      if (codigo %in% colunas_muitos_na) {\n",
        "        return(\"Desvio padrão próximo de zero e muitos NAs\")\n",
        "      } else {\n",
        "        return(\"Desvio padrão próximo de zero\")\n",
        "      }\n",
        "    } else {\n",
        "      return(\"Muitos valores NA\")\n",
        "    }\n",
        "  })\n",
        ")\n",
        "\n",
        "# Ordenação por proporção de NA\n",
        "itens_removidos <- itens_removidos[order(-itens_removidos$proporcao_na), ]\n",
        "\n",
        "# Informações detalhadas sobre os itens removidos\n",
        "print(\"Detalhes dos itens removidos:\")\n",
        "print(itens_removidos)\n"
      ],
      "metadata": {
        "id": "iTDBl2n1034P"
      },
      "execution_count": null,
      "outputs": []
    },
    {
      "cell_type": "code",
      "source": [
        "#### Análise de Validade Convergente e Discriminante\n",
        "\n",
        "# Verificação da distribuição das respostas\n",
        "summary(itens_limpos)\n",
        "apply(itens_limpos, 2, table)\n",
        "\n",
        "# Verificar tamanho da amostra\n",
        "nrow(itens_limpos)\n",
        "ncol(itens_limpos)\n",
        "\n",
        "# Regra geral: pelo menos 5-10 casos por variável\n",
        "cat(\"Razão casos/variáveis:\", nrow(itens_limpos)/ncol(itens_limpos))\n",
        "\n",
        "# Identificar variáveis com pouca variação\n",
        "variancia <- apply(itens_limpos, 2, var, na.rm = TRUE)\n",
        "variaveis_problematicas <- names(variancia[variancia < 0.1])\n",
        "print(variaveis_problematicas)\n",
        "\n",
        "# Remover se necessário\n",
        "itens_filtrados <- itens_limpos[, !names(itens_limpos) %in% variaveis_problematicas]\n",
        "\n",
        "\n",
        "# Cálculo da matriz de correlação policórica\n",
        "matriz_policorica <- polychoric(itens_limpos,\n",
        "                                smooth = TRUE,\n",
        "                                global = FALSE)\n"
      ],
      "metadata": {
        "id": "qpOTuPtH1Lxg"
      },
      "execution_count": null,
      "outputs": []
    },
    {
      "cell_type": "code",
      "source": [
        "# Salvamento da matriz de correlação policórica\n",
        "write.csv(matriz_policorica$rho, \"matriz_correlacao_policorica.csv\")\n",
        "\n",
        "# Visualização da matriz de correlação policórica\n",
        "print(\"Matriz de correlação policórica:\")\n",
        "print(round(matriz_policorica$rho, 2))"
      ],
      "metadata": {
        "id": "tKkME33e1RiF"
      },
      "execution_count": null,
      "outputs": []
    },
    {
      "cell_type": "code",
      "source": [
        "# Matriz de correlação policórica\n",
        "corrplot(matriz_policorica_smooth$rho, method = \"color\", type = \"upper\",\n",
        "         tl.col = \"black\", tl.srt = 45,\n",
        "         title = \"Matriz de Correlação Policórica\",\n",
        "         mar = c(0, 0, 1, 0))"
      ],
      "metadata": {
        "id": "O5GCATfS1oty"
      },
      "execution_count": null,
      "outputs": []
    },
    {
      "cell_type": "code",
      "source": [
        "#### Análise de validade convergente e discriminante\n",
        "\n",
        "# Identificação de itens que pertencem à mesma heurística\n",
        "\n",
        "# Criação de uma lista de heurísticas válidas (que têm itens no conjunto limpo)\n",
        "heuristicas_validas <- list()\n",
        "for (h in unique(dicionario$id_heuristica)) {\n",
        "  itens_h <- dicionario$codigo_item[dicionario$id_heuristica == h]\n",
        "  itens_validos_h <- intersect(itens_h, names(itens_limpos))\n",
        "  if (length(itens_validos_h) > 0) {\n",
        "    heuristicas_validas[[h]] <- itens_validos_h\n",
        "  }\n",
        "}\n",
        "\n",
        "# Exibição das heurísticas válidas após filtragem\n",
        "print(\"Heurísticas válidas após filtragem:\")\n",
        "print(heuristicas_validas)"
      ],
      "metadata": {
        "id": "WuUjAHk22SCT"
      },
      "execution_count": null,
      "outputs": []
    },
    {
      "cell_type": "code",
      "source": [
        "# Cálculo da média das correlações dentro de cada heurística (validade convergente)\n",
        "validade_convergente <- list()\n",
        "for (nome in names(heuristicas_validas)) {\n",
        "  itens <- heuristicas_validas[[nome]]\n",
        "  if (length(itens) > 1) {  # Precisa de pelo menos 2 itens para calcular correlação\n",
        "    correlacoes <- matriz_policorica$rho[itens, itens]\n",
        "    # Remoção da diagonal (correlações de um item com ele mesmo)\n",
        "    diag(correlacoes) <- NA\n",
        "    media_correlacao <- mean(correlacoes, na.rm = TRUE)\n",
        "    validade_convergente[[nome]] <- media_correlacao\n",
        "  } else {\n",
        "    validade_convergente[[nome]] <- NA  # Não é possível calcular com apenas 1 item\n",
        "  }\n",
        "}\n",
        "\n",
        "# Cálculo da média das correlações entre itens de diferentes heurísticas (validade discriminante)\n",
        "validade_discriminante <- matrix(NA, nrow = length(heuristicas_validas),\n",
        "                               ncol = length(heuristicas_validas))\n",
        "rownames(validade_discriminante) <- names(heuristicas_validas)\n",
        "colnames(validade_discriminante) <- names(heuristicas_validas)\n",
        "\n",
        "for (i in 1:length(heuristicas_validas)) {\n",
        "  nome_i <- names(heuristicas_validas)[i]\n",
        "  itens_i <- heuristicas_validas[[nome_i]]\n",
        "\n",
        "  for (j in 1:length(heuristicas_validas)) {\n",
        "    nome_j <- names(heuristicas_validas)[j]\n",
        "    itens_j <- heuristicas_validas[[nome_j]]\n",
        "\n",
        "    if (i != j && length(itens_i) > 0 && length(itens_j) > 0) {\n",
        "      correlacoes <- matriz_policorica$rho[itens_i, itens_j]\n",
        "      media_correlacao <- mean(correlacoes, na.rm = TRUE)\n",
        "      validade_discriminante[i, j] <- media_correlacao\n",
        "    }\n",
        "  }\n",
        "}\n",
        "\n",
        "# Conversão para dataframe para facilitar a visualização\n",
        "validade_convergente_df <- data.frame(\n",
        "  Heuristica = names(validade_convergente),\n",
        "  Media_Correlacao_Interna = unlist(validade_convergente),\n",
        "  stringsAsFactors = FALSE\n",
        ")\n",
        "\n",
        "# Adição da descrição da heurística\n",
        "validade_convergente_df$Descricao_Heuristica <- sapply(validade_convergente_df$Heuristica, function(h) {\n",
        "  idx <- which(dicionario$id_heuristica == h)\n",
        "  if (length(idx) > 0) dicionario$descricao_heuristica[idx[1]] else NA\n",
        "})\n",
        "\n"
      ],
      "metadata": {
        "id": "yQszJLwt2b0b"
      },
      "execution_count": null,
      "outputs": []
    },
    {
      "cell_type": "code",
      "source": [
        "# Salvamento dos resultados\n",
        "write.csv(validade_convergente_df, \"validade_convergente.csv\", row.names = FALSE)\n",
        "write.csv(validade_discriminante, \"validade_discriminante.csv\")\n"
      ],
      "metadata": {
        "id": "ZMCFSDEH23To"
      },
      "execution_count": null,
      "outputs": []
    },
    {
      "cell_type": "code",
      "source": [
        "# Visualização dos resultados de validade convergente\n",
        "print(\"Validade Convergente (média das correlações dentro de cada heurística):\")\n",
        "print(validade_convergente_df)\n",
        "\n",
        "# Visualização dos resultados de validade discriminante\n",
        "print(\"Validade Discriminante (média das correlações entre heurísticas diferentes):\")\n",
        "print(round(validade_discriminante, 2))"
      ],
      "metadata": {
        "id": "yd-6z6ZM24mK"
      },
      "execution_count": null,
      "outputs": []
    },
    {
      "cell_type": "code",
      "source": [
        "# Cálculo da média das correlações com outras heurísticas para cada heurística\n",
        "media_correlacoes_externas <- rowMeans(validade_discriminante, na.rm = TRUE)\n",
        "validade_comparacao <- data.frame(\n",
        "  Heuristica = names(heuristicas_validas),\n",
        "  Descricao = sapply(names(heuristicas_validas), function(h) {\n",
        "    idx <- which(dicionario$id_heuristica == h)\n",
        "    if (length(idx) > 0) dicionario$descricao_heuristica[idx[1]] else NA\n",
        "  }),\n",
        "  Convergente = unlist(validade_convergente),\n",
        "  Discriminante = media_correlacoes_externas,\n",
        "  stringsAsFactors = FALSE\n",
        ")\n",
        "\n",
        "# Salvamento da comparação\n",
        "write.csv(validade_comparacao, \"validade_comparacao.csv\", row.names = FALSE)\n",
        "\n",
        "# Visualização da comparação\n",
        "print(\"Comparação entre Validade Convergente e Discriminante:\")\n",
        "print(validade_comparacao)"
      ],
      "metadata": {
        "id": "pRMLxxSM3La6"
      },
      "execution_count": null,
      "outputs": []
    },
    {
      "cell_type": "code",
      "source": [
        "#### Análise Fatorial Exploratória (AFE) para verificar a estrutura latente dos itens\n",
        "\n",
        "# Verificação da adequação dos dados para AFE\n",
        "kmo_result <- KMO(matriz_policorica$rho)\n",
        "print(\"Índice KMO (Kaiser-Meyer-Olkin):\")\n",
        "print(kmo_result$MSA)"
      ],
      "metadata": {
        "id": "eOWMfXkP3Sw2"
      },
      "execution_count": null,
      "outputs": []
    },
    {
      "cell_type": "code",
      "source": [
        "# Teste de Bartlett para esfericidade\n",
        "bartlett_test <- cortest.bartlett(matriz_policorica$rho, n = nrow(itens_limpos))\n",
        "print(\"Teste de Bartlett para esfericidade:\")\n",
        "print(bartlett_test)"
      ],
      "metadata": {
        "id": "Bfsc_pG33ec_"
      },
      "execution_count": null,
      "outputs": []
    },
    {
      "cell_type": "code",
      "source": [
        "# Determinação do número ideal de fatores\n",
        "scree_data <- fa.parallel(matriz_policorica$rho, n.obs = nrow(itens_limpos), fa = \"fa\")\n"
      ],
      "metadata": {
        "id": "V379FaYV3ggs"
      },
      "execution_count": null,
      "outputs": []
    },
    {
      "cell_type": "code",
      "source": [
        "# Número sugerido de fatores\n",
        "n_fatores <- scree_data$nfact\n",
        "print(\"Número sugerido de fatores:\", n_fatores)\n",
        "\n",
        "# Realização da análise fatorial exploratória\n",
        "afe_resultado <- fa(matriz_policorica$rho, nfactors = n_fatores, rotate = \"varimax\", fm = \"ml\")\n",
        "print(afe_resultado)"
      ],
      "metadata": {
        "id": "H4NnutJk3l5O"
      },
      "execution_count": null,
      "outputs": []
    },
    {
      "cell_type": "code",
      "source": [
        "# Salvamento dos resultados da AFE\n",
        "sink(\"afe_resultados.txt\")\n",
        "print(afe_resultado)\n",
        "sink()"
      ],
      "metadata": {
        "id": "O176eXbX3o85"
      },
      "execution_count": null,
      "outputs": []
    },
    {
      "cell_type": "code",
      "source": [
        "# Cálculo da variância explicada por cada fator\n",
        "var_explicada <- afe_resultado$Vaccounted\n",
        "write.csv(var_explicada, \"variancia_explicada.csv\")\n",
        "\n",
        "# Exibição da variância explicada\n",
        "print(\"Variância explicada por fator:\")\n",
        "print(var_explicada)\n",
        "\n"
      ],
      "metadata": {
        "id": "LQBaICQy3oNk"
      },
      "execution_count": null,
      "outputs": []
    },
    {
      "cell_type": "code",
      "source": [
        "# Interpretação dos fatores\n",
        "# Identificação dos itens com cargas significativas em cada fator\n",
        "cargas_significativas <- afe_resultado$loadings > 0.3\n",
        "itens_por_fator <- list()\n",
        "\n",
        "for (i in 1:n_fatores) {\n",
        "  itens_fator <- rownames(afe_resultado$loadings)[cargas_significativas[, i]]\n",
        "  itens_por_fator[[paste0(\"Fator\", i)]] <- itens_fator\n",
        "\n",
        "  print(paste0(\"Itens com cargas significativas no Fator \", i, \":\"))\n",
        "  for (item in itens_fator) {\n",
        "    idx <- which(dicionario$codigo_item == item)\n",
        "    if (length(idx) > 0) {\n",
        "      heuristica <- dicionario$id_heuristica[idx]\n",
        "      descricao_h <- dicionario$descricao_heuristica[idx]\n",
        "      print(paste0(item, \" (\", heuristica, \" - \", descricao_h, \")\"))\n",
        "    } else {\n",
        "      print(item)\n",
        "    }\n",
        "  }\n",
        "  print(\"\")\n",
        "}\n",
        "\n",
        "# Salvamento da estrutura de fatores\n",
        "itens_por_fator_df <- data.frame(\n",
        "  Fator = rep(names(itens_por_fator), sapply(itens_por_fator, length)),\n",
        "  Item = unlist(itens_por_fator),\n",
        "  stringsAsFactors = FALSE\n",
        ")\n",
        "\n",
        "itens_por_fator_df$Heuristica <- sapply(itens_por_fator_df$Item, function(item) {\n",
        "  idx <- which(dicionario$codigo_item == item)\n",
        "  if (length(idx) > 0) dicionario$id_heuristica[idx[1]] else NA\n",
        "})\n",
        "\n",
        "itens_por_fator_df$Descricao_Heuristica <- sapply(itens_por_fator_df$Item, function(item) {\n",
        "  idx <- which(dicionario$codigo_item == item)\n",
        "  if (length(idx) > 0) dicionario$descricao_heuristica[idx[1]] else NA\n",
        "})\n",
        "\n",
        "write.csv(itens_por_fator_df, \"estrutura_fatores.csv\", row.names = FALSE)\n"
      ],
      "metadata": {
        "id": "XrHUclwb34ex"
      },
      "execution_count": null,
      "outputs": []
    },
    {
      "cell_type": "code",
      "source": [],
      "metadata": {
        "id": "ybS-YR2n4OXp"
      },
      "execution_count": null,
      "outputs": []
    }
  ]
}