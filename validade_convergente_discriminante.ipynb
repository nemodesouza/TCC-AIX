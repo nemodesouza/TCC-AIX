{
  "nbformat": 4,
  "nbformat_minor": 0,
  "metadata": {
    "colab": {
      "provenance": [],
      "authorship_tag": "ABX9TyMMIkgKInp5tncEL+vgIw5f",
      "include_colab_link": true
    },
    "kernelspec": {
      "name": "ir",
      "display_name": "R"
    },
    "language_info": {
      "name": "R"
    }
  },
  "cells": [
    {
      "cell_type": "markdown",
      "metadata": {
        "id": "view-in-github",
        "colab_type": "text"
      },
      "source": [
        "<a href=\"https://colab.research.google.com/github/nemodesouza/TCC-AIX/blob/main/validade_convergente_discriminante.ipynb\" target=\"_parent\"><img src=\"https://colab.research.google.com/assets/colab-badge.svg\" alt=\"Open In Colab\"/></a>"
      ]
    },
    {
      "cell_type": "code",
      "execution_count": 1,
      "metadata": {
        "colab": {
          "base_uri": "https://localhost:8080/"
        },
        "id": "mMd05MDzz6Ap",
        "outputId": "83184b19-d03a-465b-eb11-d518623f6c9b"
      },
      "outputs": [
        {
          "output_type": "stream",
          "name": "stderr",
          "text": [
            "Loading required package: psych\n",
            "\n",
            "Warning message in library(package, lib.loc = lib.loc, character.only = TRUE, logical.return = TRUE, :\n",
            "“there is no package called ‘psych’”\n",
            "Installing package into ‘/usr/local/lib/R/site-library’\n",
            "(as ‘lib’ is unspecified)\n",
            "\n",
            "also installing the dependencies ‘mnormt’, ‘GPArotation’\n",
            "\n",
            "\n",
            "Loading required package: polycor\n",
            "\n",
            "Warning message in library(package, lib.loc = lib.loc, character.only = TRUE, logical.return = TRUE, :\n",
            "“there is no package called ‘polycor’”\n",
            "Installing package into ‘/usr/local/lib/R/site-library’\n",
            "(as ‘lib’ is unspecified)\n",
            "\n",
            "also installing the dependencies ‘mvtnorm’, ‘admisc’\n",
            "\n",
            "\n",
            "Loading required package: corrplot\n",
            "\n",
            "Warning message in library(package, lib.loc = lib.loc, character.only = TRUE, logical.return = TRUE, :\n",
            "“there is no package called ‘corrplot’”\n",
            "Installing package into ‘/usr/local/lib/R/site-library’\n",
            "(as ‘lib’ is unspecified)\n",
            "\n",
            "\n",
            "Attaching package: ‘polycor’\n",
            "\n",
            "\n",
            "The following object is masked from ‘package:psych’:\n",
            "\n",
            "    polyserial\n",
            "\n",
            "\n",
            "corrplot 0.95 loaded\n",
            "\n"
          ]
        }
      ],
      "source": [
        "# UNIVERSIDADE FEDERAL DE SANTA CATARINA\n",
        "# CENTRO TECNOLÓGICO\n",
        "# DEPARTAMENTO DE INFORMÁTICA E ESTATÍSTICA\n",
        "# GRADUAÇÃO EM SISTEMAS DE INFORMAÇÃO\n",
        "# TRABALHO DE CONCLUSÃO DE CURSO\n",
        "# NEMO DE SOUZA\n",
        "\n",
        "# PA3 = Análise de Validade Convergente e Discriminante do Checklist AIX\n",
        "# Script para a análise de validade do checklist de heurísticas de AIX\n",
        "\n",
        "# Carregamento de bibliotecas\n",
        "if (!require(psych)) install.packages(\"psych\")        # Para análise fatorial\n",
        "if (!require(polycor)) install.packages(\"polycor\")    # Para correlação policórica\n",
        "if (!require(corrplot)) install.packages(\"corrplot\")  # Para visualização de correlações\n",
        "\n",
        "library(psych)\n",
        "library(polycor)\n",
        "library(corrplot)"
      ]
    },
    {
      "cell_type": "code",
      "source": [
        "# Carregamento dos dados\n",
        "dados <- \"PA2 a PA4 - matrix_avaliacao_aplicativos.csv\"\n",
        "heuristicas <- \"matriz_heuristicas_e_itens_checklist.csv\"\n",
        "\n",
        "dados <- read.csv(dados, stringsAsFactors = FALSE)\n",
        "heuristicas <- read.csv(heuristicas, stringsAsFactors = FALSE)\n",
        "\n",
        "# Verificação da estrutura dos dados\n",
        "str(dados)\n",
        "head(dados)\n",
        "\n",
        "# Verificar a estrutura das heurísticas\n",
        "str(heuristicas)\n",
        "head(heuristicas)"
      ],
      "metadata": {
        "colab": {
          "base_uri": "https://localhost:8080/",
          "height": 1000
        },
        "id": "4Jrw3VwK0eK2",
        "outputId": "c0dfad66-2982-46d9-b1b9-19e7eabb56dd"
      },
      "execution_count": 2,
      "outputs": [
        {
          "output_type": "stream",
          "name": "stdout",
          "text": [
            "'data.frame':\t127 obs. of  25 variables:\n",
            " $ N.         : int  1 2 3 4 5 6 7 8 9 10 ...\n",
            " $ Nome.do.App: chr  \"AI Dermatologist: Skin Scanner\" \"ArchAIDE\" \"Bird ID - Picture Identifier\" \"Bird Identification Apps\" ...\n",
            " $ c1         : chr  \"Sim\" \"Sim\" \"Sim\" \"Sim\" ...\n",
            " $ c2         : chr  \"Não\" \"Não\" \"Não\" \"Não\" ...\n",
            " $ c3         : chr  \"Sim\" \"Sim\" \"Sim\" \"Sim\" ...\n",
            " $ c4         : chr  \"Sim\" \"Não\" \"Não\" \"Não\" ...\n",
            " $ c5         : chr  \"Sim\" \"Sim\" \"Sim\" \"Sim\" ...\n",
            " $ c6         : chr  \"Sim\" \"Não\" \"Sim\" \"Sim\" ...\n",
            " $ c7         : chr  \"Não\" \"Não\" \"Sim\" \"Não\" ...\n",
            " $ c8         : chr  \"Sim\" NA NA NA ...\n",
            " $ c9         : chr  NA NA NA NA ...\n",
            " $ c10        : chr  \"Sim\" \"Não\" \"Não\" \"Não\" ...\n",
            " $ c11        : chr  \"Sim\" \"Sim\" \"Não\" \"Não\" ...\n",
            " $ c12        : chr  \"Não\" \"Não\" \"Não\" \"Não\" ...\n",
            " $ c13        : chr  \"Não\" \"Não\" \"Não\" \"Não\" ...\n",
            " $ c14        : chr  \"Não\" \"Não\" \"Sim\" \"Não\" ...\n",
            " $ c15        : chr  \"Não\" \"Não\" \"Sim\" \"Não\" ...\n",
            " $ c16        : chr  \"Não\" NA NA NA ...\n",
            " $ c17        : chr  NA NA NA NA ...\n",
            " $ c18        : chr  \"Sim\" \"Sim\" \"Sim\" \"Sim\" ...\n",
            " $ c19        : chr  NA NA NA NA ...\n",
            " $ c20        : chr  \"Sim\" \"Sim\" \"Sim\" \"Sim\" ...\n",
            " $ c21        : chr  NA NA NA NA ...\n",
            " $ c22        : chr  \"Não\" NA NA NA ...\n",
            " $ c23        : chr  \"Sim\" NA NA NA ...\n"
          ]
        },
        {
          "output_type": "display_data",
          "data": {
            "text/html": [
              "<table class=\"dataframe\">\n",
              "<caption>A data.frame: 6 × 25</caption>\n",
              "<thead>\n",
              "\t<tr><th></th><th scope=col>N.</th><th scope=col>Nome.do.App</th><th scope=col>c1</th><th scope=col>c2</th><th scope=col>c3</th><th scope=col>c4</th><th scope=col>c5</th><th scope=col>c6</th><th scope=col>c7</th><th scope=col>c8</th><th scope=col>⋯</th><th scope=col>c14</th><th scope=col>c15</th><th scope=col>c16</th><th scope=col>c17</th><th scope=col>c18</th><th scope=col>c19</th><th scope=col>c20</th><th scope=col>c21</th><th scope=col>c22</th><th scope=col>c23</th></tr>\n",
              "\t<tr><th></th><th scope=col>&lt;int&gt;</th><th scope=col>&lt;chr&gt;</th><th scope=col>&lt;chr&gt;</th><th scope=col>&lt;chr&gt;</th><th scope=col>&lt;chr&gt;</th><th scope=col>&lt;chr&gt;</th><th scope=col>&lt;chr&gt;</th><th scope=col>&lt;chr&gt;</th><th scope=col>&lt;chr&gt;</th><th scope=col>&lt;chr&gt;</th><th scope=col>⋯</th><th scope=col>&lt;chr&gt;</th><th scope=col>&lt;chr&gt;</th><th scope=col>&lt;chr&gt;</th><th scope=col>&lt;chr&gt;</th><th scope=col>&lt;chr&gt;</th><th scope=col>&lt;chr&gt;</th><th scope=col>&lt;chr&gt;</th><th scope=col>&lt;chr&gt;</th><th scope=col>&lt;chr&gt;</th><th scope=col>&lt;chr&gt;</th></tr>\n",
              "</thead>\n",
              "<tbody>\n",
              "\t<tr><th scope=row>1</th><td>1</td><td>AI Dermatologist: Skin Scanner</td><td>Sim</td><td>Não</td><td>Sim</td><td>Sim</td><td>Sim</td><td>Sim</td><td>Não</td><td>Sim</td><td>⋯</td><td>Não</td><td>Não</td><td>Não</td><td>NA </td><td>Sim</td><td>NA</td><td>Sim</td><td>NA</td><td>Não</td><td>Sim</td></tr>\n",
              "\t<tr><th scope=row>2</th><td>2</td><td>ArchAIDE                      </td><td>Sim</td><td>Não</td><td>Sim</td><td>Não</td><td>Sim</td><td>Não</td><td>Não</td><td>NA </td><td>⋯</td><td>Não</td><td>Não</td><td>NA </td><td>NA </td><td>Sim</td><td>NA</td><td>Sim</td><td>NA</td><td>NA </td><td>NA </td></tr>\n",
              "\t<tr><th scope=row>3</th><td>3</td><td>Bird ID - Picture Identifier  </td><td>Sim</td><td>Não</td><td>Sim</td><td>Não</td><td>Sim</td><td>Sim</td><td>Sim</td><td>NA </td><td>⋯</td><td>Sim</td><td>Sim</td><td>NA </td><td>NA </td><td>Sim</td><td>NA</td><td>Sim</td><td>NA</td><td>NA </td><td>NA </td></tr>\n",
              "\t<tr><th scope=row>4</th><td>4</td><td>Bird Identification Apps      </td><td>Sim</td><td>Não</td><td>Sim</td><td>Não</td><td>Sim</td><td>Sim</td><td>Não</td><td>NA </td><td>⋯</td><td>Não</td><td>Não</td><td>NA </td><td>NA </td><td>Sim</td><td>NA</td><td>Sim</td><td>NA</td><td>NA </td><td>NA </td></tr>\n",
              "\t<tr><th scope=row>5</th><td>5</td><td>CamFind                       </td><td>Sim</td><td>Não</td><td>Sim</td><td>Não</td><td>Sim</td><td>Não</td><td>NA </td><td>NA </td><td>⋯</td><td>NA </td><td>Não</td><td>NA </td><td>Não</td><td>NA </td><td>NA</td><td>Sim</td><td>NA</td><td>NA </td><td>NA </td></tr>\n",
              "\t<tr><th scope=row>6</th><td>6</td><td>Cash Reader: Bill Identifier  </td><td>Sim</td><td>Não</td><td>Sim</td><td>Não</td><td>Não</td><td>Não</td><td>NA </td><td>NA </td><td>⋯</td><td>Não</td><td>Não</td><td>NA </td><td>NA </td><td>Sim</td><td>NA</td><td>Sim</td><td>NA</td><td>NA </td><td>NA </td></tr>\n",
              "</tbody>\n",
              "</table>\n"
            ],
            "text/markdown": "\nA data.frame: 6 × 25\n\n| <!--/--> | N. &lt;int&gt; | Nome.do.App &lt;chr&gt; | c1 &lt;chr&gt; | c2 &lt;chr&gt; | c3 &lt;chr&gt; | c4 &lt;chr&gt; | c5 &lt;chr&gt; | c6 &lt;chr&gt; | c7 &lt;chr&gt; | c8 &lt;chr&gt; | ⋯ ⋯ | c14 &lt;chr&gt; | c15 &lt;chr&gt; | c16 &lt;chr&gt; | c17 &lt;chr&gt; | c18 &lt;chr&gt; | c19 &lt;chr&gt; | c20 &lt;chr&gt; | c21 &lt;chr&gt; | c22 &lt;chr&gt; | c23 &lt;chr&gt; |\n|---|---|---|---|---|---|---|---|---|---|---|---|---|---|---|---|---|---|---|---|---|---|\n| 1 | 1 | AI Dermatologist: Skin Scanner | Sim | Não | Sim | Sim | Sim | Sim | Não | Sim | ⋯ | Não | Não | Não | NA  | Sim | NA | Sim | NA | Não | Sim |\n| 2 | 2 | ArchAIDE                       | Sim | Não | Sim | Não | Sim | Não | Não | NA  | ⋯ | Não | Não | NA  | NA  | Sim | NA | Sim | NA | NA  | NA  |\n| 3 | 3 | Bird ID - Picture Identifier   | Sim | Não | Sim | Não | Sim | Sim | Sim | NA  | ⋯ | Sim | Sim | NA  | NA  | Sim | NA | Sim | NA | NA  | NA  |\n| 4 | 4 | Bird Identification Apps       | Sim | Não | Sim | Não | Sim | Sim | Não | NA  | ⋯ | Não | Não | NA  | NA  | Sim | NA | Sim | NA | NA  | NA  |\n| 5 | 5 | CamFind                        | Sim | Não | Sim | Não | Sim | Não | NA  | NA  | ⋯ | NA  | Não | NA  | Não | NA  | NA | Sim | NA | NA  | NA  |\n| 6 | 6 | Cash Reader: Bill Identifier   | Sim | Não | Sim | Não | Não | Não | NA  | NA  | ⋯ | Não | Não | NA  | NA  | Sim | NA | Sim | NA | NA  | NA  |\n\n",
            "text/latex": "A data.frame: 6 × 25\n\\begin{tabular}{r|lllllllllllllllllllll}\n  & N. & Nome.do.App & c1 & c2 & c3 & c4 & c5 & c6 & c7 & c8 & ⋯ & c14 & c15 & c16 & c17 & c18 & c19 & c20 & c21 & c22 & c23\\\\\n  & <int> & <chr> & <chr> & <chr> & <chr> & <chr> & <chr> & <chr> & <chr> & <chr> & ⋯ & <chr> & <chr> & <chr> & <chr> & <chr> & <chr> & <chr> & <chr> & <chr> & <chr>\\\\\n\\hline\n\t1 & 1 & AI Dermatologist: Skin Scanner & Sim & Não & Sim & Sim & Sim & Sim & Não & Sim & ⋯ & Não & Não & Não & NA  & Sim & NA & Sim & NA & Não & Sim\\\\\n\t2 & 2 & ArchAIDE                       & Sim & Não & Sim & Não & Sim & Não & Não & NA  & ⋯ & Não & Não & NA  & NA  & Sim & NA & Sim & NA & NA  & NA \\\\\n\t3 & 3 & Bird ID - Picture Identifier   & Sim & Não & Sim & Não & Sim & Sim & Sim & NA  & ⋯ & Sim & Sim & NA  & NA  & Sim & NA & Sim & NA & NA  & NA \\\\\n\t4 & 4 & Bird Identification Apps       & Sim & Não & Sim & Não & Sim & Sim & Não & NA  & ⋯ & Não & Não & NA  & NA  & Sim & NA & Sim & NA & NA  & NA \\\\\n\t5 & 5 & CamFind                        & Sim & Não & Sim & Não & Sim & Não & NA  & NA  & ⋯ & NA  & Não & NA  & Não & NA  & NA & Sim & NA & NA  & NA \\\\\n\t6 & 6 & Cash Reader: Bill Identifier   & Sim & Não & Sim & Não & Não & Não & NA  & NA  & ⋯ & Não & Não & NA  & NA  & Sim & NA & Sim & NA & NA  & NA \\\\\n\\end{tabular}\n",
            "text/plain": [
              "  N. Nome.do.App                    c1  c2  c3  c4  c5  c6  c7  c8  ⋯ c14 c15\n",
              "1 1  AI Dermatologist: Skin Scanner Sim Não Sim Sim Sim Sim Não Sim ⋯ Não Não\n",
              "2 2  ArchAIDE                       Sim Não Sim Não Sim Não Não NA  ⋯ Não Não\n",
              "3 3  Bird ID - Picture Identifier   Sim Não Sim Não Sim Sim Sim NA  ⋯ Sim Sim\n",
              "4 4  Bird Identification Apps       Sim Não Sim Não Sim Sim Não NA  ⋯ Não Não\n",
              "5 5  CamFind                        Sim Não Sim Não Sim Não NA  NA  ⋯ NA  Não\n",
              "6 6  Cash Reader: Bill Identifier   Sim Não Sim Não Não Não NA  NA  ⋯ Não Não\n",
              "  c16 c17 c18 c19 c20 c21 c22 c23\n",
              "1 Não NA  Sim NA  Sim NA  Não Sim\n",
              "2 NA  NA  Sim NA  Sim NA  NA  NA \n",
              "3 NA  NA  Sim NA  Sim NA  NA  NA \n",
              "4 NA  NA  Sim NA  Sim NA  NA  NA \n",
              "5 NA  Não NA  NA  Sim NA  NA  NA \n",
              "6 NA  NA  Sim NA  Sim NA  NA  NA "
            ]
          },
          "metadata": {}
        },
        {
          "output_type": "stream",
          "name": "stdout",
          "text": [
            "'data.frame':\t23 obs. of  6 variables:\n",
            " $ ID.Heurística     : chr  \"h1\" \"h1\" \"h1\" \"h2\" ...\n",
            " $ Heurística        : chr  \"Deixar as expectativas e limitações explícitas\" \"Deixar as expectativas e limitações explícitas\" \"Deixar as expectativas e limitações explícitas\" \"Apoiar o uso efetivo\" ...\n",
            " $ ID.checklist      : chr  \"c1\" \"c2\" \"c3\" \"c4\" ...\n",
            " $ Item.de.checklist : chr  \"1. O app deixa claro quais classes ele pode classificar?\" \"2. O aplicativo deixa claro o quão bem ele pode fazer a classificação de imagens?\" \"3. O aplicativo fornece explicações compreensíveis?\" \"4. O app mostra dicas de como tirar fotos com qualidade adequada?\" ...\n",
            " $ Explicação.do.item: chr  \"O app apresenta as classes que é capaz de distinguir antes do usuário poder classificar uma imagem. (p.ex. na tela home).\" \"O app apresenta ao usuário o grau do seu desempenho (p.ex. acurácia) antes do usuário poder classificar uma ima\"| __truncated__ \"O app utiliza apenas uma terminologia compreensível pelo público alvo, evitando jargão técnico, ao apresentar a\"| __truncated__ \"O app apresenta instruções/dicas para guiar o usuário a tirar fotos com qualidade adequada para a classificação.\" ...\n",
            " $ Escala.de.resposta: chr  \"Sim, Não\" \"Sim, Não\" \"Sim, Não\" \"Sim, Não\" ...\n"
          ]
        },
        {
          "output_type": "display_data",
          "data": {
            "text/html": [
              "<table class=\"dataframe\">\n",
              "<caption>A data.frame: 6 × 6</caption>\n",
              "<thead>\n",
              "\t<tr><th></th><th scope=col>ID.Heurística</th><th scope=col>Heurística</th><th scope=col>ID.checklist</th><th scope=col>Item.de.checklist</th><th scope=col>Explicação.do.item</th><th scope=col>Escala.de.resposta</th></tr>\n",
              "\t<tr><th></th><th scope=col>&lt;chr&gt;</th><th scope=col>&lt;chr&gt;</th><th scope=col>&lt;chr&gt;</th><th scope=col>&lt;chr&gt;</th><th scope=col>&lt;chr&gt;</th><th scope=col>&lt;chr&gt;</th></tr>\n",
              "</thead>\n",
              "<tbody>\n",
              "\t<tr><th scope=row>1</th><td>h1</td><td>Deixar as expectativas e limitações explícitas                           </td><td>c1</td><td>1. O app deixa claro quais classes ele pode classificar?                           </td><td>O app apresenta as classes que é capaz de distinguir antes do usuário poder classificar uma imagem. (p.ex. na tela home).                  </td><td>Sim, Não</td></tr>\n",
              "\t<tr><th scope=row>2</th><td>h1</td><td>Deixar as expectativas e limitações explícitas                           </td><td>c2</td><td>2. O aplicativo deixa claro o quão bem ele pode fazer a classificação de imagens?  </td><td>O app apresenta ao usuário o grau do seu desempenho (p.ex. acurácia) antes do usuário poder classificar uma imagem. p.ex. na tela home).   </td><td>Sim, Não</td></tr>\n",
              "\t<tr><th scope=row>3</th><td>h1</td><td>Deixar as expectativas e limitações explícitas                           </td><td>c3</td><td>3. O aplicativo fornece explicações compreensíveis?                                </td><td>O app utiliza apenas uma terminologia compreensível pelo público alvo, evitando jargão técnico, ao apresentar as expectativas e limitações.</td><td>Sim, Não</td></tr>\n",
              "\t<tr><th scope=row>4</th><td>h2</td><td>Apoiar o uso efetivo                                                     </td><td>c4</td><td>4. O app mostra dicas de como tirar fotos com qualidade adequada?                  </td><td>O app apresenta instruções/dicas para guiar o usuário a tirar fotos com qualidade adequada para a classificação.                           </td><td>Sim, Não</td></tr>\n",
              "\t<tr><th scope=row>5</th><td>h2</td><td>Apoiar o uso efetivo                                                     </td><td>c5</td><td>5. O app visualiza o status durante o processamento da classificação?              </td><td>O app apresenta elementos para visualizar o status do progresso durante o processamento da classificação.                                  </td><td>Sim, Não</td></tr>\n",
              "\t<tr><th scope=row>6</th><td>h3</td><td>Apoiar a compreensão do usuário sobre \n",
              "incerteza e a confiança do modelo</td><td>c6</td><td>6. O app deixa claro que existe incerteza em relação ao resultado da classificação?</td><td>O resultado da classificação é apresentado indicando que existe uma incerteza em relação a este resultado.                                 </td><td>Sim, Não</td></tr>\n",
              "</tbody>\n",
              "</table>\n"
            ],
            "text/markdown": "\nA data.frame: 6 × 6\n\n| <!--/--> | ID.Heurística &lt;chr&gt; | Heurística &lt;chr&gt; | ID.checklist &lt;chr&gt; | Item.de.checklist &lt;chr&gt; | Explicação.do.item &lt;chr&gt; | Escala.de.resposta &lt;chr&gt; |\n|---|---|---|---|---|---|---|\n| 1 | h1 | Deixar as expectativas e limitações explícitas                            | c1 | 1. O app deixa claro quais classes ele pode classificar?                            | O app apresenta as classes que é capaz de distinguir antes do usuário poder classificar uma imagem. (p.ex. na tela home).                   | Sim, Não |\n| 2 | h1 | Deixar as expectativas e limitações explícitas                            | c2 | 2. O aplicativo deixa claro o quão bem ele pode fazer a classificação de imagens?   | O app apresenta ao usuário o grau do seu desempenho (p.ex. acurácia) antes do usuário poder classificar uma imagem. p.ex. na tela home).    | Sim, Não |\n| 3 | h1 | Deixar as expectativas e limitações explícitas                            | c3 | 3. O aplicativo fornece explicações compreensíveis?                                 | O app utiliza apenas uma terminologia compreensível pelo público alvo, evitando jargão técnico, ao apresentar as expectativas e limitações. | Sim, Não |\n| 4 | h2 | Apoiar o uso efetivo                                                      | c4 | 4. O app mostra dicas de como tirar fotos com qualidade adequada?                   | O app apresenta instruções/dicas para guiar o usuário a tirar fotos com qualidade adequada para a classificação.                            | Sim, Não |\n| 5 | h2 | Apoiar o uso efetivo                                                      | c5 | 5. O app visualiza o status durante o processamento da classificação?               | O app apresenta elementos para visualizar o status do progresso durante o processamento da classificação.                                   | Sim, Não |\n| 6 | h3 | Apoiar a compreensão do usuário sobre \nincerteza e a confiança do modelo | c6 | 6. O app deixa claro que existe incerteza em relação ao resultado da classificação? | O resultado da classificação é apresentado indicando que existe uma incerteza em relação a este resultado.                                  | Sim, Não |\n\n",
            "text/latex": "A data.frame: 6 × 6\n\\begin{tabular}{r|llllll}\n  & ID.Heurística & Heurística & ID.checklist & Item.de.checklist & Explicação.do.item & Escala.de.resposta\\\\\n  & <chr> & <chr> & <chr> & <chr> & <chr> & <chr>\\\\\n\\hline\n\t1 & h1 & Deixar as expectativas e limitações explícitas                            & c1 & 1. O app deixa claro quais classes ele pode classificar?                            & O app apresenta as classes que é capaz de distinguir antes do usuário poder classificar uma imagem. (p.ex. na tela home).                   & Sim, Não\\\\\n\t2 & h1 & Deixar as expectativas e limitações explícitas                            & c2 & 2. O aplicativo deixa claro o quão bem ele pode fazer a classificação de imagens?   & O app apresenta ao usuário o grau do seu desempenho (p.ex. acurácia) antes do usuário poder classificar uma imagem. p.ex. na tela home).    & Sim, Não\\\\\n\t3 & h1 & Deixar as expectativas e limitações explícitas                            & c3 & 3. O aplicativo fornece explicações compreensíveis?                                 & O app utiliza apenas uma terminologia compreensível pelo público alvo, evitando jargão técnico, ao apresentar as expectativas e limitações. & Sim, Não\\\\\n\t4 & h2 & Apoiar o uso efetivo                                                      & c4 & 4. O app mostra dicas de como tirar fotos com qualidade adequada?                   & O app apresenta instruções/dicas para guiar o usuário a tirar fotos com qualidade adequada para a classificação.                            & Sim, Não\\\\\n\t5 & h2 & Apoiar o uso efetivo                                                      & c5 & 5. O app visualiza o status durante o processamento da classificação?               & O app apresenta elementos para visualizar o status do progresso durante o processamento da classificação.                                   & Sim, Não\\\\\n\t6 & h3 & Apoiar a compreensão do usuário sobre \nincerteza e a confiança do modelo & c6 & 6. O app deixa claro que existe incerteza em relação ao resultado da classificação? & O resultado da classificação é apresentado indicando que existe uma incerteza em relação a este resultado.                                  & Sim, Não\\\\\n\\end{tabular}\n",
            "text/plain": [
              "  ID.Heurística\n",
              "1 h1           \n",
              "2 h1           \n",
              "3 h1           \n",
              "4 h2           \n",
              "5 h2           \n",
              "6 h3           \n",
              "  Heurística                                                               \n",
              "1 Deixar as expectativas e limitações explícitas                           \n",
              "2 Deixar as expectativas e limitações explícitas                           \n",
              "3 Deixar as expectativas e limitações explícitas                           \n",
              "4 Apoiar o uso efetivo                                                     \n",
              "5 Apoiar o uso efetivo                                                     \n",
              "6 Apoiar a compreensão do usuário sobre \\nincerteza e a confiança do modelo\n",
              "  ID.checklist\n",
              "1 c1          \n",
              "2 c2          \n",
              "3 c3          \n",
              "4 c4          \n",
              "5 c5          \n",
              "6 c6          \n",
              "  Item.de.checklist                                                                  \n",
              "1 1. O app deixa claro quais classes ele pode classificar?                           \n",
              "2 2. O aplicativo deixa claro o quão bem ele pode fazer a classificação de imagens?  \n",
              "3 3. O aplicativo fornece explicações compreensíveis?                                \n",
              "4 4. O app mostra dicas de como tirar fotos com qualidade adequada?                  \n",
              "5 5. O app visualiza o status durante o processamento da classificação?              \n",
              "6 6. O app deixa claro que existe incerteza em relação ao resultado da classificação?\n",
              "  Explicação.do.item                                                                                                                         \n",
              "1 O app apresenta as classes que é capaz de distinguir antes do usuário poder classificar uma imagem. (p.ex. na tela home).                  \n",
              "2 O app apresenta ao usuário o grau do seu desempenho (p.ex. acurácia) antes do usuário poder classificar uma imagem. p.ex. na tela home).   \n",
              "3 O app utiliza apenas uma terminologia compreensível pelo público alvo, evitando jargão técnico, ao apresentar as expectativas e limitações.\n",
              "4 O app apresenta instruções/dicas para guiar o usuário a tirar fotos com qualidade adequada para a classificação.                           \n",
              "5 O app apresenta elementos para visualizar o status do progresso durante o processamento da classificação.                                  \n",
              "6 O resultado da classificação é apresentado indicando que existe uma incerteza em relação a este resultado.                                 \n",
              "  Escala.de.resposta\n",
              "1 Sim, Não          \n",
              "2 Sim, Não          \n",
              "3 Sim, Não          \n",
              "4 Sim, Não          \n",
              "5 Sim, Não          \n",
              "6 Sim, Não          "
            ]
          },
          "metadata": {}
        }
      ]
    },
    {
      "cell_type": "code",
      "source": [
        "#### Preparação dos dados para análise\n",
        "\n",
        "# Seleção das colunas dos itens (c1 a c23)\n",
        "itens <- dados[, grep(\"^c\\\\d+$\", names(dados))]\n",
        "\n",
        "# Conversão das respostas para valores numéricos (Sim = 1, Não = 0, NA = NA)\n",
        "itens_num <- as.data.frame(lapply(itens, function(x) {\n",
        "  ifelse(x == \"Sim\", 1, ifelse(x == \"Não\", 0, NA))\n",
        "}))\n",
        "\n",
        "# Verificação da conversão\n",
        "head(itens_num)"
      ],
      "metadata": {
        "colab": {
          "base_uri": "https://localhost:8080/",
          "height": 306
        },
        "id": "gaDjbmnW0hyn",
        "outputId": "e1669327-4e55-47a2-83b5-ae72f1183129"
      },
      "execution_count": 3,
      "outputs": [
        {
          "output_type": "display_data",
          "data": {
            "text/html": [
              "<table class=\"dataframe\">\n",
              "<caption>A data.frame: 6 × 23</caption>\n",
              "<thead>\n",
              "\t<tr><th></th><th scope=col>c1</th><th scope=col>c2</th><th scope=col>c3</th><th scope=col>c4</th><th scope=col>c5</th><th scope=col>c6</th><th scope=col>c7</th><th scope=col>c8</th><th scope=col>c9</th><th scope=col>c10</th><th scope=col>⋯</th><th scope=col>c14</th><th scope=col>c15</th><th scope=col>c16</th><th scope=col>c17</th><th scope=col>c18</th><th scope=col>c19</th><th scope=col>c20</th><th scope=col>c21</th><th scope=col>c22</th><th scope=col>c23</th></tr>\n",
              "\t<tr><th></th><th scope=col>&lt;dbl&gt;</th><th scope=col>&lt;dbl&gt;</th><th scope=col>&lt;dbl&gt;</th><th scope=col>&lt;dbl&gt;</th><th scope=col>&lt;dbl&gt;</th><th scope=col>&lt;dbl&gt;</th><th scope=col>&lt;dbl&gt;</th><th scope=col>&lt;dbl&gt;</th><th scope=col>&lt;dbl&gt;</th><th scope=col>&lt;dbl&gt;</th><th scope=col>⋯</th><th scope=col>&lt;dbl&gt;</th><th scope=col>&lt;dbl&gt;</th><th scope=col>&lt;dbl&gt;</th><th scope=col>&lt;dbl&gt;</th><th scope=col>&lt;dbl&gt;</th><th scope=col>&lt;dbl&gt;</th><th scope=col>&lt;dbl&gt;</th><th scope=col>&lt;dbl&gt;</th><th scope=col>&lt;dbl&gt;</th><th scope=col>&lt;dbl&gt;</th></tr>\n",
              "</thead>\n",
              "<tbody>\n",
              "\t<tr><th scope=row>1</th><td>1</td><td>0</td><td>1</td><td>1</td><td>1</td><td>1</td><td> 0</td><td> 1</td><td>NA</td><td>1</td><td>⋯</td><td> 0</td><td>0</td><td> 0</td><td>NA</td><td> 1</td><td>NA</td><td>1</td><td>NA</td><td> 0</td><td> 1</td></tr>\n",
              "\t<tr><th scope=row>2</th><td>1</td><td>0</td><td>1</td><td>0</td><td>1</td><td>0</td><td> 0</td><td>NA</td><td>NA</td><td>0</td><td>⋯</td><td> 0</td><td>0</td><td>NA</td><td>NA</td><td> 1</td><td>NA</td><td>1</td><td>NA</td><td>NA</td><td>NA</td></tr>\n",
              "\t<tr><th scope=row>3</th><td>1</td><td>0</td><td>1</td><td>0</td><td>1</td><td>1</td><td> 1</td><td>NA</td><td>NA</td><td>0</td><td>⋯</td><td> 1</td><td>1</td><td>NA</td><td>NA</td><td> 1</td><td>NA</td><td>1</td><td>NA</td><td>NA</td><td>NA</td></tr>\n",
              "\t<tr><th scope=row>4</th><td>1</td><td>0</td><td>1</td><td>0</td><td>1</td><td>1</td><td> 0</td><td>NA</td><td>NA</td><td>0</td><td>⋯</td><td> 0</td><td>0</td><td>NA</td><td>NA</td><td> 1</td><td>NA</td><td>1</td><td>NA</td><td>NA</td><td>NA</td></tr>\n",
              "\t<tr><th scope=row>5</th><td>1</td><td>0</td><td>1</td><td>0</td><td>1</td><td>0</td><td>NA</td><td>NA</td><td> 0</td><td>0</td><td>⋯</td><td>NA</td><td>0</td><td>NA</td><td> 0</td><td>NA</td><td>NA</td><td>1</td><td>NA</td><td>NA</td><td>NA</td></tr>\n",
              "\t<tr><th scope=row>6</th><td>1</td><td>0</td><td>1</td><td>0</td><td>0</td><td>0</td><td>NA</td><td>NA</td><td>NA</td><td>0</td><td>⋯</td><td> 0</td><td>0</td><td>NA</td><td>NA</td><td> 1</td><td>NA</td><td>1</td><td>NA</td><td>NA</td><td>NA</td></tr>\n",
              "</tbody>\n",
              "</table>\n"
            ],
            "text/markdown": "\nA data.frame: 6 × 23\n\n| <!--/--> | c1 &lt;dbl&gt; | c2 &lt;dbl&gt; | c3 &lt;dbl&gt; | c4 &lt;dbl&gt; | c5 &lt;dbl&gt; | c6 &lt;dbl&gt; | c7 &lt;dbl&gt; | c8 &lt;dbl&gt; | c9 &lt;dbl&gt; | c10 &lt;dbl&gt; | ⋯ ⋯ | c14 &lt;dbl&gt; | c15 &lt;dbl&gt; | c16 &lt;dbl&gt; | c17 &lt;dbl&gt; | c18 &lt;dbl&gt; | c19 &lt;dbl&gt; | c20 &lt;dbl&gt; | c21 &lt;dbl&gt; | c22 &lt;dbl&gt; | c23 &lt;dbl&gt; |\n|---|---|---|---|---|---|---|---|---|---|---|---|---|---|---|---|---|---|---|---|---|---|\n| 1 | 1 | 0 | 1 | 1 | 1 | 1 |  0 |  1 | NA | 1 | ⋯ |  0 | 0 |  0 | NA |  1 | NA | 1 | NA |  0 |  1 |\n| 2 | 1 | 0 | 1 | 0 | 1 | 0 |  0 | NA | NA | 0 | ⋯ |  0 | 0 | NA | NA |  1 | NA | 1 | NA | NA | NA |\n| 3 | 1 | 0 | 1 | 0 | 1 | 1 |  1 | NA | NA | 0 | ⋯ |  1 | 1 | NA | NA |  1 | NA | 1 | NA | NA | NA |\n| 4 | 1 | 0 | 1 | 0 | 1 | 1 |  0 | NA | NA | 0 | ⋯ |  0 | 0 | NA | NA |  1 | NA | 1 | NA | NA | NA |\n| 5 | 1 | 0 | 1 | 0 | 1 | 0 | NA | NA |  0 | 0 | ⋯ | NA | 0 | NA |  0 | NA | NA | 1 | NA | NA | NA |\n| 6 | 1 | 0 | 1 | 0 | 0 | 0 | NA | NA | NA | 0 | ⋯ |  0 | 0 | NA | NA |  1 | NA | 1 | NA | NA | NA |\n\n",
            "text/latex": "A data.frame: 6 × 23\n\\begin{tabular}{r|lllllllllllllllllllll}\n  & c1 & c2 & c3 & c4 & c5 & c6 & c7 & c8 & c9 & c10 & ⋯ & c14 & c15 & c16 & c17 & c18 & c19 & c20 & c21 & c22 & c23\\\\\n  & <dbl> & <dbl> & <dbl> & <dbl> & <dbl> & <dbl> & <dbl> & <dbl> & <dbl> & <dbl> & ⋯ & <dbl> & <dbl> & <dbl> & <dbl> & <dbl> & <dbl> & <dbl> & <dbl> & <dbl> & <dbl>\\\\\n\\hline\n\t1 & 1 & 0 & 1 & 1 & 1 & 1 &  0 &  1 & NA & 1 & ⋯ &  0 & 0 &  0 & NA &  1 & NA & 1 & NA &  0 &  1\\\\\n\t2 & 1 & 0 & 1 & 0 & 1 & 0 &  0 & NA & NA & 0 & ⋯ &  0 & 0 & NA & NA &  1 & NA & 1 & NA & NA & NA\\\\\n\t3 & 1 & 0 & 1 & 0 & 1 & 1 &  1 & NA & NA & 0 & ⋯ &  1 & 1 & NA & NA &  1 & NA & 1 & NA & NA & NA\\\\\n\t4 & 1 & 0 & 1 & 0 & 1 & 1 &  0 & NA & NA & 0 & ⋯ &  0 & 0 & NA & NA &  1 & NA & 1 & NA & NA & NA\\\\\n\t5 & 1 & 0 & 1 & 0 & 1 & 0 & NA & NA &  0 & 0 & ⋯ & NA & 0 & NA &  0 & NA & NA & 1 & NA & NA & NA\\\\\n\t6 & 1 & 0 & 1 & 0 & 0 & 0 & NA & NA & NA & 0 & ⋯ &  0 & 0 & NA & NA &  1 & NA & 1 & NA & NA & NA\\\\\n\\end{tabular}\n",
            "text/plain": [
              "  c1 c2 c3 c4 c5 c6 c7 c8 c9 c10 ⋯ c14 c15 c16 c17 c18 c19 c20 c21 c22 c23\n",
              "1 1  0  1  1  1  1   0  1 NA 1   ⋯  0  0    0  NA   1  NA  1   NA   0   1 \n",
              "2 1  0  1  0  1  0   0 NA NA 0   ⋯  0  0   NA  NA   1  NA  1   NA  NA  NA \n",
              "3 1  0  1  0  1  1   1 NA NA 0   ⋯  1  1   NA  NA   1  NA  1   NA  NA  NA \n",
              "4 1  0  1  0  1  1   0 NA NA 0   ⋯  0  0   NA  NA   1  NA  1   NA  NA  NA \n",
              "5 1  0  1  0  1  0  NA NA  0 0   ⋯ NA  0   NA   0  NA  NA  1   NA  NA  NA \n",
              "6 1  0  1  0  0  0  NA NA NA 0   ⋯  0  0   NA  NA   1  NA  1   NA  NA  NA "
            ]
          },
          "metadata": {}
        }
      ]
    },
    {
      "cell_type": "code",
      "source": [
        "#### Criação do dicionário para mapear códigos de itens para descrições de heurísticas\n",
        "\n",
        "# Estrutura arquivo:\n",
        "# - ID Heurística: h1, h2, etc.\n",
        "# - Heurística: Descrição da heurística\n",
        "# - ID checklist: c1, c2, etc.\n",
        "# - Item de checklist: Descrição do checklist\n",
        "\n",
        "id_heuristicas <- heuristicas$ID.Heurística\n",
        "descricoes_heuristicas <- heuristicas$Heurística\n",
        "codigos_itens <- heuristicas$ID.checklist\n",
        "descricoes_itens <- heuristicas$Item.de.checklist\n",
        "\n",
        "# Criação dataframe de mapeamento\n",
        "dicionario <- data.frame(\n",
        "  codigo_item = codigos_itens,\n",
        "  descricao_item = descricoes_itens,\n",
        "  id_heuristica = id_heuristicas,\n",
        "  descricao_heuristica = descricoes_heuristicas,\n",
        "  stringsAsFactors = FALSE\n",
        ")\n",
        "\n",
        "# Verificação o dicionário criado\n",
        "head(dicionario)"
      ],
      "metadata": {
        "colab": {
          "base_uri": "https://localhost:8080/",
          "height": 373
        },
        "id": "drie-lE000K2",
        "outputId": "247a1167-1e4d-4350-89dd-e0093d312892"
      },
      "execution_count": 4,
      "outputs": [
        {
          "output_type": "display_data",
          "data": {
            "text/html": [
              "<table class=\"dataframe\">\n",
              "<caption>A data.frame: 6 × 4</caption>\n",
              "<thead>\n",
              "\t<tr><th></th><th scope=col>codigo_item</th><th scope=col>descricao_item</th><th scope=col>id_heuristica</th><th scope=col>descricao_heuristica</th></tr>\n",
              "\t<tr><th></th><th scope=col>&lt;chr&gt;</th><th scope=col>&lt;chr&gt;</th><th scope=col>&lt;chr&gt;</th><th scope=col>&lt;chr&gt;</th></tr>\n",
              "</thead>\n",
              "<tbody>\n",
              "\t<tr><th scope=row>1</th><td>c1</td><td>1. O app deixa claro quais classes ele pode classificar?                           </td><td>h1</td><td>Deixar as expectativas e limitações explícitas                           </td></tr>\n",
              "\t<tr><th scope=row>2</th><td>c2</td><td>2. O aplicativo deixa claro o quão bem ele pode fazer a classificação de imagens?  </td><td>h1</td><td>Deixar as expectativas e limitações explícitas                           </td></tr>\n",
              "\t<tr><th scope=row>3</th><td>c3</td><td>3. O aplicativo fornece explicações compreensíveis?                                </td><td>h1</td><td>Deixar as expectativas e limitações explícitas                           </td></tr>\n",
              "\t<tr><th scope=row>4</th><td>c4</td><td>4. O app mostra dicas de como tirar fotos com qualidade adequada?                  </td><td>h2</td><td>Apoiar o uso efetivo                                                     </td></tr>\n",
              "\t<tr><th scope=row>5</th><td>c5</td><td>5. O app visualiza o status durante o processamento da classificação?              </td><td>h2</td><td>Apoiar o uso efetivo                                                     </td></tr>\n",
              "\t<tr><th scope=row>6</th><td>c6</td><td>6. O app deixa claro que existe incerteza em relação ao resultado da classificação?</td><td>h3</td><td>Apoiar a compreensão do usuário sobre \n",
              "incerteza e a confiança do modelo</td></tr>\n",
              "</tbody>\n",
              "</table>\n"
            ],
            "text/markdown": "\nA data.frame: 6 × 4\n\n| <!--/--> | codigo_item &lt;chr&gt; | descricao_item &lt;chr&gt; | id_heuristica &lt;chr&gt; | descricao_heuristica &lt;chr&gt; |\n|---|---|---|---|---|\n| 1 | c1 | 1. O app deixa claro quais classes ele pode classificar?                            | h1 | Deixar as expectativas e limitações explícitas                            |\n| 2 | c2 | 2. O aplicativo deixa claro o quão bem ele pode fazer a classificação de imagens?   | h1 | Deixar as expectativas e limitações explícitas                            |\n| 3 | c3 | 3. O aplicativo fornece explicações compreensíveis?                                 | h1 | Deixar as expectativas e limitações explícitas                            |\n| 4 | c4 | 4. O app mostra dicas de como tirar fotos com qualidade adequada?                   | h2 | Apoiar o uso efetivo                                                      |\n| 5 | c5 | 5. O app visualiza o status durante o processamento da classificação?               | h2 | Apoiar o uso efetivo                                                      |\n| 6 | c6 | 6. O app deixa claro que existe incerteza em relação ao resultado da classificação? | h3 | Apoiar a compreensão do usuário sobre \nincerteza e a confiança do modelo |\n\n",
            "text/latex": "A data.frame: 6 × 4\n\\begin{tabular}{r|llll}\n  & codigo\\_item & descricao\\_item & id\\_heuristica & descricao\\_heuristica\\\\\n  & <chr> & <chr> & <chr> & <chr>\\\\\n\\hline\n\t1 & c1 & 1. O app deixa claro quais classes ele pode classificar?                            & h1 & Deixar as expectativas e limitações explícitas                           \\\\\n\t2 & c2 & 2. O aplicativo deixa claro o quão bem ele pode fazer a classificação de imagens?   & h1 & Deixar as expectativas e limitações explícitas                           \\\\\n\t3 & c3 & 3. O aplicativo fornece explicações compreensíveis?                                 & h1 & Deixar as expectativas e limitações explícitas                           \\\\\n\t4 & c4 & 4. O app mostra dicas de como tirar fotos com qualidade adequada?                   & h2 & Apoiar o uso efetivo                                                     \\\\\n\t5 & c5 & 5. O app visualiza o status durante o processamento da classificação?               & h2 & Apoiar o uso efetivo                                                     \\\\\n\t6 & c6 & 6. O app deixa claro que existe incerteza em relação ao resultado da classificação? & h3 & Apoiar a compreensão do usuário sobre \nincerteza e a confiança do modelo\\\\\n\\end{tabular}\n",
            "text/plain": [
              "  codigo_item\n",
              "1 c1         \n",
              "2 c2         \n",
              "3 c3         \n",
              "4 c4         \n",
              "5 c5         \n",
              "6 c6         \n",
              "  descricao_item                                                                     \n",
              "1 1. O app deixa claro quais classes ele pode classificar?                           \n",
              "2 2. O aplicativo deixa claro o quão bem ele pode fazer a classificação de imagens?  \n",
              "3 3. O aplicativo fornece explicações compreensíveis?                                \n",
              "4 4. O app mostra dicas de como tirar fotos com qualidade adequada?                  \n",
              "5 5. O app visualiza o status durante o processamento da classificação?              \n",
              "6 6. O app deixa claro que existe incerteza em relação ao resultado da classificação?\n",
              "  id_heuristica\n",
              "1 h1           \n",
              "2 h1           \n",
              "3 h1           \n",
              "4 h2           \n",
              "5 h2           \n",
              "6 h3           \n",
              "  descricao_heuristica                                                     \n",
              "1 Deixar as expectativas e limitações explícitas                           \n",
              "2 Deixar as expectativas e limitações explícitas                           \n",
              "3 Deixar as expectativas e limitações explícitas                           \n",
              "4 Apoiar o uso efetivo                                                     \n",
              "5 Apoiar o uso efetivo                                                     \n",
              "6 Apoiar a compreensão do usuário sobre \\nincerteza e a confiança do modelo"
            ]
          },
          "metadata": {}
        }
      ]
    },
    {
      "cell_type": "code",
      "source": [
        "#### Identificação e remoção de colunas problemáticas\n",
        "\n",
        "# Cálculo da porcentagem de NAs em cada coluna\n",
        "na_percentagem <- colMeans(is.na(itens_num)) * 100\n",
        "print(\"Porcentagem de NAs em cada coluna:\")\n",
        "print(na_percentagem)\n",
        "\n",
        "# Cálculo do desvio padrão de cada coluna\n",
        "desvios <- sapply(itens_num, sd, na.rm = TRUE)\n",
        "print(\"Desvio padrão de cada coluna:\")\n",
        "print(desvios)\n",
        "\n",
        "# Colunas com desvio padrão zero ou muito baixo\n",
        "colunas_desvio_zero <- names(desvios[desvios < 0.1])\n",
        "print(\"Colunas com desvio padrão próximo de zero:\")\n",
        "print(colunas_desvio_zero)\n",
        "\n",
        "# Colunas com muitos NAs (mais de 30%)\n",
        "colunas_muitos_na <- names(na_percentagem[na_percentagem > 30])\n",
        "print(\"Colunas com mais de 30% de NAs:\")\n",
        "print(colunas_muitos_na)\n",
        "\n",
        "# Colunas a serem removidas (desvio zero ou muitos NAs)\n",
        "colunas_remover <- unique(c(colunas_desvio_zero, colunas_muitos_na))\n",
        "print(\"Colunas a serem removidas:\")\n",
        "print(colunas_remover)\n",
        "\n",
        "# Conjunto de dados limpo\n",
        "itens_limpos <- itens_num[, !(names(itens_num) %in% colunas_remover)]\n",
        "\n",
        "# Verificação das dimensões do conjunto de dados após limpeza\n",
        "print(\"Dimensões do conjunto de dados após limpeza:\")\n",
        "print(dim(itens_limpos))\n",
        "\n",
        "# Dataframe com informações detalhadas sobre os itens removidos\n",
        "itens_removidos <- data.frame(\n",
        "  codigo = colunas_remover,\n",
        "  proporcao_na = na_percentagem[colunas_remover],\n",
        "  id_heuristica = sapply(colunas_remover, function(codigo) {\n",
        "    idx <- which(dicionario$codigo_item == codigo)\n",
        "    if (length(idx) > 0) dicionario$id_heuristica[idx[1]] else NA\n",
        "  }),\n",
        "  descricao_heuristica = sapply(colunas_remover, function(codigo) {\n",
        "    idx <- which(dicionario$codigo_item == codigo)\n",
        "    if (length(idx) > 0) dicionario$descricao_heuristica[idx[1]] else NA\n",
        "  }),\n",
        "  motivo = sapply(colunas_remover, function(codigo) {\n",
        "    if (codigo %in% colunas_desvio_zero) {\n",
        "      if (codigo %in% colunas_muitos_na) {\n",
        "        return(\"Desvio padrão próximo de zero e muitos NAs\")\n",
        "      } else {\n",
        "        return(\"Desvio padrão próximo de zero\")\n",
        "      }\n",
        "    } else {\n",
        "      return(\"Muitos valores NA\")\n",
        "    }\n",
        "  })\n",
        ")\n",
        "\n",
        "# Ordenação por proporção de NA\n",
        "itens_removidos <- itens_removidos[order(-itens_removidos$proporcao_na), ]\n",
        "\n",
        "# Informações detalhadas sobre os itens removidos\n",
        "print(\"Detalhes dos itens removidos:\")\n",
        "print(itens_removidos)\n"
      ],
      "metadata": {
        "colab": {
          "base_uri": "https://localhost:8080/"
        },
        "id": "iTDBl2n1034P",
        "outputId": "e0066995-9540-41c9-f349-e277a142698a"
      },
      "execution_count": 7,
      "outputs": [
        {
          "output_type": "stream",
          "name": "stdout",
          "text": [
            "[1] \"Porcentagem de NAs em cada coluna:\"\n",
            "      c1       c2       c3       c4       c5       c6       c7       c8 \n",
            " 0.00000  0.00000  0.00000  0.00000  0.00000  0.00000 41.73228 76.37795 \n",
            "      c9      c10      c11      c12      c13      c14      c15      c16 \n",
            "83.46457  0.00000  0.00000  0.00000  0.00000 11.81102  0.00000 61.41732 \n",
            "     c17      c18      c19      c20      c21      c22      c23 \n",
            "80.31496 14.17323 69.29134  0.00000 74.80315 66.14173 69.29134 \n",
            "[1] \"Desvio padrão de cada coluna:\"\n",
            "       c1        c2        c3        c4        c5        c6        c7        c8 \n",
            "0.4993434 0.3240168 0.3866281 0.4936796 0.4264414 0.5000937 0.5017555 0.4301831 \n",
            "       c9       c10       c11       c12       c13       c14       c15       c16 \n",
            "0.4830459 0.2823828 0.4631125 0.5012171 0.4264414 0.4240972 0.4445226 0.2422261 \n",
            "      c17       c18       c19       c20       c21       c22       c23 \n",
            "0.4358899 0.4866551 0.3655178 0.3144243 0.4399413 0.4538503 0.2699528 \n",
            "[1] \"Colunas com desvio padrão próximo de zero:\"\n",
            "character(0)\n",
            "[1] \"Colunas com mais de 30% de NAs:\"\n",
            "[1] \"c7\"  \"c8\"  \"c9\"  \"c16\" \"c17\" \"c19\" \"c21\" \"c22\" \"c23\"\n",
            "[1] \"Colunas a serem removidas:\"\n",
            "[1] \"c7\"  \"c8\"  \"c9\"  \"c16\" \"c17\" \"c19\" \"c21\" \"c22\" \"c23\"\n",
            "[1] \"Dimensões do conjunto de dados após limpeza:\"\n",
            "[1] 127  14\n",
            "[1] \"Detalhes dos itens removidos:\"\n",
            "    codigo proporcao_na id_heuristica\n",
            "c9      c9     83.46457            h3\n",
            "c17    c17     80.31496            h6\n",
            "c8      c8     76.37795            h3\n",
            "c21    c21     74.80315            h8\n",
            "c19    c19     69.29134            h6\n",
            "c23    c23     69.29134            h8\n",
            "c22    c22     66.14173            h8\n",
            "c16    c16     61.41732            h5\n",
            "c7      c7     41.73228            h3\n",
            "                                                         descricao_heuristica\n",
            "c9  Apoiar a compreensão do usuário sobre \\nincerteza e a confiança do modelo\n",
            "c17                                Possibilitar coleta de feedback do usuário\n",
            "c8  Apoiar a compreensão do usuário sobre \\nincerteza e a confiança do modelo\n",
            "c21                                           Considerar os riscos ao usuário\n",
            "c19                                Possibilitar coleta de feedback do usuário\n",
            "c23                                           Considerar os riscos ao usuário\n",
            "c22                                           Considerar os riscos ao usuário\n",
            "c16                    Falhar graciosamente e suportar a recuperação de erros\n",
            "c7  Apoiar a compreensão do usuário sobre \\nincerteza e a confiança do modelo\n",
            "               motivo\n",
            "c9  Muitos valores NA\n",
            "c17 Muitos valores NA\n",
            "c8  Muitos valores NA\n",
            "c21 Muitos valores NA\n",
            "c19 Muitos valores NA\n",
            "c23 Muitos valores NA\n",
            "c22 Muitos valores NA\n",
            "c16 Muitos valores NA\n",
            "c7  Muitos valores NA\n"
          ]
        }
      ]
    },
    {
      "cell_type": "code",
      "source": [
        "#### Análise de Validade Convergente e Discriminante\n",
        "\n",
        "# Verificação da distribuição das respostas\n",
        "summary(itens_limpos)\n",
        "apply(itens_limpos, 2, table)\n",
        "\n",
        "# Verificar tamanho da amostra\n",
        "nrow(itens_limpos)\n",
        "ncol(itens_limpos)\n",
        "\n",
        "# Regra geral: pelo menos 5-10 casos por variável\n",
        "cat(\"Razão casos/variáveis:\", nrow(itens_limpos)/ncol(itens_limpos))\n",
        "\n",
        "# Identificar variáveis com pouca variação\n",
        "variancia <- apply(itens_limpos, 2, var, na.rm = TRUE)\n",
        "variaveis_problematicas <- names(variancia[variancia < 0.1])\n",
        "print(variaveis_problematicas)\n",
        "\n",
        "# Remover se necessário\n",
        "itens_filtrados <- itens_limpos[, !names(itens_limpos) %in% variaveis_problematicas]\n",
        "\n",
        "\n",
        "# Cálculo da matriz de correlação policórica\n",
        "matriz_policorica <- polychoric(itens_limpos,\n",
        "                                smooth = TRUE,\n",
        "                                global = FALSE)\n"
      ],
      "metadata": {
        "colab": {
          "base_uri": "https://localhost:8080/",
          "height": 806
        },
        "id": "qpOTuPtH1Lxg",
        "outputId": "b95826d4-ed80-45c0-84dd-3ba8d40b29d1"
      },
      "execution_count": 18,
      "outputs": [
        {
          "output_type": "display_data",
          "data": {
            "text/plain": [
              "       c1               c2               c3               c4        \n",
              " Min.   :0.0000   Min.   :0.0000   Min.   :0.0000   Min.   :0.0000  \n",
              " 1st Qu.:0.0000   1st Qu.:0.0000   1st Qu.:1.0000   1st Qu.:0.0000  \n",
              " Median :0.0000   Median :0.0000   Median :1.0000   Median :0.0000  \n",
              " Mean   :0.4488   Mean   :0.1181   Mean   :0.8189   Mean   :0.4094  \n",
              " 3rd Qu.:1.0000   3rd Qu.:0.0000   3rd Qu.:1.0000   3rd Qu.:1.0000  \n",
              " Max.   :1.0000   Max.   :1.0000   Max.   :1.0000   Max.   :1.0000  \n",
              "                                                                    \n",
              "       c5               c6              c10               c11        \n",
              " Min.   :0.0000   Min.   :0.0000   Min.   :0.00000   Min.   :0.0000  \n",
              " 1st Qu.:1.0000   1st Qu.:0.0000   1st Qu.:0.00000   1st Qu.:0.0000  \n",
              " Median :1.0000   Median :1.0000   Median :0.00000   Median :0.0000  \n",
              " Mean   :0.7638   Mean   :0.5433   Mean   :0.08661   Mean   :0.3071  \n",
              " 3rd Qu.:1.0000   3rd Qu.:1.0000   3rd Qu.:0.00000   3rd Qu.:1.0000  \n",
              " Max.   :1.0000   Max.   :1.0000   Max.   :1.00000   Max.   :1.0000  \n",
              "                                                                     \n",
              "      c12              c13              c14              c15        \n",
              " Min.   :0.0000   Min.   :0.0000   Min.   :0.0000   Min.   :0.0000  \n",
              " 1st Qu.:0.0000   1st Qu.:0.0000   1st Qu.:0.0000   1st Qu.:0.0000  \n",
              " Median :0.0000   Median :0.0000   Median :0.0000   Median :0.0000  \n",
              " Mean   :0.4724   Mean   :0.2362   Mean   :0.2321   Mean   :0.2677  \n",
              " 3rd Qu.:1.0000   3rd Qu.:0.0000   3rd Qu.:0.0000   3rd Qu.:1.0000  \n",
              " Max.   :1.0000   Max.   :1.0000   Max.   :1.0000   Max.   :1.0000  \n",
              "                                   NA's   :15                       \n",
              "      c18              c20        \n",
              " Min.   :0.0000   Min.   :0.0000  \n",
              " 1st Qu.:0.0000   1st Qu.:1.0000  \n",
              " Median :1.0000   Median :1.0000  \n",
              " Mean   :0.6239   Mean   :0.8898  \n",
              " 3rd Qu.:1.0000   3rd Qu.:1.0000  \n",
              " Max.   :1.0000   Max.   :1.0000  \n",
              " NA's   :18                       "
            ]
          },
          "metadata": {}
        },
        {
          "output_type": "display_data",
          "data": {
            "text/html": [
              "<table class=\"dataframe\">\n",
              "<caption>A matrix: 2 × 14 of type int</caption>\n",
              "<thead>\n",
              "\t<tr><th></th><th scope=col>c1</th><th scope=col>c2</th><th scope=col>c3</th><th scope=col>c4</th><th scope=col>c5</th><th scope=col>c6</th><th scope=col>c10</th><th scope=col>c11</th><th scope=col>c12</th><th scope=col>c13</th><th scope=col>c14</th><th scope=col>c15</th><th scope=col>c18</th><th scope=col>c20</th></tr>\n",
              "</thead>\n",
              "<tbody>\n",
              "\t<tr><th scope=row>0</th><td>70</td><td>112</td><td> 23</td><td>75</td><td>30</td><td>58</td><td>116</td><td>88</td><td>67</td><td>97</td><td>86</td><td>93</td><td>41</td><td> 14</td></tr>\n",
              "\t<tr><th scope=row>1</th><td>57</td><td> 15</td><td>104</td><td>52</td><td>97</td><td>69</td><td> 11</td><td>39</td><td>60</td><td>30</td><td>26</td><td>34</td><td>68</td><td>113</td></tr>\n",
              "</tbody>\n",
              "</table>\n"
            ],
            "text/markdown": "\nA matrix: 2 × 14 of type int\n\n| <!--/--> | c1 | c2 | c3 | c4 | c5 | c6 | c10 | c11 | c12 | c13 | c14 | c15 | c18 | c20 |\n|---|---|---|---|---|---|---|---|---|---|---|---|---|---|---|\n| 0 | 70 | 112 |  23 | 75 | 30 | 58 | 116 | 88 | 67 | 97 | 86 | 93 | 41 |  14 |\n| 1 | 57 |  15 | 104 | 52 | 97 | 69 |  11 | 39 | 60 | 30 | 26 | 34 | 68 | 113 |\n\n",
            "text/latex": "A matrix: 2 × 14 of type int\n\\begin{tabular}{r|llllllllllllll}\n  & c1 & c2 & c3 & c4 & c5 & c6 & c10 & c11 & c12 & c13 & c14 & c15 & c18 & c20\\\\\n\\hline\n\t0 & 70 & 112 &  23 & 75 & 30 & 58 & 116 & 88 & 67 & 97 & 86 & 93 & 41 &  14\\\\\n\t1 & 57 &  15 & 104 & 52 & 97 & 69 &  11 & 39 & 60 & 30 & 26 & 34 & 68 & 113\\\\\n\\end{tabular}\n",
            "text/plain": [
              "  c1 c2  c3  c4 c5 c6 c10 c11 c12 c13 c14 c15 c18 c20\n",
              "0 70 112  23 75 30 58 116 88  67  97  86  93  41   14\n",
              "1 57  15 104 52 97 69  11 39  60  30  26  34  68  113"
            ]
          },
          "metadata": {}
        },
        {
          "output_type": "display_data",
          "data": {
            "text/html": [
              "127"
            ],
            "text/markdown": "127",
            "text/latex": "127",
            "text/plain": [
              "[1] 127"
            ]
          },
          "metadata": {}
        },
        {
          "output_type": "display_data",
          "data": {
            "text/html": [
              "14"
            ],
            "text/markdown": "14",
            "text/latex": "14",
            "text/plain": [
              "[1] 14"
            ]
          },
          "metadata": {}
        },
        {
          "output_type": "stream",
          "name": "stdout",
          "text": [
            "Razão casos/variáveis: 9.071429[1] \"c10\" \"c20\"\n"
          ]
        },
        {
          "output_type": "stream",
          "name": "stderr",
          "text": [
            "Warning message in matpLower(x, nvar, gminx, gmaxx, gminy, gmaxy):\n",
            "“2 cells were adjusted for 0 values using the correction for continuity. Examine your data carefully.”\n",
            "Warning message in cor.smooth(mat):\n",
            "“Matrix was not positive definite, smoothing was done”\n"
          ]
        }
      ]
    },
    {
      "cell_type": "code",
      "source": [
        "# Salvamento da matriz de correlação policórica\n",
        "write.csv(matriz_policorica$rho, \"matriz_correlacao_policorica.csv\")\n",
        "\n",
        "# Visualização da matriz de correlação policórica\n",
        "print(\"Matriz de correlação policórica:\")\n",
        "print(round(matriz_policorica$rho, 2))"
      ],
      "metadata": {
        "colab": {
          "base_uri": "https://localhost:8080/"
        },
        "id": "tKkME33e1RiF",
        "outputId": "904e118e-2c8d-46e4-9f67-37a55b4dbe3c"
      },
      "execution_count": 19,
      "outputs": [
        {
          "output_type": "stream",
          "name": "stdout",
          "text": [
            "[1] \"Matriz de correlação policórica:\"\n",
            "       c1    c2    c3    c4    c5    c6   c10   c11   c12   c13   c14   c15\n",
            "c1   1.00  0.61  0.32  0.24  0.27 -0.10  0.49  0.31 -0.06  0.23  0.32  0.27\n",
            "c2   0.61  1.00  0.45  0.45  0.07  0.00  0.80  0.43  0.38  0.59  0.35  0.39\n",
            "c3   0.32  0.45  1.00  0.51  0.33 -0.03  0.23  0.09  0.01  0.21  0.56  0.22\n",
            "c4   0.24  0.45  0.51  1.00  0.60  0.42  0.42  0.29  0.25  0.68  0.40  0.40\n",
            "c5   0.27  0.07  0.33  0.60  1.00  0.21 -0.04  0.31 -0.02  0.51  0.38  0.35\n",
            "c6  -0.10  0.00 -0.03  0.42  0.21  1.00  0.39  0.16  0.08  0.27  0.18  0.09\n",
            "c10  0.49  0.80  0.23  0.42 -0.04  0.39  1.00  0.32  0.36  0.57  0.36  0.17\n",
            "c11  0.31  0.43  0.09  0.29  0.31  0.16  0.32  1.00 -0.03  0.26  0.11  0.29\n",
            "c12 -0.06  0.38  0.01  0.25 -0.02  0.08  0.36 -0.03  1.00  0.67  0.27  0.36\n",
            "c13  0.23  0.59  0.21  0.68  0.51  0.27  0.57  0.26  0.67  1.00  0.53  0.62\n",
            "c14  0.32  0.35  0.56  0.40  0.38  0.18  0.36  0.11  0.27  0.53  1.00  0.60\n",
            "c15  0.27  0.39  0.22  0.40  0.35  0.09  0.17  0.29  0.36  0.62  0.60  1.00\n",
            "c18 -0.29 -0.40  0.27 -0.17 -0.15  0.19 -0.31 -0.27 -0.10 -0.48 -0.13 -0.21\n",
            "c20 -0.28 -0.21  0.21  0.42  0.10  0.48  0.05 -0.09  0.18  0.16  0.16  0.24\n",
            "      c18   c20\n",
            "c1  -0.29 -0.28\n",
            "c2  -0.40 -0.21\n",
            "c3   0.27  0.21\n",
            "c4  -0.17  0.42\n",
            "c5  -0.15  0.10\n",
            "c6   0.19  0.48\n",
            "c10 -0.31  0.05\n",
            "c11 -0.27 -0.09\n",
            "c12 -0.10  0.18\n",
            "c13 -0.48  0.16\n",
            "c14 -0.13  0.16\n",
            "c15 -0.21  0.24\n",
            "c18  1.00  0.57\n",
            "c20  0.57  1.00\n"
          ]
        }
      ]
    },
    {
      "cell_type": "code",
      "source": [
        "# Matriz de correlação policórica\n",
        "corrplot(matriz_policorica_smooth$rho, method = \"color\", type = \"upper\",\n",
        "         tl.col = \"black\", tl.srt = 45,\n",
        "         title = \"Matriz de Correlação Policórica\",\n",
        "         mar = c(0, 0, 1, 0))"
      ],
      "metadata": {
        "colab": {
          "base_uri": "https://localhost:8080/",
          "height": 437
        },
        "id": "O5GCATfS1oty",
        "outputId": "a28a8ca2-ebd4-4ba8-9bf5-8d184e23d3ae"
      },
      "execution_count": 20,
      "outputs": [
        {
          "output_type": "display_data",
          "data": {
            "text/plain": [
              "Plot with title “Matriz de Correlação Policórica”"
            ],
            "image/png": "[encoded data removed]"
          },
          "metadata": {
            "image/png": {
              "width": 420,
              "height": 420
            }
          }
        }
      ]
    },
    {
      "cell_type": "code",
      "source": [
        "#### Análise de validade convergente e discriminante\n",
        "\n",
        "# Identificação de itens que pertencem à mesma heurística\n",
        "\n",
        "# Criação de uma lista de heurísticas válidas (que têm itens no conjunto limpo)\n",
        "heuristicas_validas <- list()\n",
        "for (h in unique(dicionario$id_heuristica)) {\n",
        "  itens_h <- dicionario$codigo_item[dicionario$id_heuristica == h]\n",
        "  itens_validos_h <- intersect(itens_h, names(itens_limpos))\n",
        "  if (length(itens_validos_h) > 0) {\n",
        "    heuristicas_validas[[h]] <- itens_validos_h\n",
        "  }\n",
        "}\n",
        "\n",
        "# Exibição das heurísticas válidas após filtragem\n",
        "print(\"Heurísticas válidas após filtragem:\")\n",
        "print(heuristicas_validas)"
      ],
      "metadata": {
        "colab": {
          "base_uri": "https://localhost:8080/"
        },
        "id": "WuUjAHk22SCT",
        "outputId": "9748cbfd-4f70-4831-b916-69d9d9b2ca18"
      },
      "execution_count": 21,
      "outputs": [
        {
          "output_type": "stream",
          "name": "stdout",
          "text": [
            "[1] \"Heurísticas válidas após filtragem:\"\n",
            "$h1\n",
            "[1] \"c1\" \"c2\" \"c3\"\n",
            "\n",
            "$h2\n",
            "[1] \"c4\" \"c5\"\n",
            "\n",
            "$h3\n",
            "[1] \"c6\"  \"c10\"\n",
            "\n",
            "$h4\n",
            "[1] \"c11\"\n",
            "\n",
            "$h5\n",
            "[1] \"c12\" \"c13\" \"c14\" \"c15\"\n",
            "\n",
            "$h6\n",
            "[1] \"c18\"\n",
            "\n",
            "$h7\n",
            "[1] \"c20\"\n",
            "\n"
          ]
        }
      ]
    },
    {
      "cell_type": "code",
      "source": [
        "# Cálculo da média das correlações dentro de cada heurística (validade convergente)\n",
        "validade_convergente <- list()\n",
        "for (nome in names(heuristicas_validas)) {\n",
        "  itens <- heuristicas_validas[[nome]]\n",
        "  if (length(itens) > 1) {  # Precisa de pelo menos 2 itens para calcular correlação\n",
        "    correlacoes <- matriz_policorica$rho[itens, itens]\n",
        "    # Remoção da diagonal (correlações de um item com ele mesmo)\n",
        "    diag(correlacoes) <- NA\n",
        "    media_correlacao <- mean(correlacoes, na.rm = TRUE)\n",
        "    validade_convergente[[nome]] <- media_correlacao\n",
        "  } else {\n",
        "    validade_convergente[[nome]] <- NA  # Não é possível calcular com apenas 1 item\n",
        "  }\n",
        "}\n",
        "\n",
        "# Cálculo da média das correlações entre itens de diferentes heurísticas (validade discriminante)\n",
        "validade_discriminante <- matrix(NA, nrow = length(heuristicas_validas),\n",
        "                               ncol = length(heuristicas_validas))\n",
        "rownames(validade_discriminante) <- names(heuristicas_validas)\n",
        "colnames(validade_discriminante) <- names(heuristicas_validas)\n",
        "\n",
        "for (i in 1:length(heuristicas_validas)) {\n",
        "  nome_i <- names(heuristicas_validas)[i]\n",
        "  itens_i <- heuristicas_validas[[nome_i]]\n",
        "\n",
        "  for (j in 1:length(heuristicas_validas)) {\n",
        "    nome_j <- names(heuristicas_validas)[j]\n",
        "    itens_j <- heuristicas_validas[[nome_j]]\n",
        "\n",
        "    if (i != j && length(itens_i) > 0 && length(itens_j) > 0) {\n",
        "      correlacoes <- matriz_policorica$rho[itens_i, itens_j]\n",
        "      media_correlacao <- mean(correlacoes, na.rm = TRUE)\n",
        "      validade_discriminante[i, j] <- media_correlacao\n",
        "    }\n",
        "  }\n",
        "}\n",
        "\n",
        "# Conversão para dataframe para facilitar a visualização\n",
        "validade_convergente_df <- data.frame(\n",
        "  Heuristica = names(validade_convergente),\n",
        "  Media_Correlacao_Interna = unlist(validade_convergente),\n",
        "  stringsAsFactors = FALSE\n",
        ")\n",
        "\n",
        "# Adição da descrição da heurística\n",
        "validade_convergente_df$Descricao_Heuristica <- sapply(validade_convergente_df$Heuristica, function(h) {\n",
        "  idx <- which(dicionario$id_heuristica == h)\n",
        "  if (length(idx) > 0) dicionario$descricao_heuristica[idx[1]] else NA\n",
        "})\n",
        "\n"
      ],
      "metadata": {
        "id": "yQszJLwt2b0b"
      },
      "execution_count": 25,
      "outputs": []
    },
    {
      "cell_type": "code",
      "source": [
        "# Salvamento dos resultados\n",
        "write.csv(validade_convergente_df, \"validade_convergente.csv\", row.names = FALSE)\n",
        "write.csv(validade_discriminante, \"validade_discriminante.csv\")\n"
      ],
      "metadata": {
        "id": "ZMCFSDEH23To"
      },
      "execution_count": 26,
      "outputs": []
    },
    {
      "cell_type": "code",
      "source": [
        "# Visualização dos resultados de validade convergente\n",
        "print(\"Validade Convergente (média das correlações dentro de cada heurística):\")\n",
        "print(validade_convergente_df)\n",
        "\n",
        "# Visualização dos resultados de validade discriminante\n",
        "print(\"Validade Discriminante (média das correlações entre heurísticas diferentes):\")\n",
        "print(round(validade_discriminante, 2))"
      ],
      "metadata": {
        "colab": {
          "base_uri": "https://localhost:8080/"
        },
        "id": "yd-6z6ZM24mK",
        "outputId": "2eb476ce-1445-45b6-e5d1-f040e8341646"
      },
      "execution_count": 27,
      "outputs": [
        {
          "output_type": "stream",
          "name": "stdout",
          "text": [
            "[1] \"Validade Convergente (média das correlações dentro de cada heurística):\"\n",
            "   Heuristica Media_Correlacao_Interna\n",
            "h1         h1                0.4612764\n",
            "h2         h2                0.6008123\n",
            "h3         h3                0.3909834\n",
            "h4         h4                       NA\n",
            "h5         h5                0.5086169\n",
            "h6         h6                       NA\n",
            "h7         h7                       NA\n",
            "                                                        Descricao_Heuristica\n",
            "h1                            Deixar as expectativas e limitações explícitas\n",
            "h2                                                      Apoiar o uso efetivo\n",
            "h3 Apoiar a compreensão do usuário sobre \\nincerteza e a confiança do modelo\n",
            "h4                                Assegurar privacidade e segurança de dados\n",
            "h5                    Falhar graciosamente e suportar a recuperação de erros\n",
            "h6                                Possibilitar coleta de feedback do usuário\n",
            "h7                                                              Mitigar viés\n",
            "[1] \"Validade Discriminante (média das correlações entre heurísticas diferentes):\"\n",
            "      h1    h2    h3    h4    h5    h6    h7\n",
            "h1    NA  0.31  0.23  0.27  0.29 -0.14 -0.10\n",
            "h2  0.31    NA  0.25  0.30  0.37 -0.16  0.26\n",
            "h3  0.23  0.25    NA  0.24  0.26 -0.06  0.27\n",
            "h4  0.27  0.30  0.24    NA  0.16 -0.27 -0.09\n",
            "h5  0.29  0.37  0.26  0.16    NA -0.23  0.18\n",
            "h6 -0.14 -0.16 -0.06 -0.27 -0.23    NA  0.57\n",
            "h7 -0.10  0.26  0.27 -0.09  0.18  0.57    NA\n"
          ]
        }
      ]
    },
    {
      "cell_type": "code",
      "source": [
        "# Cálculo da média das correlações com outras heurísticas para cada heurística\n",
        "media_correlacoes_externas <- rowMeans(validade_discriminante, na.rm = TRUE)\n",
        "validade_comparacao <- data.frame(\n",
        "  Heuristica = names(heuristicas_validas),\n",
        "  Descricao = sapply(names(heuristicas_validas), function(h) {\n",
        "    idx <- which(dicionario$id_heuristica == h)\n",
        "    if (length(idx) > 0) dicionario$descricao_heuristica[idx[1]] else NA\n",
        "  }),\n",
        "  Convergente = unlist(validade_convergente),\n",
        "  Discriminante = media_correlacoes_externas,\n",
        "  stringsAsFactors = FALSE\n",
        ")\n",
        "\n",
        "# Salvamento da comparação\n",
        "write.csv(validade_comparacao, \"validade_comparacao.csv\", row.names = FALSE)\n",
        "\n",
        "# Visualização da comparação\n",
        "print(\"Comparação entre Validade Convergente e Discriminante:\")\n",
        "print(validade_comparacao)"
      ],
      "metadata": {
        "colab": {
          "base_uri": "https://localhost:8080/"
        },
        "id": "pRMLxxSM3La6",
        "outputId": "634cc83a-70c3-4487-babe-f31ebed45038"
      },
      "execution_count": 30,
      "outputs": [
        {
          "output_type": "stream",
          "name": "stdout",
          "text": [
            "[1] \"Comparação entre Validade Convergente e Discriminante:\"\n",
            "   Heuristica\n",
            "h1         h1\n",
            "h2         h2\n",
            "h3         h3\n",
            "h4         h4\n",
            "h5         h5\n",
            "h6         h6\n",
            "h7         h7\n",
            "                                                                   Descricao\n",
            "h1                            Deixar as expectativas e limitações explícitas\n",
            "h2                                                      Apoiar o uso efetivo\n",
            "h3 Apoiar a compreensão do usuário sobre \\nincerteza e a confiança do modelo\n",
            "h4                                Assegurar privacidade e segurança de dados\n",
            "h5                    Falhar graciosamente e suportar a recuperação de erros\n",
            "h6                                Possibilitar coleta de feedback do usuário\n",
            "h7                                                              Mitigar viés\n",
            "   Convergente Discriminante\n",
            "h1   0.4612764    0.14497440\n",
            "h2   0.6008123    0.22234566\n",
            "h3   0.3909834    0.19827870\n",
            "h4          NA    0.10185610\n",
            "h5   0.5086169    0.17222231\n",
            "h6          NA   -0.04919659\n",
            "h7          NA    0.18345991\n"
          ]
        }
      ]
    },
    {
      "cell_type": "code",
      "source": [
        "#### Análise Fatorial Exploratória (AFE) para verificar a estrutura latente dos itens\n",
        "\n",
        "# Verificação da adequação dos dados para AFE\n",
        "kmo_result <- KMO(matriz_policorica$rho)\n",
        "print(\"Índice KMO (Kaiser-Meyer-Olkin):\")\n",
        "print(kmo_result$MSA)"
      ],
      "metadata": {
        "colab": {
          "base_uri": "https://localhost:8080/"
        },
        "id": "eOWMfXkP3Sw2",
        "outputId": "1094d965-6788-4ff5-8717-e2ba698a8079"
      },
      "execution_count": 31,
      "outputs": [
        {
          "output_type": "stream",
          "name": "stdout",
          "text": [
            "[1] \"Índice KMO (Kaiser-Meyer-Olkin):\"\n",
            "[1] 0.2063215\n"
          ]
        }
      ]
    },
    {
      "cell_type": "code",
      "source": [
        "# Teste de Bartlett para esfericidade\n",
        "bartlett_test <- cortest.bartlett(matriz_policorica$rho, n = nrow(itens_limpos))\n",
        "print(\"Teste de Bartlett para esfericidade:\")\n",
        "print(bartlett_test)"
      ],
      "metadata": {
        "colab": {
          "base_uri": "https://localhost:8080/"
        },
        "id": "Bfsc_pG33ec_",
        "outputId": "ac17c9ce-79fd-434f-b08b-20f4f00a221c"
      },
      "execution_count": 32,
      "outputs": [
        {
          "output_type": "stream",
          "name": "stdout",
          "text": [
            "[1] \"Teste de Bartlett para esfericidade:\"\n",
            "$chisq\n",
            "[1] 6303.501\n",
            "\n",
            "$p.value\n",
            "[1] 0\n",
            "\n",
            "$df\n",
            "[1] 91\n",
            "\n"
          ]
        }
      ]
    },
    {
      "cell_type": "code",
      "source": [
        "# Determinação do número ideal de fatores\n",
        "scree_data <- fa.parallel(matriz_policorica$rho, n.obs = nrow(itens_limpos), fa = \"fa\")\n"
      ],
      "metadata": {
        "colab": {
          "base_uri": "https://localhost:8080/",
          "height": 454
        },
        "id": "V379FaYV3ggs",
        "outputId": "44830bd0-765f-4896-bec3-e50c7b4a98c5"
      },
      "execution_count": 33,
      "outputs": [
        {
          "output_type": "stream",
          "name": "stdout",
          "text": [
            "Parallel analysis suggests that the number of factors =  5  and the number of components =  NA \n"
          ]
        },
        {
          "output_type": "display_data",
          "data": {
            "text/plain": [
              "Plot with title “Parallel Analysis Scree Plots”"
            ],
            "image/png": "[encoded data removed]"
          },
          "metadata": {
            "image/png": {
              "width": 420,
              "height": 420
            }
          }
        }
      ]
    },
    {
      "cell_type": "code",
      "source": [
        "# Número sugerido de fatores\n",
        "n_fatores <- scree_data$nfact\n",
        "print(\"Número sugerido de fatores:\", n_fatores)\n",
        "\n",
        "# Realização da análise fatorial exploratória\n",
        "afe_resultado <- fa(matriz_policorica$rho, nfactors = n_fatores, rotate = \"varimax\", fm = \"ml\")\n",
        "print(afe_resultado)"
      ],
      "metadata": {
        "colab": {
          "base_uri": "https://localhost:8080/"
        },
        "id": "H4NnutJk3l5O",
        "outputId": "9dd6694d-1603-4ea8-a9a9-989dee38ffa6"
      },
      "execution_count": 35,
      "outputs": [
        {
          "output_type": "stream",
          "name": "stdout",
          "text": [
            "[1] \"Número sugerido de fatores:\"\n",
            "Factor Analysis using method =  ml\n",
            "Call: fa(r = matriz_policorica$rho, nfactors = n_fatores, rotate = \"varimax\", \n",
            "    fm = \"ml\")\n",
            "Standardized loadings (pattern matrix) based upon correlation matrix\n",
            "      ML1   ML2   ML3   ML5   ML4   h2     u2 com\n",
            "c1  -0.08  0.71  0.20 -0.17  0.21 0.62 0.3763 1.5\n",
            "c2   0.42  0.76  0.33 -0.12 -0.12 0.90 0.1016 2.1\n",
            "c3   0.05  0.16  0.98  0.01  0.13 1.00 0.0050 1.1\n",
            "c4   0.44  0.25  0.40  0.34  0.42 0.70 0.2963 4.5\n",
            "c5   0.17  0.08  0.19  0.09  0.96 1.00 0.0050 1.2\n",
            "c6   0.05  0.16 -0.10  0.80  0.14 0.70 0.2965 1.2\n",
            "c10  0.34  0.84  0.11  0.35 -0.23 1.00 0.0050 1.9\n",
            "c11  0.02  0.46 -0.02  0.01  0.28 0.29 0.7112 1.7\n",
            "c12  0.82  0.01 -0.02  0.11 -0.18 0.71 0.2877 1.1\n",
            "c13  0.86  0.35  0.06  0.16  0.33 1.00 0.0048 1.7\n",
            "c14  0.40  0.21  0.49  0.11  0.21 0.50 0.5027 2.9\n",
            "c15  0.62  0.02  0.16 -0.03  0.23 0.46 0.5410 1.4\n",
            "c18 -0.41 -0.48  0.39  0.42 -0.16 0.75 0.2480 4.2\n",
            "c20  0.17 -0.35  0.26  0.75 -0.01 0.78 0.2165 1.8\n",
            "\n",
            "                       ML1  ML2  ML3  ML5  ML4\n",
            "SS loadings           2.66 2.64 1.80 1.73 1.57\n",
            "Proportion Var        0.19 0.19 0.13 0.12 0.11\n",
            "Cumulative Var        0.19 0.38 0.51 0.63 0.74\n",
            "Proportion Explained  0.26 0.25 0.17 0.17 0.15\n",
            "Cumulative Proportion 0.26 0.51 0.68 0.85 1.00\n",
            "\n",
            "Mean item complexity =  2\n",
            "Test of the hypothesis that 5 factors are sufficient.\n",
            "\n",
            "df null model =  91  with the objective function =  52.31\n",
            "df of  the model are 31  and the objective function was  41.97 \n",
            "\n",
            "The root mean square of the residuals (RMSR) is  0.06 \n",
            "The df corrected root mean square of the residuals is  0.11 \n",
            "\n",
            "Fit based upon off diagonal values = 0.97\n",
            "Measures of factor score adequacy             \n",
            "                                                   ML1  ML2  ML3  ML5  ML4\n",
            "Correlation of (regression) scores with factors   0.99 0.99 1.00 0.95 1.00\n",
            "Multiple R square of scores with factors          0.99 0.97 0.99 0.91 0.99\n",
            "Minimum correlation of possible factor scores     0.97 0.95 0.99 0.82 0.99\n"
          ]
        }
      ]
    },
    {
      "cell_type": "code",
      "source": [
        "# Salvamento dos resultados da AFE\n",
        "sink(\"afe_resultados.txt\")\n",
        "print(afe_resultado)\n",
        "sink()"
      ],
      "metadata": {
        "id": "O176eXbX3o85"
      },
      "execution_count": 36,
      "outputs": []
    },
    {
      "cell_type": "code",
      "source": [
        "# Cálculo da variância explicada por cada fator\n",
        "var_explicada <- afe_resultado$Vaccounted\n",
        "write.csv(var_explicada, \"variancia_explicada.csv\")\n",
        "\n",
        "# Exibição da variância explicada\n",
        "print(\"Variância explicada por fator:\")\n",
        "print(var_explicada)\n",
        "\n"
      ],
      "metadata": {
        "colab": {
          "base_uri": "https://localhost:8080/"
        },
        "id": "LQBaICQy3oNk",
        "outputId": "93a9ef8f-b30e-498a-f339-0d59750497ef"
      },
      "execution_count": 38,
      "outputs": [
        {
          "output_type": "stream",
          "name": "stdout",
          "text": [
            "[1] \"Variância explicada por fator:\"\n",
            "                            ML1       ML2       ML3       ML5       ML4\n",
            "SS loadings           2.6590518 2.6412623 1.7994306 1.7278215 1.5748217\n",
            "Proportion Var        0.1899323 0.1886616 0.1285308 0.1234158 0.1124873\n",
            "Cumulative Var        0.1899323 0.3785939 0.5071246 0.6305404 0.7430277\n",
            "Proportion Explained  0.2556194 0.2539092 0.1729825 0.1660985 0.1513904\n",
            "Cumulative Proportion 0.2556194 0.5095286 0.6825111 0.8486096 1.0000000\n"
          ]
        }
      ]
    },
    {
      "cell_type": "code",
      "source": [
        "# Interpretação dos fatores\n",
        "# Identificação dos itens com cargas significativas em cada fator\n",
        "cargas_significativas <- afe_resultado$loadings > 0.3\n",
        "itens_por_fator <- list()\n",
        "\n",
        "for (i in 1:n_fatores) {\n",
        "  itens_fator <- rownames(afe_resultado$loadings)[cargas_significativas[, i]]\n",
        "  itens_por_fator[[paste0(\"Fator\", i)]] <- itens_fator\n",
        "\n",
        "  print(paste0(\"Itens com cargas significativas no Fator \", i, \":\"))\n",
        "  for (item in itens_fator) {\n",
        "    idx <- which(dicionario$codigo_item == item)\n",
        "    if (length(idx) > 0) {\n",
        "      heuristica <- dicionario$id_heuristica[idx]\n",
        "      descricao_h <- dicionario$descricao_heuristica[idx]\n",
        "      print(paste0(item, \" (\", heuristica, \" - \", descricao_h, \")\"))\n",
        "    } else {\n",
        "      print(item)\n",
        "    }\n",
        "  }\n",
        "  print(\"\")\n",
        "}\n",
        "\n",
        "# Salvamento da estrutura de fatores\n",
        "itens_por_fator_df <- data.frame(\n",
        "  Fator = rep(names(itens_por_fator), sapply(itens_por_fator, length)),\n",
        "  Item = unlist(itens_por_fator),\n",
        "  stringsAsFactors = FALSE\n",
        ")\n",
        "\n",
        "itens_por_fator_df$Heuristica <- sapply(itens_por_fator_df$Item, function(item) {\n",
        "  idx <- which(dicionario$codigo_item == item)\n",
        "  if (length(idx) > 0) dicionario$id_heuristica[idx[1]] else NA\n",
        "})\n",
        "\n",
        "itens_por_fator_df$Descricao_Heuristica <- sapply(itens_por_fator_df$Item, function(item) {\n",
        "  idx <- which(dicionario$codigo_item == item)\n",
        "  if (length(idx) > 0) dicionario$descricao_heuristica[idx[1]] else NA\n",
        "})\n",
        "\n",
        "write.csv(itens_por_fator_df, \"estrutura_fatores.csv\", row.names = FALSE)\n"
      ],
      "metadata": {
        "colab": {
          "base_uri": "https://localhost:8080/"
        },
        "id": "XrHUclwb34ex",
        "outputId": "175b49ca-238a-4924-955d-7deb7430945f"
      },
      "execution_count": 39,
      "outputs": [
        {
          "output_type": "stream",
          "name": "stdout",
          "text": [
            "[1] \"Itens com cargas significativas no Fator 1:\"\n",
            "[1] \"c2 (h1 - Deixar as expectativas e limitações explícitas)\"\n",
            "[1] \"c4 (h2 - Apoiar o uso efetivo)\"\n",
            "[1] \"c10 (h3 - Apoiar a compreensão do usuário sobre \\nincerteza e a confiança do modelo)\"\n",
            "[1] \"c12 (h5 - Falhar graciosamente e suportar a recuperação de erros)\"\n",
            "[1] \"c13 (h5 - Falhar graciosamente e suportar a recuperação de erros)\"\n",
            "[1] \"c14 (h5 - Falhar graciosamente e suportar a recuperação de erros)\"\n",
            "[1] \"c15 (h5 - Falhar graciosamente e suportar a recuperação de erros)\"\n",
            "[1] \"\"\n",
            "[1] \"Itens com cargas significativas no Fator 2:\"\n",
            "[1] \"c1 (h1 - Deixar as expectativas e limitações explícitas)\"\n",
            "[1] \"c2 (h1 - Deixar as expectativas e limitações explícitas)\"\n",
            "[1] \"c10 (h3 - Apoiar a compreensão do usuário sobre \\nincerteza e a confiança do modelo)\"\n",
            "[1] \"c11 (h4 - Assegurar privacidade e segurança de dados)\"\n",
            "[1] \"c13 (h5 - Falhar graciosamente e suportar a recuperação de erros)\"\n",
            "[1] \"\"\n",
            "[1] \"Itens com cargas significativas no Fator 3:\"\n",
            "[1] \"c2 (h1 - Deixar as expectativas e limitações explícitas)\"\n",
            "[1] \"c3 (h1 - Deixar as expectativas e limitações explícitas)\"\n",
            "[1] \"c4 (h2 - Apoiar o uso efetivo)\"\n",
            "[1] \"c14 (h5 - Falhar graciosamente e suportar a recuperação de erros)\"\n",
            "[1] \"c18 (h6 - Possibilitar coleta de feedback do usuário)\"\n",
            "[1] \"\"\n",
            "[1] \"Itens com cargas significativas no Fator 4:\"\n",
            "[1] \"c4 (h2 - Apoiar o uso efetivo)\"\n",
            "[1] \"c6 (h3 - Apoiar a compreensão do usuário sobre \\nincerteza e a confiança do modelo)\"\n",
            "[1] \"c10 (h3 - Apoiar a compreensão do usuário sobre \\nincerteza e a confiança do modelo)\"\n",
            "[1] \"c18 (h6 - Possibilitar coleta de feedback do usuário)\"\n",
            "[1] \"c20 (h7 - Mitigar viés)\"\n",
            "[1] \"\"\n",
            "[1] \"Itens com cargas significativas no Fator 5:\"\n",
            "[1] \"c4 (h2 - Apoiar o uso efetivo)\"\n",
            "[1] \"c5 (h2 - Apoiar o uso efetivo)\"\n",
            "[1] \"c13 (h5 - Falhar graciosamente e suportar a recuperação de erros)\"\n",
            "[1] \"\"\n"
          ]
        }
      ]
    },
    {
      "cell_type": "code",
      "source": [],
      "metadata": {
        "id": "ybS-YR2n4OXp"
      },
      "execution_count": null,
      "outputs": []
    }
  ]
}