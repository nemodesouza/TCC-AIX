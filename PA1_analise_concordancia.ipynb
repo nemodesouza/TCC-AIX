{
  "nbformat": 4,
  "nbformat_minor": 0,
  "metadata": {
    "colab": {
      "provenance": [],
      "authorship_tag": "ABX9TyOymMHY+cNJTHGFY49ByEcr",
      "include_colab_link": true
    },
    "kernelspec": {
      "name": "ir",
      "display_name": "R"
    },
    "language_info": {
      "name": "R"
    }
  },
  "cells": [
    {
      "cell_type": "markdown",
      "metadata": {
        "id": "view-in-github",
        "colab_type": "text"
      },
      "source": [
        "<a href=\"https://colab.research.google.com/github/nemodesouza/TCC-AIX/blob/main/PA1_analise_concordancia.ipynb\" target=\"_parent\"><img src=\"https://colab.research.google.com/assets/colab-badge.svg\" alt=\"Open In Colab\"/></a>"
      ]
    },
    {
      "cell_type": "code",
      "execution_count": null,
      "metadata": {
        "id": "kKXaLjbHQg4Z"
      },
      "outputs": [],
      "source": [
        "# UNIVERSIDADE FEDERAL DE SANTA CATARINA\n",
        "# CENTRO TECNOLÓGICO\n",
        "# DEPARTAMENTO DE INFORMÁTICA E ESTATÍSTICA\n",
        "# GRADUAÇÃO EM SISTEMAS DE INFORMAÇÃO\n",
        "# TRABALHO DE CONCLUSÃO DE CURSO\n",
        "# AUTOR: NEMO DE SOUZA\n",
        "\n",
        "# PA1 = Análise de Concordância entre Avaliadores\n",
        "# Script para cálculo do Kappa de Cohen e Kappa de Fleiss\n",
        "\n",
        "\n",
        "# Instalar bibliotecas necessárias (se ainda não estiverem instalados)\n",
        "if (!requireNamespace(\"irr\", quietly = TRUE)) {                     # Para cálculo dos coeficientes kappa\n",
        "  install.packages(\"irr\")\n",
        "}\n",
        "if (!requireNamespace(\"dplyr\", quietly = TRUE)) {                   # Para manipulação de dados\n",
        "  install.packages(\"dplyr\")\n",
        "}\n",
        "if (!requireNamespace(\"tidyr\", quietly = TRUE)) {                   # Para transformação de dados\n",
        "  install.packages(\"tidyr\")\n",
        "}\n",
        "if (!requireNamespace(\"ggplot2\", quietly = TRUE)) {                 # Para visualização\n",
        "  install.packages(\"ggplot2\")\n",
        "}\n",
        "if (!requireNamespace(\"reshape2\", quietly = TRUE)) {                # Para manipulação de dados em formato de matriz\n",
        "  install.packages(\"reshape2\")\n",
        "}\n",
        "\n",
        "# Carregar bibliotecas\n",
        "library(irr)\n",
        "library(dplyr)\n",
        "library(tidyr)\n",
        "library(ggplot2)\n",
        "library(reshape2)"
      ]
    },
    {
      "cell_type": "code",
      "source": [
        "# Definir diretório de trabalho e carregar dados\n",
        "\n",
        "### OBS: antes de executar, carregue os arquivos (de mesmo nome) na pasta do Colab (barra lateral \"Arquivos\")\n",
        "\n",
        "dados <- read.csv(\"PA1 - respostas_checklist - horizontal.csv\", stringsAsFactors = FALSE)\n",
        "matriz_heuristicas <- read.csv(\"matriz_heuristicas_e_itens_checklist.csv\", stringsAsFactors = FALSE)\n"
      ],
      "metadata": {
        "id": "mHHtshrXTr4Q"
      },
      "execution_count": null,
      "outputs": []
    },
    {
      "cell_type": "code",
      "source": [
        "# Examinar a estrutura dos dados\n",
        "str(dados)\n",
        "head(dados)"
      ],
      "metadata": {
        "id": "92dHsIIFTwXw"
      },
      "execution_count": null,
      "outputs": []
    },
    {
      "cell_type": "code",
      "source": [
        "# Dados dos apps\n",
        "app1_data <- dados[1:7, 3:25]  # Raymond's Flag Detector\n",
        "app2_data <- dados[8:14, 3:25] # AI Dermatologist\n",
        "\n",
        "# Converter para matrizes numéricafs\n",
        "app1_matrix <- as.matrix(app1_data)\n",
        "app2_matrix <- as.matrix(app2_data)\n",
        "\n",
        "# Converter para numérico\n",
        "app1_matrix <- apply(app1_matrix, 2, function(x) as.numeric(as.character(x)))\n",
        "app2_matrix <- apply(app2_matrix, 2, function(x) as.numeric(as.character(x)))\n",
        "\n",
        "# Nomear linhas e colunas\n",
        "rownames(app1_matrix) <- paste0(\"Av. \", 1:7)\n",
        "colnames(app1_matrix) <- paste0(\"c\", 1:23)\n",
        "rownames(app2_matrix) <- paste0(\"Av. \", 1:7)\n",
        "colnames(app2_matrix) <- paste0(\"c\", 1:23)\n",
        "\n",
        "# Verificar dimensões\n",
        "cat(\"Dimensões App1:\", dim(app1_matrix), \"\\n\")\n",
        "cat(\"Dimensões App2:\", dim(app2_matrix), \"\\n\")"
      ],
      "metadata": {
        "id": "G7fSL0rjTwm4"
      },
      "execution_count": null,
      "outputs": []
    },
    {
      "cell_type": "code",
      "source": [
        "# Calcular porcentagem de NA por item\n",
        "na_percentages_app1 <- colSums(is.na(app1_matrix)) / nrow(app1_matrix) * 100\n",
        "na_percentages_app2 <- colSums(is.na(app2_matrix)) / nrow(app2_matrix) * 100\n",
        "\n",
        "# Identificar itens com mais de 30% de NA\n",
        "high_na_items_app1 <- names(na_percentages_app1[na_percentages_app1 > 30])\n",
        "high_na_items_app2 <- names(na_percentages_app2[na_percentages_app2 > 30])\n",
        "\n",
        "cat(\"Itens com >30% NA - App1:\", high_na_items_app1, \"\\n\")\n",
        "cat(\"Itens com >30% NA - App2:\", high_na_items_app2, \"\\n\")"
      ],
      "metadata": {
        "id": "c6oKXLFDT9Bo"
      },
      "execution_count": null,
      "outputs": []
    },
    {
      "cell_type": "code",
      "source": [
        "# Remover itens com excesso de NA\n",
        "if(length(high_na_items_app1) > 0) {\n",
        "  app1_matrix_filtered <- app1_matrix[, !colnames(app1_matrix) %in% high_na_items_app1, drop = FALSE]\n",
        "} else {\n",
        "  app1_matrix_filtered <- app1_matrix\n",
        "}\n",
        "\n",
        "if(length(high_na_items_app2) > 0) {\n",
        "  app2_matrix_filtered <- app2_matrix[, !colnames(app2_matrix) %in% high_na_items_app2, drop = FALSE]\n",
        "} else {\n",
        "  app2_matrix_filtered <- app2_matrix\n",
        "}\n",
        "\n",
        "# Função melhorada para interpretar kappa (seguindo McHugh, 2012)\n",
        "interpretar_kappa <- function(k) {\n",
        "  if(is.na(k)) return(\"Não Aplicável\")\n",
        "  else if(k <= 0.20) return(\"Nenhuma (0-20%)\")\n",
        "  else if(k <= 0.39) return(\"Mínima (21-39%)\")\n",
        "  else if(k <= 0.59) return(\"Fraca (40-59%)\")\n",
        "  else if(k <= 0.79) return(\"Moderada (60-79%)\")\n",
        "  else if(k <= 0.90) return(\"Forte (80-90%)\")\n",
        "  else return(\"Quase Perfeita (91-100%)\")\n",
        "}\n",
        "\n",
        "# Função para calcular Kappa de Cohen entre dois avaliadores\n",
        "calcular_kappa_cohen <- function(matriz, avaliador1, avaliador2) {\n",
        "\n",
        "  # Extrair dados dos dois avaliadores\n",
        "  ratings <- matriz[c(avaliador1, avaliador2), , drop = FALSE]\n",
        "  ratings <- t(ratings)  # Transpor para formato correto (itens x avaliadores)\n",
        "  ratings <- ratings[complete.cases(ratings), , drop = FALSE]\n",
        "\n",
        "  if(nrow(ratings) < 2) return(NA)\n",
        "\n",
        "  k <- try(kappa2(ratings)$value, silent = TRUE)\n",
        "  return(ifelse(inherits(k, \"try-error\"), NA, k))\n",
        "}\n",
        "\n",
        "# Calcular matrizes de Kappa de Cohen\n",
        "kappas_app1 <- matrix(NA, nrow = 7, ncol = 7)\n",
        "kappas_app2 <- matrix(NA, nrow = 7, ncol = 7)\n",
        "rownames(kappas_app1) <- colnames(kappas_app1) <- paste0(\"Avaliador_\", 1:7)\n",
        "rownames(kappas_app2) <- colnames(kappas_app2) <- paste0(\"Avaliador_\", 1:7)\n",
        "\n",
        "# Preencher matrizes de concordância\n",
        "for(i in 1:7) {\n",
        "  kappas_app1[i, i] <- kappas_app2[i, i] <- 1.0  # Diagonal = 1 (concordância perfeita consigo mesmo)\n",
        "  for(j in 1:7) {\n",
        "    if(i != j) {\n",
        "      kappas_app1[i, j] <- calcular_kappa_cohen(app1_matrix_filtered, i, j)\n",
        "      kappas_app2[i, j] <- calcular_kappa_cohen(app2_matrix_filtered, i, j)\n",
        "    }\n",
        "  }\n",
        "}\n",
        "# Calcular estatísticas por avaliador\n",
        "stats_por_avaliador_app1 <- data.frame(\n",
        "  Avaliador = paste0(\"Av. \", 1:7),\n",
        "  Media_Concordancia = sapply(1:7, function(i) mean(kappas_app1[i, -i], na.rm = TRUE)),\n",
        "  stringsAsFactors = FALSE\n",
        ")\n",
        "stats_por_avaliador_app1$Interpretacao <- sapply(stats_por_avaliador_app1$Media_Concordancia, interpretar_kappa)\n",
        "\n",
        "stats_por_avaliador_app2 <- data.frame(\n",
        "  Avaliador = paste0(\"Av. \", 1:7),\n",
        "  Media_Concordancia = sapply(1:7, function(i) mean(kappas_app2[i, -i], na.rm = TRUE)),\n",
        "  stringsAsFactors = FALSE\n",
        ")\n",
        "stats_por_avaliador_app2$Interpretacao <- sapply(stats_por_avaliador_app2$Media_Concordancia, interpretar_kappa)\n"
      ],
      "metadata": {
        "id": "QMf25Zw9T85g"
      },
      "execution_count": null,
      "outputs": []
    },
    {
      "cell_type": "code",
      "source": [
        "# Função para calcular Kappa de Fleiss\n",
        "calcular_fleiss <- function(matriz) {\n",
        "  cat(\"Calculando Fleiss para matriz de dimensão:\", dim(matriz), \"\\n\")\n",
        "\n",
        "  # Verificar se há dados válidos\n",
        "  if(nrow(matriz) == 0 || ncol(matriz) == 0) {\n",
        "    cat(\"Matriz vazia - retornando valores padrão\\n\")\n",
        "    return(list(kappa = NA, ic_lower = NA, ic_upper = NA, p_value = NA, n_itens = 0))\n",
        "  }\n",
        "\n",
        "  # Transpor matriz para formato correto (itens nas linhas, avaliadores nas colunas)\n",
        "  matriz_t <- t(matriz)\n",
        "  cat(\"Matriz transposta - dimensão:\", dim(matriz_t), \"\\n\")\n",
        "\n",
        "  # Remover linhas com qualquer NA\n",
        "  matriz_completa <- matriz_t[complete.cases(matriz_t), , drop = FALSE]\n",
        "  cat(\"Itens completos após remoção de NA:\", nrow(matriz_completa), \"\\n\")\n",
        "\n",
        "  if(nrow(matriz_completa) < 2) {\n",
        "    cat(\"Insuficientes itens completos - retornando valores padrão\\n\")\n",
        "    return(list(kappa = NA, ic_lower = NA, ic_upper = NA, p_value = NA, n_itens = nrow(matriz_completa)))\n",
        "  }\n",
        "\n",
        "  # Verificar se há variabilidade nos dados\n",
        "  if(length(unique(as.vector(matriz_completa))) < 2) {\n",
        "    cat(\"Sem variabilidade nos dados - retornando valores padrão\\n\")\n",
        "    return(list(kappa = NA, ic_lower = NA, ic_upper = NA, p_value = NA, n_itens = nrow(matriz_completa)))\n",
        "  }\n",
        "\n",
        "  # Tentar calcular Fleiss kappa\n",
        "  resultado <- tryCatch({\n",
        "    fleiss_result <- kappam.fleiss(matriz_completa, exact = FALSE)\n",
        "    list(\n",
        "      kappa = fleiss_result$value,\n",
        "      ic_lower = fleiss_result$confid[1],\n",
        "      ic_upper = fleiss_result$confid[2],\n",
        "      p_value = fleiss_result$p.value,\n",
        "      n_itens = nrow(matriz_completa)\n",
        "    )\n",
        "  }, error = function(e) {\n",
        "    cat(\"Erro no cálculo de Fleiss:\", e$message, \"\\n\")\n",
        "    list(kappa = NA, ic_lower = NA, ic_upper = NA, p_value = NA, n_itens = nrow(matriz_completa))\n",
        "  })\n",
        "\n",
        "  return(resultado)\n",
        "}\n"
      ],
      "metadata": {
        "id": "zQs-GIrjjabj"
      },
      "execution_count": null,
      "outputs": []
    },
    {
      "cell_type": "code",
      "source": [
        "# Calcular Fleiss para ambos apps\n",
        "cat(\"Calculando Kappa de Fleiss...\\n\")\n",
        "fleiss_app1 <- calcular_fleiss(app1_matrix_filtered)\n",
        "fleiss_app2 <- calcular_fleiss(app2_matrix_filtered)\n",
        "\n",
        "cat(\"Resultado Fleiss App1:\", str(fleiss_app1), \"\\n\")\n",
        "cat(\"Resultado Fleiss App2:\", str(fleiss_app2), \"\\n\")\n",
        "\n",
        "# Função auxiliar para extrair valores com segurança\n",
        "extrair_valor <- function(lista, chave, padrao = NA) {\n",
        "  if(is.null(lista) || is.null(lista[[chave]])) {\n",
        "    return(padrao)\n",
        "  }\n",
        "  return(lista[[chave]])\n",
        "}"
      ],
      "metadata": {
        "id": "8iUtPCQtjGWV"
      },
      "execution_count": null,
      "outputs": []
    },
    {
      "cell_type": "code",
      "source": [
        "# Criar resumo dos resultados Fleiss com tratamento seguro\n",
        "fleiss_results <- data.frame(\n",
        "  App = c(\"Raymond's Flag Detector\", \"AI Dermatologist - Skin Scanner\"),\n",
        "  Kappa = c(\n",
        "    extrair_valor(fleiss_app1, \"kappa\"),\n",
        "    extrair_valor(fleiss_app2, \"kappa\")\n",
        "  ),\n",
        "  IC_Lower = c(\n",
        "    extrair_valor(fleiss_app1, \"ic_lower\"),\n",
        "    extrair_valor(fleiss_app2, \"ic_lower\")\n",
        "  ),\n",
        "  IC_Upper = c(\n",
        "    extrair_valor(fleiss_app1, \"ic_upper\"),\n",
        "    extrair_valor(fleiss_app2, \"ic_upper\")\n",
        "  ),\n",
        "  p_value = c(\n",
        "    extrair_valor(fleiss_app1, \"p_value\"),\n",
        "    extrair_valor(fleiss_app2, \"p_value\")\n",
        "  ),\n",
        "  N_Itens = c(\n",
        "    extrair_valor(fleiss_app1, \"n_itens\", 0),\n",
        "    extrair_valor(fleiss_app2, \"n_itens\", 0)\n",
        "  ),\n",
        "  stringsAsFactors = FALSE\n",
        ")\n",
        "\n",
        "fleiss_results$Interpretacao <- sapply(fleiss_results$Kappa, interpretar_kappa)\n"
      ],
      "metadata": {
        "id": "ifKR3Ol0T8lK"
      },
      "execution_count": null,
      "outputs": []
    },
    {
      "cell_type": "code",
      "source": [
        "# Estatísticas gerais do Kappa de Cohen\n",
        "stats_geral <- data.frame(\n",
        "  App = c(\"Raymond's Flag Detector\", \"AI Dermatologist - Skin Scanner\"),\n",
        "  Media_Kappa = c(\n",
        "    mean(kappas_app1[lower.tri(kappas_app1)], na.rm = TRUE),\n",
        "    mean(kappas_app2[lower.tri(kappas_app2)], na.rm = TRUE)\n",
        "  ),\n",
        "  Mediana_Kappa = c(\n",
        "    median(kappas_app1[lower.tri(kappas_app1)], na.rm = TRUE),\n",
        "    median(kappas_app2[lower.tri(kappas_app2)], na.rm = TRUE)\n",
        "  ),\n",
        "  DP_Kappa = c(\n",
        "    sd(kappas_app1[lower.tri(kappas_app1)], na.rm = TRUE),\n",
        "    sd(kappas_app2[lower.tri(kappas_app2)], na.rm = TRUE)\n",
        "  ),\n",
        "  Min_Kappa = c(\n",
        "    min(kappas_app1[lower.tri(kappas_app1)], na.rm = TRUE),\n",
        "    max(kappas_app1[lower.tri(kappas_app1)], na.rm = TRUE)\n",
        "  ),\n",
        "  Max_Kappa = c(\n",
        "    min(kappas_app2[lower.tri(kappas_app2)], na.rm = TRUE),\n",
        "    max(kappas_app2[lower.tri(kappas_app2)], na.rm = TRUE)\n",
        "  )\n",
        ")\n",
        "\n",
        "stats_geral$Interpretacao <- sapply(stats_geral$Media_Kappa, interpretar_kappa)\n"
      ],
      "metadata": {
        "id": "gZmIbzWkiulv"
      },
      "execution_count": null,
      "outputs": []
    },
    {
      "cell_type": "code",
      "source": [
        "# Função heatmap\n",
        "criar_heatmap <- function(matriz_kappa, titulo_app) {\n",
        "  melted <- reshape2::melt(matriz_kappa)\n",
        "  names(melted) <- c(\"Avaliador1\", \"Avaliador2\", \"Kappa\")\n",
        "\n",
        "  ggplot(melted, aes(x = Avaliador1, y = Avaliador2, fill = Kappa)) +\n",
        "    geom_tile(color = \"white\", linewidth = 0.5) +\n",
        "    geom_text(aes(label = round(Kappa, 3)), color = \"black\", size = 3) +\n",
        "    scale_fill_gradient2(low = \"#d73027\", mid = \"white\", high = \"#1a9850\",\n",
        "                         midpoint = 0.5, limits = c(-1, 1), na.value = \"grey90\",\n",
        "                         name = \"Kappa\") +\n",
        "    scale_y_discrete(limits = rev) +\n",
        "    labs(title = \"Matriz de Concordância - Kappa de Cohen\",\n",
        "         subtitle = titulo_app,\n",
        "         x = \"Avaliador\", y = \"Avaliador\") +\n",
        "    theme_minimal() +\n",
        "    theme(axis.text.x = element_text(angle = 45, hjust = 1, size = 10),\n",
        "          axis.text.y = element_text(size = 10),\n",
        "          plot.title = element_text(hjust = 0.5, face = \"bold\", size = 14),\n",
        "          plot.subtitle = element_text(hjust = 0.5, size = 12))\n",
        "}\n",
        "\n",
        "\n"
      ],
      "metadata": {
        "id": "c5UVi9SfT8iR"
      },
      "execution_count": null,
      "outputs": []
    },
    {
      "cell_type": "code",
      "source": [
        "# Criar visualizações\n",
        "p1 <- criar_heatmap(kappas_app1, \"Raymond's Flag Detector\")\n",
        "p2 <- criar_heatmap(kappas_app2, \"AI Dermatologist - Skin Scanner\")\n",
        "\n",
        "  #Visualizar plot\n",
        "  plot(p1)\n",
        "  plot(p2)\n",
        "\n",
        "# Gráficos de barras para média de concordância por avaliador\n",
        "p3 <- ggplot(stats_por_avaliador_app1, aes(x = reorder(Avaliador, -Media_Concordancia),\n",
        "                                           y = Media_Concordancia)) +\n",
        "  geom_bar(stat = \"identity\", fill = \"steelblue\", alpha = 0.7) +\n",
        "  geom_text(aes(label = round(Media_Concordancia, 3)), vjust = -0.5) + #, size = 3) +\n",
        "  labs(title = \"Média de Concordância por Avaliador\",\n",
        "       subtitle = \"Raymond's Flag Detector\",\n",
        "       x = \"Avaliador\", y = \"Média de Kappa de Cohen\") +\n",
        "  theme_minimal() +\n",
        "  theme(axis.text.x = element_text(angle = 45, hjust = 1))+\n",
        "  ylim(0, max(stats_por_avaliador_app1$Media_Concordancia) * 1.1)\n",
        "\n",
        "  #Visualizar plot\n",
        "  plot(p3)\n",
        "\n",
        "p4 <- ggplot(stats_por_avaliador_app2, aes(x = reorder(Avaliador, -Media_Concordancia),\n",
        "                                           y = Media_Concordancia)) +\n",
        "  geom_bar(stat = \"identity\", fill = \"steelblue\", alpha = 0.7) +\n",
        "  geom_text(aes(label = round(Media_Concordancia, 3)), vjust = -0.5) + #, size = 3) +\n",
        "  labs(title = \"Média de Concordância por Avaliador\",\n",
        "       subtitle = \"AI Dermatologist - Skin Scanner\",\n",
        "       x = \"Avaliador\", y = \"Média de Kappa de Cohen\") +\n",
        "  theme_minimal() +\n",
        "  theme(axis.text.x = element_text(angle = 45, hjust = 1))+\n",
        "  ylim(0, max(stats_por_avaliador_app2$Media_Concordancia) * 1.1)\n",
        "\n",
        "  #Visualizar plot\n",
        "  plot(p4)"
      ],
      "metadata": {
        "id": "YoALPaa8kLgz"
      },
      "execution_count": null,
      "outputs": []
    },
    {
      "cell_type": "code",
      "source": [
        "# Salvar resultados em arquivos CSV\n",
        "write.csv(fleiss_results, \"resultados_kappa_fleiss.csv\", row.names = FALSE)\n",
        "write.csv(stats_geral, \"estatisticas_gerais_cohen.csv\", row.names = FALSE)\n",
        "write.csv(stats_por_avaliador_app1, \"stats_avaliador_app1.csv\", row.names = FALSE)\n",
        "write.csv(stats_por_avaliador_app2, \"stats_avaliador_app2.csv\", row.names = FALSE)\n",
        "write.csv(kappas_app1, \"matriz_kappa_cohen_app1.csv\")\n",
        "write.csv(kappas_app2, \"matriz_kappa_cohen_app2.csv\")\n",
        "\n",
        "#OBS: os arquivos gerados estarão disponíveis para download na lateral, no menu \"Arquivos\""
      ],
      "metadata": {
        "id": "SD6g8c3mT8bw"
      },
      "execution_count": null,
      "outputs": []
    },
    {
      "cell_type": "code",
      "source": [
        "# Salvar gráficos\n",
        "# Imprimir o gráfico antes de salvar para garantir que o objeto está disponível\n",
        "plot(p1)\n",
        "ggsave(\"heatmap_app1.png\", p1, width = 10, height = 8, dpi = 300)\n",
        "\n",
        "plot(p2)\n",
        "ggsave(\"heatmap_app2.png\", p2, width = 10, height = 8, dpi = 300)\n",
        "\n",
        "plot(p3)\n",
        "ggsave(\"barras_concordancia_app1.png\", p3, width = 10, height = 6, dpi = 300)\n",
        "\n",
        "plot(p4)\n",
        "ggsave(\"barras_concordancia_app2.png\", p4, width = 10, height = 6, dpi = 300)\n",
        "\n",
        "#OBS: os arquivos gerados estarão disponíveis para download na lateral, no menu \"Arquivos\""
      ],
      "metadata": {
        "id": "C3VZoBQbT8UU"
      },
      "execution_count": null,
      "outputs": []
    },
    {
      "cell_type": "code",
      "source": [
        "# Exibir todos os resultados em tela de prompt\n",
        "cat(\"\\n=== RESULTADOS DA ANÁLISE DE CONCORDÂNCIA ===\\n\")\n",
        "\n",
        "cat(\"\\n--- 1. KAPPA DE FLEISS (Concordância Geral) ---\\n\")\n",
        "print(fleiss_results)\n",
        "\n",
        "cat(\"\\n--- 2. ESTATÍSTICAS GERAIS DO KAPPA DE COHEN ---\\n\")\n",
        "print(stats_geral)\n",
        "\n",
        "cat(\"\\n--- 3. CONCORDÂNCIA MÉDIA POR AVALIADOR (Raymond's Flag Detector) ---\\n\")\n",
        "print(stats_por_avaliador_app1)\n",
        "\n",
        "cat(\"\\n--- 4. CONCORDÂNCIA MÉDIA POR AVALIADOR (AI Dermatologist) ---\\n\")\n",
        "print(stats_por_avaliador_app2)\n",
        "\n",
        "cat(\"\\n--- 5. RESUMO DE ITENS ANALISADOS ---\\n\")\n",
        "cat(\"App1 - Itens com >30% NA removidos:\", length(high_na_items_app1), \"\\n\")\n",
        "cat(\"App1 - Itens restantes para análise:\", ncol(app1_matrix_filtered), \"\\n\")\n",
        "cat(\"App2 - Itens com >30% NA removidos:\", length(high_na_items_app2), \"\\n\")\n",
        "cat(\"App2 - Itens restantes para análise:\", ncol(app2_matrix_filtered), \"\\n\")"
      ],
      "metadata": {
        "id": "A5N3ya1dUhew"
      },
      "execution_count": null,
      "outputs": []
    }
  ]
}