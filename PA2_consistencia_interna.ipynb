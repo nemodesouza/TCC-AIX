{
  "nbformat": 4,
  "nbformat_minor": 0,
  "metadata": {
    "colab": {
      "provenance": [],
      "authorship_tag": "ABX9TyN3Pt4MzlrZtS+notRm2vz4",
      "include_colab_link": true
    },
    "kernelspec": {
      "name": "ir",
      "display_name": "R"
    },
    "language_info": {
      "name": "R"
    }
  },
  "cells": [
    {
      "cell_type": "markdown",
      "metadata": {
        "id": "view-in-github",
        "colab_type": "text"
      },
      "source": [
        "<a href=\"https://colab.research.google.com/github/nemodesouza/TCC-AIX/blob/main/PA2_consistencia_interna.ipynb\" target=\"_parent\"><img src=\"https://colab.research.google.com/assets/colab-badge.svg\" alt=\"Open In Colab\"/></a>"
      ]
    },
    {
      "cell_type": "code",
      "execution_count": null,
      "metadata": {
        "id": "a2QMM9tlmbql"
      },
      "outputs": [],
      "source": [
        "# UNIVERSIDADE FEDERAL DE SANTA CATARINA\n",
        "# CENTRO TECNOLÓGICO\n",
        "# DEPARTAMENTO DE INFORMÁTICA E ESTATÍSTICA\n",
        "# GRADUAÇÃO EM SISTEMAS DE INFORMAÇÃO\n",
        "# TRABALHO DE CONCLUSÃO DE CURSO\n",
        "# NEMO DE SOUZA\n",
        "\n",
        "# PA2 = Análise de Consistência Interna do Checklist AIX\n",
        "# Script para a análise de consistência interna do checklist de heurísticas de usabilidade\n",
        "\n",
        "# Carregamento de bibliotecas\n",
        "if (!require(psych)) install.packages(\"psych\")      # Para alfa de Cronbach e análise fatorial\n",
        "if (!require(dplyr)) install.packages(\"dplyr\")      # Para manipulação de dados\n",
        "if (!require(tidyr)) install.packages(\"tidyr\")      # Para reorganização de dados\n",
        "if (!require(ggplot2)) install.packages(\"ggplot2\")  # Para visualizações\n",
        "\n",
        "library(psych)\n",
        "library(dplyr)\n",
        "library(tidyr)\n",
        "library(ggplot2)"
      ]
    },
    {
      "cell_type": "code",
      "source": [
        "# Carregamento dos dados\n",
        "\n",
        "### OBS: antes de executar, carregue os arquivos (de mesmo nome) na pasta do Colab (barra lateral \"Arquivos\")\n",
        "\n",
        "# Ajuste o caminho conforme necessário\n",
        "dados_path <- \"PA2 a PA4 - matrix_avaliacao_aplicativos.csv\"\n",
        "heuristicas_path <- \"matriz_heuristicas_e_itens_checklist.csv\"\n",
        "\n",
        "dados <- read.csv(dados_path, stringsAsFactors = FALSE)\n",
        "heuristicas <- read.csv(heuristicas_path, stringsAsFactors = FALSE)\n",
        "\n",
        "# Verificação da estrutura dos dados\n",
        "str(dados)\n",
        "head(dados)\n",
        "\n",
        "# Verificar a estrutura das heurísticas\n",
        "str(heuristicas)\n",
        "head(heuristicas)"
      ],
      "metadata": {
        "id": "JPVJ2nsBnqWb"
      },
      "execution_count": null,
      "outputs": []
    },
    {
      "cell_type": "code",
      "source": [
        "#### Preparação dos dados para análise\n",
        "\n",
        "# Seleção das colunas dos itens (c1 a c23)\n",
        "itens <- dados[, grep(\"^c\\\\d+$\", names(dados))]\n",
        "\n",
        "# Conversão das respostas para valores numéricos (Sim = 1, Não = 0, NA = NA)\n",
        "itens_num <- as.data.frame(lapply(itens, function(x) {\n",
        "  ifelse(x == \"Sim\", 1, ifelse(x == \"Não\", 0, NA))\n",
        "}))\n",
        "\n",
        "# Verificação da conversão\n",
        "head(itens_num)\n"
      ],
      "metadata": {
        "id": "igHi-mJjn4qA"
      },
      "execution_count": null,
      "outputs": []
    },
    {
      "cell_type": "code",
      "source": [
        "#### Criação do dicionário para mapear códigos de itens para descrições de heurísticas\n",
        "\n",
        "# Estrutura arquivo:\n",
        "# - ID Heurística: h1, h2, etc.\n",
        "# - Heurística: Descrição da heurística\n",
        "# - ID checklist: c1, c2, etc.\n",
        "# - Item de checklist: Descrição do checklist\n",
        "\n",
        "id_heuristicas <- heuristicas$ID.Heurística\n",
        "descricoes_heuristicas <- heuristicas$Heurística\n",
        "codigos_itens <- heuristicas$ID.checklist\n",
        "descricoes_itens <- heuristicas$Item.de.checklist\n",
        "\n",
        "# Criação dataframe de mapeamento\n",
        "dicionario <- data.frame(\n",
        "  codigo_item = codigos_itens,\n",
        "  descricao_item = descricoes_itens,\n",
        "  id_heuristica = id_heuristicas,\n",
        "  descricao_heuristica = descricoes_heuristicas,\n",
        "  stringsAsFactors = FALSE\n",
        ")\n",
        "\n",
        "# Verificação o dicionário criado\n",
        "head(dicionario)"
      ],
      "metadata": {
        "id": "MKGQTWDIn93f"
      },
      "execution_count": null,
      "outputs": []
    },
    {
      "cell_type": "code",
      "source": [
        "#### Identificação e remoção de colunas problemáticas\n",
        "# Cálculo da porcentagem de NAs em cada coluna\n",
        "na_percentagem <- colMeans(is.na(itens_num)) * 100\n",
        "print(\"Porcentagem de NAs em cada coluna:\")\n",
        "print(na_percentagem)\n",
        "\n",
        "# Cálculo do desvio padrão de cada coluna\n",
        "desvios <- sapply(itens_num, sd, na.rm = TRUE)\n",
        "print(\"Desvio padrão de cada coluna:\")\n",
        "print(desvios)\n",
        "\n",
        "# Colunas com desvio padrão zero ou muito baixo\n",
        "colunas_desvio_zero <- names(desvios[desvios < 0.1])\n",
        "print(\"Colunas com desvio padrão próximo de zero:\")\n",
        "print(colunas_desvio_zero)\n",
        "\n",
        "# Colunas com muitos NAs (mais de 30%)\n",
        "colunas_muitos_na <- names(na_percentagem[na_percentagem > 30])\n",
        "print(\"Colunas com mais de 30% de NAs:\")\n",
        "print(colunas_muitos_na)\n",
        "\n",
        "# Colunas a serem removidas (desvio zero ou muitos NAs)\n",
        "colunas_remover <- unique(c(colunas_desvio_zero, colunas_muitos_na))\n",
        "print(\"Colunas a serem removidas:\")\n",
        "print(colunas_remover)\n",
        "\n",
        "# Conjunto de dados limpo\n",
        "itens_limpos <- itens_num[, !(names(itens_num) %in% colunas_remover)]\n",
        "\n",
        "# Verificação das dimensões do conjunto de dados após limpeza\n",
        "print(\"Dimensões do conjunto de dados após limpeza:\")\n",
        "print(dim(itens_limpos))\n",
        "\n",
        "# Dataframe com informações detalhadas sobre os itens removidos\n",
        "itens_removidos <- data.frame(\n",
        "  codigo = colunas_remover,\n",
        "  descricao = sapply(colunas_remover, function(codigo) {\n",
        "    idx <- which(dicionario$codigo_item == codigo)\n",
        "    if (length(idx) > 0) dicionario$descricao_item[idx[1]] else NA\n",
        "  }),\n",
        "  motivo = sapply(colunas_remover, function(codigo) {\n",
        "    if (codigo %in% colunas_desvio_zero) {\n",
        "      if (codigo %in% colunas_muitos_na) {\n",
        "        return(\"Desvio padrão próximo de zero e muitos NAs\")\n",
        "      } else {\n",
        "        return(\"Desvio padrão próximo de zero\")\n",
        "      }\n",
        "    } else {\n",
        "      return(\"Muitos valores NA\")\n",
        "    }\n",
        "  })\n",
        ")\n"
      ],
      "metadata": {
        "id": "afp5izGCoGuz"
      },
      "execution_count": null,
      "outputs": []
    },
    {
      "cell_type": "code",
      "source": [
        "# Informações detalhadas sobre os itens removidos\n",
        "print(\"Detalhes dos itens removidos:\")\n",
        "print(itens_removidos)"
      ],
      "metadata": {
        "id": "Y61rDqn0oM5C"
      },
      "execution_count": null,
      "outputs": []
    },
    {
      "cell_type": "code",
      "source": [
        "# Salvamento da lista de itens removidos para referência futura\n",
        "write.csv(itens_removidos, \"itens_removidos.csv\", row.names = FALSE)\n",
        "# OBS: os arquivos gerados estarão disponíveis para download na lateral, no menu \"Arquivos\""
      ],
      "metadata": {
        "id": "IlUQlbvUoSjD"
      },
      "execution_count": null,
      "outputs": []
    },
    {
      "cell_type": "code",
      "source": [
        "#### Calculo do Alfa de Cronbach usando correlações par a par\n",
        "alfa_resultado <- alpha(itens_limpos, check.keys = TRUE, use = \"pairwise.complete.obs\")\n",
        "print(\"Alfa de Cronbach para o checklist limpo (usando correlações par a par):\")\n",
        "print(alfa_resultado$total$raw_alpha)\n",
        "print(alfa_resultado$total)"
      ],
      "metadata": {
        "id": "pZT5kUJBohl1"
      },
      "execution_count": null,
      "outputs": []
    },
    {
      "cell_type": "code",
      "source": [
        "#### Calculo do Ômega de McDonald  com correlações par a par\n",
        "tryCatch({\n",
        "  # Tentar com opções mais robustas\n",
        "  omega_resultado <- omega(itens_limpos, nfactors = 4,\n",
        "                           use = \"pairwise.complete.obs\",\n",
        "                           fm = \"ml\",       # Método de máxima verossimilhança\n",
        "                           plot = FALSE,    # Não plotar resultados\n",
        "                           warnings = FALSE) # Suprimir avisos\n",
        "\n",
        "  cat(\"Ômega de McDonald para o checklist limpo:\\n\")\n",
        "  cat(\"Ômega Total:\", round(omega_resultado$omega.tot, 3), \"\\n\")\n",
        "  cat(\"Ômega Hierárquico:\", round(omega_resultado$omega_h, 3), \"\\n\")\n",
        "}, error = function(e) {\n",
        "  cat(\"Erro ao calcular Ômega de McDonald com 4 fatores:\", e$message, \"\\n\")\n",
        "  cat(\"Tentando com menos fatores...\\n\")\n",
        "\n",
        "  # Tentar com 3 fatores\n",
        "  tryCatch({\n",
        "    omega_resultado <- omega(itens_limpos, nfactors = 3,\n",
        "                             use = \"pairwise.complete.obs\",\n",
        "                             fm = \"ml\",\n",
        "                             plot = FALSE,\n",
        "                             warnings = FALSE)\n",
        "\n",
        "    cat(\"Ômega Total (3 fatores):\", round(omega_resultado$omega.tot, 3), \"\\n\")\n",
        "    cat(\"Ômega Hierárquico (3 fatores):\", round(omega_resultado$omega_h, 3), \"\\n\")\n",
        "\n",
        "    # Armazenar o resultado para uso posterior\n",
        "    assign(\"omega_resultado\", omega_resultado, envir = .GlobalEnv)\n",
        "  }, error = function(e2) {\n",
        "    cat(\"Erro ao calcular Ômega de McDonald com 3 fatores:\", e2$message, \"\\n\")\n",
        "    cat(\"Tentando com 2 fatores...\\n\")\n",
        "\n",
        "    # Tentar com 2 fatores\n",
        "    tryCatch({\n",
        "      omega_resultado <- omega(itens_limpos, nfactors = 2,\n",
        "                               use = \"pairwise.complete.obs\",\n",
        "                               fm = \"ml\",\n",
        "                               plot = FALSE,\n",
        "                               warnings = FALSE)\n",
        "\n",
        "      cat(\"Ômega Total (2 fatores):\", round(omega_resultado$omega.tot, 3), \"\\n\")\n",
        "      cat(\"Ômega Hierárquico (2 fatores):\", round(omega_resultado$omega_h, 3), \"\\n\")\n",
        "\n",
        "      # Armazenar o resultado para uso posterior\n",
        "      assign(\"omega_resultado\", omega_resultado, envir = .GlobalEnv)\n",
        "    }, error = function(e3) {\n",
        "      cat(\"Erro ao calcular Ômega de McDonald com 2 fatores:\", e3$message, \"\\n\")\n",
        "\n",
        "      # Última tentativa: usar um método alternativo\n",
        "      cat(\"Tentando método alternativo (minres)...\\n\")\n",
        "      tryCatch({\n",
        "        omega_resultado <- omega(itens_limpos, nfactors = 2,\n",
        "                                 use = \"pairwise.complete.obs\",\n",
        "                                 fm = \"minres\",  # Método alternativo\n",
        "                                 plot = FALSE,\n",
        "                                 warnings = FALSE)\n",
        "\n",
        "        cat(\"Ômega Total (método alternativo):\", round(omega_resultado$omega.tot, 3), \"\\n\")\n",
        "        cat(\"Ômega Hierárquico (método alternativo):\", round(omega_resultado$omega_h, 3), \"\\n\")\n",
        "\n",
        "        # Armazenar o resultado para uso posterior\n",
        "        assign(\"omega_resultado\", omega_resultado, envir = .GlobalEnv)\n",
        "      }, error = function(e4) {\n",
        "        cat(\"Não foi possível calcular o Ômega de McDonald com nenhum método.\\n\")\n",
        "        cat(\"Prosseguindo com a análise sem o Ômega.\\n\")\n",
        "      })\n",
        "    })\n",
        "  })\n",
        "})\n"
      ],
      "metadata": {
        "id": "9qZpPcHlop1l"
      },
      "execution_count": null,
      "outputs": []
    },
    {
      "cell_type": "code",
      "source": [
        "#### Cálculo do Alfa de Cronbach para cada grupo de heurísticas\n",
        "\n",
        "# Grupos únicos de heurísticas\n",
        "grupos_unicos <- unique(dicionario$id_heuristica[!is.na(dicionario$id_heuristica)])\n",
        "resultados_por_grupo <- list()\n",
        "\n",
        "print(\"Alfa de Cronbach por grupo de heurísticas:\")\n",
        "\n",
        "for (grupo in grupos_unicos) {\n",
        "  # Obtenção dos códigos dos itens para este grupo\n",
        "  codigos_grupo <- dicionario$codigo_item[dicionario$id_heuristica == grupo]\n",
        "\n",
        "  # Verificação de se todos os códigos existem nas colunas de itens limpos\n",
        "  codigos_validos <- codigos_grupo[codigos_grupo %in% names(itens_limpos)]\n",
        "\n",
        "  # Se pelo menos 2 itens válidos, calculo do alfa\n",
        "  if (length(codigos_validos) > 1) {\n",
        "\n",
        "    # Selação apenas desses itens dos dados\n",
        "    itens_grupo <- itens_limpos[, codigos_validos]\n",
        "\n",
        "    # Cálculo do Alfa de Cronbach para esse grupo\n",
        "    alfa_grupo <- alpha(itens_grupo, check.keys = TRUE, use = \"pairwise.complete.obs\")\n",
        "\n",
        "    # Nome do grupo (pegar a primeira ocorrência não-NA)\n",
        "    nome_grupo <- dicionario$descricao_heuristica[dicionario$id_heuristica == grupo][1]\n",
        "\n",
        "    # Armazenar resultados\n",
        "    resultados_por_grupo[[grupo]] <- list(\n",
        "      nome = nome_grupo,\n",
        "      alfa_raw = alfa_grupo$total$raw_alpha,\n",
        "      alfa_std = alfa_grupo$total$std.alpha,\n",
        "      n_itens = length(codigos_validos),\n",
        "      itens = codigos_validos\n",
        "    )\n",
        "\n",
        "    # Exibição de resultados\n",
        "    cat(\"\\nGrupo:\", grupo, \"-\", nome_grupo, \"\\n\")\n",
        "    cat(\"Número de itens:\", length(codigos_validos), \"\\n\")\n",
        "    cat(\"Itens:\", paste(codigos_validos, collapse = \", \"), \"\\n\")\n",
        "    cat(\"Alfa de Cronbach (raw):\", round(alfa_grupo$total$raw_alpha, 3), \"\\n\")\n",
        "    cat(\"Alfa de Cronbach (std):\", round(alfa_grupo$total$std.alpha, 3), \"\\n\")\n",
        "  } else {\n",
        "    cat(\"\\nGrupo:\", grupo, \"\\n\")\n",
        "    cat(\"Número de itens insuficiente para calcular alfa (precisa de pelo menos 2 itens)\\n\")\n",
        "    cat(\"Itens:\", paste(codigos_validos, collapse = \", \"), \"\\n\")\n",
        "  }\n",
        "}\n"
      ],
      "metadata": {
        "id": "pgMQoTfbov2s"
      },
      "execution_count": null,
      "outputs": []
    },
    {
      "cell_type": "code",
      "source": [
        "#### Análise de itens - como cada item afeta a confiabilidade\n",
        "print(\"Alfa se o item for removido:\")\n",
        "alfa_drop <- alfa_resultado$alpha.drop\n",
        "\n",
        "# Adicionar descrições dos itens\n",
        "alfa_drop$descricao <- sapply(rownames(alfa_drop), function(codigo) {\n",
        "  idx <- which(dicionario$codigo_item == codigo)\n",
        "  if (length(idx) > 0) dicionario$descricao_item[idx[1]] else NA\n",
        "})\n",
        "\n",
        "alfa_drop$heuristica <- sapply(rownames(alfa_drop), function(codigo) {\n",
        "  idx <- which(dicionario$codigo_item == codigo)\n",
        "  if (length(idx) > 0) dicionario$id_heuristica[idx[1]] else NA\n",
        "})\n",
        "\n",
        "# Ordenação do impacto na confiabilidade (maior alfa se removido = item menos importante)\n",
        "alfa_drop_ordenado <- alfa_drop[order(alfa_drop$raw_alpha, decreasing = TRUE), ]\n",
        "print(alfa_drop_ordenado)\n",
        "\n",
        "# Identificação de itens problemáticos (remoção aumentaria o alfa)\n",
        "itens_problematicos <- alfa_drop_ordenado[alfa_drop_ordenado$raw_alpha > alfa_resultado$total$raw_alpha, ]\n",
        "if (nrow(itens_problematicos) > 0) {\n",
        "  print(\"Itens cuja remoção aumentaria o Alfa de Cronbach:\")\n",
        "  print(itens_problematicos)\n",
        "} else {\n",
        "  print(\"Nenhum item cuja remoção aumentaria o Alfa de Cronbach.\")\n",
        "}"
      ],
      "metadata": {
        "id": "cENeDARjo3u3"
      },
      "execution_count": null,
      "outputs": []
    },
    {
      "cell_type": "code",
      "source": [
        "#### Salvamento dos resultados em CSV\n",
        "\n",
        "# Dataframe com os resultados por grupo\n",
        "grupos_df <- data.frame(\n",
        "  grupo = names(resultados_por_grupo),\n",
        "  nome_grupo = sapply(resultados_por_grupo, function(x) x$nome),\n",
        "  alfa = sapply(resultados_por_grupo, function(x) x$alfa_raw),  # IMPORTANTE: Usando 'alfa' consistentemente\n",
        "  alfa_std = sapply(resultados_por_grupo, function(x) x$alfa_std),\n",
        "  n_itens = sapply(resultados_por_grupo, function(x) x$n_itens)\n",
        ")\n",
        "\n",
        "# Filtragem dos grupos com pelo menos 2 itens\n",
        "grupos_df <- grupos_df[grupos_df$n_itens > 1, ]\n",
        "\n",
        "# Ordenação por valor de alfa\n",
        "grupos_df <- grupos_df[order(grupos_df$alfa, decreasing = TRUE), ]  # IMPORTANTE: Usando 'alfa' consistentemente\n",
        "\n",
        "# Criação de dataframe de resultados finais\n",
        "resultados_csv <- data.frame(\n",
        "  grupo = c(\"Checklist Completo\", grupos_df$grupo),\n",
        "  nome_grupo = c(\"Checklist Completo\", grupos_df$nome_grupo),\n",
        "  alfa = c(alfa_resultado$total$raw_alpha, grupos_df$alfa),  # IMPORTANTE: Usando 'alfa' consistentemente\n",
        "  alfa_std = c(alfa_resultado$total$std.alpha, grupos_df$alfa_std),\n",
        "  n_itens = c(ncol(itens_limpos), grupos_df$n_itens)\n",
        ")\n",
        "\n",
        "# Adição do ômega se calculado com sucesso\n",
        "if (exists(\"omega_resultado\")) {\n",
        "  resultados_csv$omega_total <- c(omega_resultado$omega.tot, rep(NA, nrow(grupos_df)))\n",
        "  resultados_csv$omega_hierarquico <- c(omega_resultado$omega_h, rep(NA, nrow(grupos_df)))\n",
        "}\n"
      ],
      "metadata": {
        "id": "NLZlcL_upCD0"
      },
      "execution_count": null,
      "outputs": []
    },
    {
      "cell_type": "code",
      "source": [
        "# Salvamento em CSV\n",
        "write.csv(resultados_csv, \"resultados_consistencia_interna.csv\", row.names = FALSE)\n",
        "write.csv(alfa_drop_ordenado, \"analise_itens.csv\", row.names = TRUE)\n",
        "write.csv(itens_removidos, \"itens_removidos.csv\", row.names = FALSE)"
      ],
      "metadata": {
        "id": "tMLGHwjIpSRq"
      },
      "execution_count": null,
      "outputs": []
    },
    {
      "cell_type": "code",
      "source": [
        "# Matriz de correlação\n",
        "tryCatch({\n",
        "  cor_itens <- cor(itens_limpos, use = \"pairwise.complete.obs\")\n",
        "  write.csv(cor_itens, \"matriz_correlacao.csv\", row.names = TRUE)\n",
        "}, error = function(e) {\n",
        "  print(\"Não foi possível calcular a matriz de correlação:\", e$message)\n",
        "})"
      ],
      "metadata": {
        "id": "SUY8YMrMpi4q"
      },
      "execution_count": null,
      "outputs": []
    },
    {
      "cell_type": "code",
      "source": [
        "#### Visualizações\n",
        "\n",
        "# 1. Visualização da correlação entre itens\n",
        "cor_itens <- cor(itens_limpos, use = \"pairwise.complete.obs\")\n",
        "heatmap(cor_itens,\n",
        "        main = \"Correlação entre itens do checklist\",\n",
        "        col = colorRampPalette(c(\"blue\", \"white\", \"red\"))(100))\n"
      ],
      "metadata": {
        "id": "GCi1Th62qXSO"
      },
      "execution_count": null,
      "outputs": []
    },
    {
      "cell_type": "code",
      "source": [
        "# 2. Gráfico de barras para o Alfa por grupo\n",
        "# IMPORTANTE: Usando 'alfa' consistentemente em todo o código\n",
        "plot_alfa_grupo <- ggplot(grupos_df, aes(x = reorder(grupo, alfa), y = alfa)) +\n",
        "  geom_bar(stat = \"identity\", fill = \"steelblue\") +\n",
        "  geom_text(aes(label = round(alfa, 2)), hjust = -0.1, size = 3.5) +\n",
        "  geom_text(aes(label = paste0(\"(\", n_itens, \" itens)\")), y = 0.05, hjust = 0, size = 3) +\n",
        "  coord_flip() +\n",
        "  labs(title = \"Alfa de Cronbach por Grupo de Heurísticas\",\n",
        "       x = \"Grupo de Heurísticas\",\n",
        "       y = \"Alfa de Cronbach\") +\n",
        "  theme_minimal() +\n",
        "  geom_hline(yintercept = 0.7, linetype = \"dashed\", color = \"red\") +\n",
        "  annotate(\"text\", x = 1, y = 0.72, label = \"Limiar de aceitabilidade (0.7)\", size = 3.5)\n",
        "\n",
        "# Plotar a imagem\n",
        "print(plot_alfa_grupo)"
      ],
      "metadata": {
        "id": "EsX3fo6-qfcW"
      },
      "execution_count": null,
      "outputs": []
    },
    {
      "cell_type": "code",
      "source": [
        "# 3. Gráfico para itens problemáticos\n",
        "if(nrow(itens_problematicos) > 0) {\n",
        "\n",
        "  itens_problematicos$item_nome <- paste0(rownames(itens_problematicos), \": \",\n",
        "                                         substr(itens_problematicos$descricao, 1, 30), \"...\")\n",
        "\n",
        "  plot_itens_problematicos <- ggplot(itens_problematicos, aes(x = reorder(item_nome, raw_alpha), y = raw_alpha)) +\n",
        "    geom_bar(stat = \"identity\", fill = \"coral\") +\n",
        "    geom_hline(yintercept = alfa_resultado$total$raw_alpha, linetype = \"dashed\", color = \"blue\") +\n",
        "    annotate(\"text\", x = 1, y = alfa_resultado$total$raw_alpha + 0.01,\n",
        "             label = paste(\"Alfa atual:\", round(alfa_resultado$total$raw_alpha, 3)), size = 3.5) +\n",
        "    coord_flip() +\n",
        "    labs(title = \"Itens cuja remoção aumentaria o Alfa de Cronbach\",\n",
        "         x = \"Item\",\n",
        "         y = \"Alfa se o item for removido\") +\n",
        "    theme_minimal()\n",
        "\n",
        "\n",
        "  print(plot_itens_problematicos)\n",
        "}"
      ],
      "metadata": {
        "id": "XQYGD13xqg01"
      },
      "execution_count": null,
      "outputs": []
    }
  ]
}