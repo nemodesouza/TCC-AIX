{
  "nbformat": 4,
  "nbformat_minor": 0,
  "metadata": {
    "colab": {
      "provenance": [],
      "authorship_tag": "ABX9TyN3Pt4MzlrZtS+notRm2vz4",
      "include_colab_link": true
    },
    "kernelspec": {
      "name": "ir",
      "display_name": "R"
    },
    "language_info": {
      "name": "R"
    }
  },
  "cells": [
    {
      "cell_type": "markdown",
      "metadata": {
        "id": "view-in-github",
        "colab_type": "text"
      },
      "source": [
        "<a href=\"https://colab.research.google.com/github/nemodesouza/TCC-AIX/blob/main/consistencia_interna.ipynb\" target=\"_parent\"><img src=\"https://colab.research.google.com/assets/colab-badge.svg\" alt=\"Open In Colab\"/></a>"
      ]
    },
    {
      "cell_type": "code",
      "execution_count": 1,
      "metadata": {
        "colab": {
          "base_uri": "https://localhost:8080/"
        },
        "id": "a2QMM9tlmbql",
        "outputId": "a22453e8-ea5b-4960-9ad2-d79cd5973a1c"
      },
      "outputs": [
        {
          "output_type": "stream",
          "name": "stderr",
          "text": [
            "Loading required package: psych\n",
            "\n",
            "Warning message in library(package, lib.loc = lib.loc, character.only = TRUE, logical.return = TRUE, :\n",
            "“there is no package called ‘psych’”\n",
            "Installing package into ‘/usr/local/lib/R/site-library’\n",
            "(as ‘lib’ is unspecified)\n",
            "\n",
            "also installing the dependencies ‘mnormt’, ‘GPArotation’\n",
            "\n",
            "\n",
            "Loading required package: dplyr\n",
            "\n",
            "\n",
            "Attaching package: ‘dplyr’\n",
            "\n",
            "\n",
            "The following objects are masked from ‘package:stats’:\n",
            "\n",
            "    filter, lag\n",
            "\n",
            "\n",
            "The following objects are masked from ‘package:base’:\n",
            "\n",
            "    intersect, setdiff, setequal, union\n",
            "\n",
            "\n",
            "Loading required package: tidyr\n",
            "\n",
            "Loading required package: ggplot2\n",
            "\n",
            "\n",
            "Attaching package: ‘psych’\n",
            "\n",
            "\n",
            "The following objects are masked from ‘package:ggplot2’:\n",
            "\n",
            "    %+%, alpha\n",
            "\n",
            "\n"
          ]
        }
      ],
      "source": [
        "# UNIVERSIDADE FEDERAL DE SANTA CATARINA\n",
        "# CENTRO TECNOLÓGICO\n",
        "# DEPARTAMENTO DE INFORMÁTICA E ESTATÍSTICA\n",
        "# GRADUAÇÃO EM SISTEMAS DE INFORMAÇÃO\n",
        "# TRABALHO DE CONCLUSÃO DE CURSO\n",
        "# NEMO DE SOUZA\n",
        "\n",
        "# PA2 = Análise de Consistência Interna do Checklist AIX\n",
        "# Script para a análise de consistência interna do checklist de heurísticas de usabilidade\n",
        "\n",
        "# Carregamento de bibliotecas\n",
        "if (!require(psych)) install.packages(\"psych\")      # Para alfa de Cronbach e análise fatorial\n",
        "if (!require(dplyr)) install.packages(\"dplyr\")      # Para manipulação de dados\n",
        "if (!require(tidyr)) install.packages(\"tidyr\")      # Para reorganização de dados\n",
        "if (!require(ggplot2)) install.packages(\"ggplot2\")  # Para visualizações\n",
        "\n",
        "library(psych)\n",
        "library(dplyr)\n",
        "library(tidyr)\n",
        "library(ggplot2)"
      ]
    },
    {
      "cell_type": "code",
      "source": [
        "# Carregamento dos dados\n",
        "\n",
        "### OBS: antes de executar, carregue os arquivos (de mesmo nome) na pasta do Colab (barra lateral \"Arquivos\")\n",
        "\n",
        "# Ajuste o caminho conforme necessário\n",
        "dados_path <- \"PA2 a PA4 - matrix_avaliacao_aplicativos.csv\"\n",
        "heuristicas_path <- \"matriz_heuristicas_e_itens_checklist.csv\"\n",
        "\n",
        "dados <- read.csv(dados_path, stringsAsFactors = FALSE)\n",
        "heuristicas <- read.csv(heuristicas_path, stringsAsFactors = FALSE)\n",
        "\n",
        "# Verificação da estrutura dos dados\n",
        "str(dados)\n",
        "head(dados)\n",
        "\n",
        "# Verificar a estrutura das heurísticas\n",
        "str(heuristicas)\n",
        "head(heuristicas)"
      ],
      "metadata": {
        "colab": {
          "base_uri": "https://localhost:8080/",
          "height": 1000
        },
        "id": "JPVJ2nsBnqWb",
        "outputId": "567885cc-a6a1-487a-dfdc-71a0e0899dcd"
      },
      "execution_count": 2,
      "outputs": [
        {
          "output_type": "stream",
          "name": "stdout",
          "text": [
            "'data.frame':\t127 obs. of  25 variables:\n",
            " $ N.         : int  1 2 3 4 5 6 7 8 9 10 ...\n",
            " $ Nome.do.App: chr  \"AI Dermatologist: Skin Scanner\" \"ArchAIDE\" \"Bird ID - Picture Identifier\" \"Bird Identification Apps\" ...\n",
            " $ c1         : chr  \"Sim\" \"Sim\" \"Sim\" \"Sim\" ...\n",
            " $ c2         : chr  \"Não\" \"Não\" \"Não\" \"Não\" ...\n",
            " $ c3         : chr  \"Sim\" \"Sim\" \"Sim\" \"Sim\" ...\n",
            " $ c4         : chr  \"Sim\" \"Não\" \"Não\" \"Não\" ...\n",
            " $ c5         : chr  \"Sim\" \"Sim\" \"Sim\" \"Sim\" ...\n",
            " $ c6         : chr  \"Sim\" \"Não\" \"Sim\" \"Sim\" ...\n",
            " $ c7         : chr  \"Não\" \"Não\" \"Sim\" \"Não\" ...\n",
            " $ c8         : chr  \"Sim\" NA NA NA ...\n",
            " $ c9         : chr  NA NA NA NA ...\n",
            " $ c10        : chr  \"Sim\" \"Não\" \"Não\" \"Não\" ...\n",
            " $ c11        : chr  \"Sim\" \"Sim\" \"Não\" \"Não\" ...\n",
            " $ c12        : chr  \"Não\" \"Não\" \"Não\" \"Não\" ...\n",
            " $ c13        : chr  \"Não\" \"Não\" \"Não\" \"Não\" ...\n",
            " $ c14        : chr  \"Não\" \"Não\" \"Sim\" \"Não\" ...\n",
            " $ c15        : chr  \"Não\" \"Não\" \"Sim\" \"Não\" ...\n",
            " $ c16        : chr  \"Não\" NA NA NA ...\n",
            " $ c17        : chr  NA NA NA NA ...\n",
            " $ c18        : chr  \"Sim\" \"Sim\" \"Sim\" \"Sim\" ...\n",
            " $ c19        : chr  NA NA NA NA ...\n",
            " $ c20        : chr  \"Sim\" \"Sim\" \"Sim\" \"Sim\" ...\n",
            " $ c21        : chr  NA NA NA NA ...\n",
            " $ c22        : chr  \"Não\" NA NA NA ...\n",
            " $ c23        : chr  \"Sim\" NA NA NA ...\n"
          ]
        },
        {
          "output_type": "display_data",
          "data": {
            "text/html": [
              "<table class=\"dataframe\">\n",
              "<caption>A data.frame: 6 × 25</caption>\n",
              "<thead>\n",
              "\t<tr><th></th><th scope=col>N.</th><th scope=col>Nome.do.App</th><th scope=col>c1</th><th scope=col>c2</th><th scope=col>c3</th><th scope=col>c4</th><th scope=col>c5</th><th scope=col>c6</th><th scope=col>c7</th><th scope=col>c8</th><th scope=col>⋯</th><th scope=col>c14</th><th scope=col>c15</th><th scope=col>c16</th><th scope=col>c17</th><th scope=col>c18</th><th scope=col>c19</th><th scope=col>c20</th><th scope=col>c21</th><th scope=col>c22</th><th scope=col>c23</th></tr>\n",
              "\t<tr><th></th><th scope=col>&lt;int&gt;</th><th scope=col>&lt;chr&gt;</th><th scope=col>&lt;chr&gt;</th><th scope=col>&lt;chr&gt;</th><th scope=col>&lt;chr&gt;</th><th scope=col>&lt;chr&gt;</th><th scope=col>&lt;chr&gt;</th><th scope=col>&lt;chr&gt;</th><th scope=col>&lt;chr&gt;</th><th scope=col>&lt;chr&gt;</th><th scope=col>⋯</th><th scope=col>&lt;chr&gt;</th><th scope=col>&lt;chr&gt;</th><th scope=col>&lt;chr&gt;</th><th scope=col>&lt;chr&gt;</th><th scope=col>&lt;chr&gt;</th><th scope=col>&lt;chr&gt;</th><th scope=col>&lt;chr&gt;</th><th scope=col>&lt;chr&gt;</th><th scope=col>&lt;chr&gt;</th><th scope=col>&lt;chr&gt;</th></tr>\n",
              "</thead>\n",
              "<tbody>\n",
              "\t<tr><th scope=row>1</th><td>1</td><td>AI Dermatologist: Skin Scanner</td><td>Sim</td><td>Não</td><td>Sim</td><td>Sim</td><td>Sim</td><td>Sim</td><td>Não</td><td>Sim</td><td>⋯</td><td>Não</td><td>Não</td><td>Não</td><td>NA </td><td>Sim</td><td>NA</td><td>Sim</td><td>NA</td><td>Não</td><td>Sim</td></tr>\n",
              "\t<tr><th scope=row>2</th><td>2</td><td>ArchAIDE                      </td><td>Sim</td><td>Não</td><td>Sim</td><td>Não</td><td>Sim</td><td>Não</td><td>Não</td><td>NA </td><td>⋯</td><td>Não</td><td>Não</td><td>NA </td><td>NA </td><td>Sim</td><td>NA</td><td>Sim</td><td>NA</td><td>NA </td><td>NA </td></tr>\n",
              "\t<tr><th scope=row>3</th><td>3</td><td>Bird ID - Picture Identifier  </td><td>Sim</td><td>Não</td><td>Sim</td><td>Não</td><td>Sim</td><td>Sim</td><td>Sim</td><td>NA </td><td>⋯</td><td>Sim</td><td>Sim</td><td>NA </td><td>NA </td><td>Sim</td><td>NA</td><td>Sim</td><td>NA</td><td>NA </td><td>NA </td></tr>\n",
              "\t<tr><th scope=row>4</th><td>4</td><td>Bird Identification Apps      </td><td>Sim</td><td>Não</td><td>Sim</td><td>Não</td><td>Sim</td><td>Sim</td><td>Não</td><td>NA </td><td>⋯</td><td>Não</td><td>Não</td><td>NA </td><td>NA </td><td>Sim</td><td>NA</td><td>Sim</td><td>NA</td><td>NA </td><td>NA </td></tr>\n",
              "\t<tr><th scope=row>5</th><td>5</td><td>CamFind                       </td><td>Sim</td><td>Não</td><td>Sim</td><td>Não</td><td>Sim</td><td>Não</td><td>NA </td><td>NA </td><td>⋯</td><td>NA </td><td>Não</td><td>NA </td><td>Não</td><td>NA </td><td>NA</td><td>Sim</td><td>NA</td><td>NA </td><td>NA </td></tr>\n",
              "\t<tr><th scope=row>6</th><td>6</td><td>Cash Reader: Bill Identifier  </td><td>Sim</td><td>Não</td><td>Sim</td><td>Não</td><td>Não</td><td>Não</td><td>NA </td><td>NA </td><td>⋯</td><td>Não</td><td>Não</td><td>NA </td><td>NA </td><td>Sim</td><td>NA</td><td>Sim</td><td>NA</td><td>NA </td><td>NA </td></tr>\n",
              "</tbody>\n",
              "</table>\n"
            ],
            "text/markdown": "\nA data.frame: 6 × 25\n\n| <!--/--> | N. &lt;int&gt; | Nome.do.App &lt;chr&gt; | c1 &lt;chr&gt; | c2 &lt;chr&gt; | c3 &lt;chr&gt; | c4 &lt;chr&gt; | c5 &lt;chr&gt; | c6 &lt;chr&gt; | c7 &lt;chr&gt; | c8 &lt;chr&gt; | ⋯ ⋯ | c14 &lt;chr&gt; | c15 &lt;chr&gt; | c16 &lt;chr&gt; | c17 &lt;chr&gt; | c18 &lt;chr&gt; | c19 &lt;chr&gt; | c20 &lt;chr&gt; | c21 &lt;chr&gt; | c22 &lt;chr&gt; | c23 &lt;chr&gt; |\n|---|---|---|---|---|---|---|---|---|---|---|---|---|---|---|---|---|---|---|---|---|---|\n| 1 | 1 | AI Dermatologist: Skin Scanner | Sim | Não | Sim | Sim | Sim | Sim | Não | Sim | ⋯ | Não | Não | Não | NA  | Sim | NA | Sim | NA | Não | Sim |\n| 2 | 2 | ArchAIDE                       | Sim | Não | Sim | Não | Sim | Não | Não | NA  | ⋯ | Não | Não | NA  | NA  | Sim | NA | Sim | NA | NA  | NA  |\n| 3 | 3 | Bird ID - Picture Identifier   | Sim | Não | Sim | Não | Sim | Sim | Sim | NA  | ⋯ | Sim | Sim | NA  | NA  | Sim | NA | Sim | NA | NA  | NA  |\n| 4 | 4 | Bird Identification Apps       | Sim | Não | Sim | Não | Sim | Sim | Não | NA  | ⋯ | Não | Não | NA  | NA  | Sim | NA | Sim | NA | NA  | NA  |\n| 5 | 5 | CamFind                        | Sim | Não | Sim | Não | Sim | Não | NA  | NA  | ⋯ | NA  | Não | NA  | Não | NA  | NA | Sim | NA | NA  | NA  |\n| 6 | 6 | Cash Reader: Bill Identifier   | Sim | Não | Sim | Não | Não | Não | NA  | NA  | ⋯ | Não | Não | NA  | NA  | Sim | NA | Sim | NA | NA  | NA  |\n\n",
            "text/latex": "A data.frame: 6 × 25\n\\begin{tabular}{r|lllllllllllllllllllll}\n  & N. & Nome.do.App & c1 & c2 & c3 & c4 & c5 & c6 & c7 & c8 & ⋯ & c14 & c15 & c16 & c17 & c18 & c19 & c20 & c21 & c22 & c23\\\\\n  & <int> & <chr> & <chr> & <chr> & <chr> & <chr> & <chr> & <chr> & <chr> & <chr> & ⋯ & <chr> & <chr> & <chr> & <chr> & <chr> & <chr> & <chr> & <chr> & <chr> & <chr>\\\\\n\\hline\n\t1 & 1 & AI Dermatologist: Skin Scanner & Sim & Não & Sim & Sim & Sim & Sim & Não & Sim & ⋯ & Não & Não & Não & NA  & Sim & NA & Sim & NA & Não & Sim\\\\\n\t2 & 2 & ArchAIDE                       & Sim & Não & Sim & Não & Sim & Não & Não & NA  & ⋯ & Não & Não & NA  & NA  & Sim & NA & Sim & NA & NA  & NA \\\\\n\t3 & 3 & Bird ID - Picture Identifier   & Sim & Não & Sim & Não & Sim & Sim & Sim & NA  & ⋯ & Sim & Sim & NA  & NA  & Sim & NA & Sim & NA & NA  & NA \\\\\n\t4 & 4 & Bird Identification Apps       & Sim & Não & Sim & Não & Sim & Sim & Não & NA  & ⋯ & Não & Não & NA  & NA  & Sim & NA & Sim & NA & NA  & NA \\\\\n\t5 & 5 & CamFind                        & Sim & Não & Sim & Não & Sim & Não & NA  & NA  & ⋯ & NA  & Não & NA  & Não & NA  & NA & Sim & NA & NA  & NA \\\\\n\t6 & 6 & Cash Reader: Bill Identifier   & Sim & Não & Sim & Não & Não & Não & NA  & NA  & ⋯ & Não & Não & NA  & NA  & Sim & NA & Sim & NA & NA  & NA \\\\\n\\end{tabular}\n",
            "text/plain": [
              "  N. Nome.do.App                    c1  c2  c3  c4  c5  c6  c7  c8  ⋯ c14 c15\n",
              "1 1  AI Dermatologist: Skin Scanner Sim Não Sim Sim Sim Sim Não Sim ⋯ Não Não\n",
              "2 2  ArchAIDE                       Sim Não Sim Não Sim Não Não NA  ⋯ Não Não\n",
              "3 3  Bird ID - Picture Identifier   Sim Não Sim Não Sim Sim Sim NA  ⋯ Sim Sim\n",
              "4 4  Bird Identification Apps       Sim Não Sim Não Sim Sim Não NA  ⋯ Não Não\n",
              "5 5  CamFind                        Sim Não Sim Não Sim Não NA  NA  ⋯ NA  Não\n",
              "6 6  Cash Reader: Bill Identifier   Sim Não Sim Não Não Não NA  NA  ⋯ Não Não\n",
              "  c16 c17 c18 c19 c20 c21 c22 c23\n",
              "1 Não NA  Sim NA  Sim NA  Não Sim\n",
              "2 NA  NA  Sim NA  Sim NA  NA  NA \n",
              "3 NA  NA  Sim NA  Sim NA  NA  NA \n",
              "4 NA  NA  Sim NA  Sim NA  NA  NA \n",
              "5 NA  Não NA  NA  Sim NA  NA  NA \n",
              "6 NA  NA  Sim NA  Sim NA  NA  NA "
            ]
          },
          "metadata": {}
        },
        {
          "output_type": "stream",
          "name": "stdout",
          "text": [
            "'data.frame':\t23 obs. of  6 variables:\n",
            " $ ID.Heurística     : chr  \"h1\" \"h1\" \"h1\" \"h2\" ...\n",
            " $ Heurística        : chr  \"Deixar as expectativas e limitações explícitas\" \"Deixar as expectativas e limitações explícitas\" \"Deixar as expectativas e limitações explícitas\" \"Apoiar o uso efetivo\" ...\n",
            " $ ID.checklist      : chr  \"c1\" \"c2\" \"c3\" \"c4\" ...\n",
            " $ Item.de.checklist : chr  \"1. O app deixa claro quais classes ele pode classificar?\" \"2. O aplicativo deixa claro o quão bem ele pode fazer a classificação de imagens?\" \"3. O aplicativo fornece explicações compreensíveis?\" \"4. O app mostra dicas de como tirar fotos com qualidade adequada?\" ...\n",
            " $ Explicação.do.item: chr  \"O app apresenta as classes que é capaz de distinguir antes do usuário poder classificar uma imagem. (p.ex. na tela home).\" \"O app apresenta ao usuário o grau do seu desempenho (p.ex. acurácia) antes do usuário poder classificar uma ima\"| __truncated__ \"O app utiliza apenas uma terminologia compreensível pelo público alvo, evitando jargão técnico, ao apresentar a\"| __truncated__ \"O app apresenta instruções/dicas para guiar o usuário a tirar fotos com qualidade adequada para a classificação.\" ...\n",
            " $ Escala.de.resposta: chr  \"Sim, Não\" \"Sim, Não\" \"Sim, Não\" \"Sim, Não\" ...\n"
          ]
        },
        {
          "output_type": "display_data",
          "data": {
            "text/html": [
              "<table class=\"dataframe\">\n",
              "<caption>A data.frame: 6 × 6</caption>\n",
              "<thead>\n",
              "\t<tr><th></th><th scope=col>ID.Heurística</th><th scope=col>Heurística</th><th scope=col>ID.checklist</th><th scope=col>Item.de.checklist</th><th scope=col>Explicação.do.item</th><th scope=col>Escala.de.resposta</th></tr>\n",
              "\t<tr><th></th><th scope=col>&lt;chr&gt;</th><th scope=col>&lt;chr&gt;</th><th scope=col>&lt;chr&gt;</th><th scope=col>&lt;chr&gt;</th><th scope=col>&lt;chr&gt;</th><th scope=col>&lt;chr&gt;</th></tr>\n",
              "</thead>\n",
              "<tbody>\n",
              "\t<tr><th scope=row>1</th><td>h1</td><td>Deixar as expectativas e limitações explícitas                           </td><td>c1</td><td>1. O app deixa claro quais classes ele pode classificar?                           </td><td>O app apresenta as classes que é capaz de distinguir antes do usuário poder classificar uma imagem. (p.ex. na tela home).                  </td><td>Sim, Não</td></tr>\n",
              "\t<tr><th scope=row>2</th><td>h1</td><td>Deixar as expectativas e limitações explícitas                           </td><td>c2</td><td>2. O aplicativo deixa claro o quão bem ele pode fazer a classificação de imagens?  </td><td>O app apresenta ao usuário o grau do seu desempenho (p.ex. acurácia) antes do usuário poder classificar uma imagem. p.ex. na tela home).   </td><td>Sim, Não</td></tr>\n",
              "\t<tr><th scope=row>3</th><td>h1</td><td>Deixar as expectativas e limitações explícitas                           </td><td>c3</td><td>3. O aplicativo fornece explicações compreensíveis?                                </td><td>O app utiliza apenas uma terminologia compreensível pelo público alvo, evitando jargão técnico, ao apresentar as expectativas e limitações.</td><td>Sim, Não</td></tr>\n",
              "\t<tr><th scope=row>4</th><td>h2</td><td>Apoiar o uso efetivo                                                     </td><td>c4</td><td>4. O app mostra dicas de como tirar fotos com qualidade adequada?                  </td><td>O app apresenta instruções/dicas para guiar o usuário a tirar fotos com qualidade adequada para a classificação.                           </td><td>Sim, Não</td></tr>\n",
              "\t<tr><th scope=row>5</th><td>h2</td><td>Apoiar o uso efetivo                                                     </td><td>c5</td><td>5. O app visualiza o status durante o processamento da classificação?              </td><td>O app apresenta elementos para visualizar o status do progresso durante o processamento da classificação.                                  </td><td>Sim, Não</td></tr>\n",
              "\t<tr><th scope=row>6</th><td>h3</td><td>Apoiar a compreensão do usuário sobre \n",
              "incerteza e a confiança do modelo</td><td>c6</td><td>6. O app deixa claro que existe incerteza em relação ao resultado da classificação?</td><td>O resultado da classificação é apresentado indicando que existe uma incerteza em relação a este resultado.                                 </td><td>Sim, Não</td></tr>\n",
              "</tbody>\n",
              "</table>\n"
            ],
            "text/markdown": "\nA data.frame: 6 × 6\n\n| <!--/--> | ID.Heurística &lt;chr&gt; | Heurística &lt;chr&gt; | ID.checklist &lt;chr&gt; | Item.de.checklist &lt;chr&gt; | Explicação.do.item &lt;chr&gt; | Escala.de.resposta &lt;chr&gt; |\n|---|---|---|---|---|---|---|\n| 1 | h1 | Deixar as expectativas e limitações explícitas                            | c1 | 1. O app deixa claro quais classes ele pode classificar?                            | O app apresenta as classes que é capaz de distinguir antes do usuário poder classificar uma imagem. (p.ex. na tela home).                   | Sim, Não |\n| 2 | h1 | Deixar as expectativas e limitações explícitas                            | c2 | 2. O aplicativo deixa claro o quão bem ele pode fazer a classificação de imagens?   | O app apresenta ao usuário o grau do seu desempenho (p.ex. acurácia) antes do usuário poder classificar uma imagem. p.ex. na tela home).    | Sim, Não |\n| 3 | h1 | Deixar as expectativas e limitações explícitas                            | c3 | 3. O aplicativo fornece explicações compreensíveis?                                 | O app utiliza apenas uma terminologia compreensível pelo público alvo, evitando jargão técnico, ao apresentar as expectativas e limitações. | Sim, Não |\n| 4 | h2 | Apoiar o uso efetivo                                                      | c4 | 4. O app mostra dicas de como tirar fotos com qualidade adequada?                   | O app apresenta instruções/dicas para guiar o usuário a tirar fotos com qualidade adequada para a classificação.                            | Sim, Não |\n| 5 | h2 | Apoiar o uso efetivo                                                      | c5 | 5. O app visualiza o status durante o processamento da classificação?               | O app apresenta elementos para visualizar o status do progresso durante o processamento da classificação.                                   | Sim, Não |\n| 6 | h3 | Apoiar a compreensão do usuário sobre \nincerteza e a confiança do modelo | c6 | 6. O app deixa claro que existe incerteza em relação ao resultado da classificação? | O resultado da classificação é apresentado indicando que existe uma incerteza em relação a este resultado.                                  | Sim, Não |\n\n",
            "text/latex": "A data.frame: 6 × 6\n\\begin{tabular}{r|llllll}\n  & ID.Heurística & Heurística & ID.checklist & Item.de.checklist & Explicação.do.item & Escala.de.resposta\\\\\n  & <chr> & <chr> & <chr> & <chr> & <chr> & <chr>\\\\\n\\hline\n\t1 & h1 & Deixar as expectativas e limitações explícitas                            & c1 & 1. O app deixa claro quais classes ele pode classificar?                            & O app apresenta as classes que é capaz de distinguir antes do usuário poder classificar uma imagem. (p.ex. na tela home).                   & Sim, Não\\\\\n\t2 & h1 & Deixar as expectativas e limitações explícitas                            & c2 & 2. O aplicativo deixa claro o quão bem ele pode fazer a classificação de imagens?   & O app apresenta ao usuário o grau do seu desempenho (p.ex. acurácia) antes do usuário poder classificar uma imagem. p.ex. na tela home).    & Sim, Não\\\\\n\t3 & h1 & Deixar as expectativas e limitações explícitas                            & c3 & 3. O aplicativo fornece explicações compreensíveis?                                 & O app utiliza apenas uma terminologia compreensível pelo público alvo, evitando jargão técnico, ao apresentar as expectativas e limitações. & Sim, Não\\\\\n\t4 & h2 & Apoiar o uso efetivo                                                      & c4 & 4. O app mostra dicas de como tirar fotos com qualidade adequada?                   & O app apresenta instruções/dicas para guiar o usuário a tirar fotos com qualidade adequada para a classificação.                            & Sim, Não\\\\\n\t5 & h2 & Apoiar o uso efetivo                                                      & c5 & 5. O app visualiza o status durante o processamento da classificação?               & O app apresenta elementos para visualizar o status do progresso durante o processamento da classificação.                                   & Sim, Não\\\\\n\t6 & h3 & Apoiar a compreensão do usuário sobre \nincerteza e a confiança do modelo & c6 & 6. O app deixa claro que existe incerteza em relação ao resultado da classificação? & O resultado da classificação é apresentado indicando que existe uma incerteza em relação a este resultado.                                  & Sim, Não\\\\\n\\end{tabular}\n",
            "text/plain": [
              "  ID.Heurística\n",
              "1 h1           \n",
              "2 h1           \n",
              "3 h1           \n",
              "4 h2           \n",
              "5 h2           \n",
              "6 h3           \n",
              "  Heurística                                                               \n",
              "1 Deixar as expectativas e limitações explícitas                           \n",
              "2 Deixar as expectativas e limitações explícitas                           \n",
              "3 Deixar as expectativas e limitações explícitas                           \n",
              "4 Apoiar o uso efetivo                                                     \n",
              "5 Apoiar o uso efetivo                                                     \n",
              "6 Apoiar a compreensão do usuário sobre \\nincerteza e a confiança do modelo\n",
              "  ID.checklist\n",
              "1 c1          \n",
              "2 c2          \n",
              "3 c3          \n",
              "4 c4          \n",
              "5 c5          \n",
              "6 c6          \n",
              "  Item.de.checklist                                                                  \n",
              "1 1. O app deixa claro quais classes ele pode classificar?                           \n",
              "2 2. O aplicativo deixa claro o quão bem ele pode fazer a classificação de imagens?  \n",
              "3 3. O aplicativo fornece explicações compreensíveis?                                \n",
              "4 4. O app mostra dicas de como tirar fotos com qualidade adequada?                  \n",
              "5 5. O app visualiza o status durante o processamento da classificação?              \n",
              "6 6. O app deixa claro que existe incerteza em relação ao resultado da classificação?\n",
              "  Explicação.do.item                                                                                                                         \n",
              "1 O app apresenta as classes que é capaz de distinguir antes do usuário poder classificar uma imagem. (p.ex. na tela home).                  \n",
              "2 O app apresenta ao usuário o grau do seu desempenho (p.ex. acurácia) antes do usuário poder classificar uma imagem. p.ex. na tela home).   \n",
              "3 O app utiliza apenas uma terminologia compreensível pelo público alvo, evitando jargão técnico, ao apresentar as expectativas e limitações.\n",
              "4 O app apresenta instruções/dicas para guiar o usuário a tirar fotos com qualidade adequada para a classificação.                           \n",
              "5 O app apresenta elementos para visualizar o status do progresso durante o processamento da classificação.                                  \n",
              "6 O resultado da classificação é apresentado indicando que existe uma incerteza em relação a este resultado.                                 \n",
              "  Escala.de.resposta\n",
              "1 Sim, Não          \n",
              "2 Sim, Não          \n",
              "3 Sim, Não          \n",
              "4 Sim, Não          \n",
              "5 Sim, Não          \n",
              "6 Sim, Não          "
            ]
          },
          "metadata": {}
        }
      ]
    },
    {
      "cell_type": "code",
      "source": [
        "#### Preparação dos dados para análise\n",
        "\n",
        "# Seleção das colunas dos itens (c1 a c23)\n",
        "itens <- dados[, grep(\"^c\\\\d+$\", names(dados))]\n",
        "\n",
        "# Conversão das respostas para valores numéricos (Sim = 1, Não = 0, NA = NA)\n",
        "itens_num <- as.data.frame(lapply(itens, function(x) {\n",
        "  ifelse(x == \"Sim\", 1, ifelse(x == \"Não\", 0, NA))\n",
        "}))\n",
        "\n",
        "# Verificação da conversão\n",
        "head(itens_num)\n"
      ],
      "metadata": {
        "colab": {
          "base_uri": "https://localhost:8080/",
          "height": 306
        },
        "id": "igHi-mJjn4qA",
        "outputId": "f8354962-4992-4f04-bf9d-21772d888400"
      },
      "execution_count": 3,
      "outputs": [
        {
          "output_type": "display_data",
          "data": {
            "text/html": [
              "<table class=\"dataframe\">\n",
              "<caption>A data.frame: 6 × 23</caption>\n",
              "<thead>\n",
              "\t<tr><th></th><th scope=col>c1</th><th scope=col>c2</th><th scope=col>c3</th><th scope=col>c4</th><th scope=col>c5</th><th scope=col>c6</th><th scope=col>c7</th><th scope=col>c8</th><th scope=col>c9</th><th scope=col>c10</th><th scope=col>⋯</th><th scope=col>c14</th><th scope=col>c15</th><th scope=col>c16</th><th scope=col>c17</th><th scope=col>c18</th><th scope=col>c19</th><th scope=col>c20</th><th scope=col>c21</th><th scope=col>c22</th><th scope=col>c23</th></tr>\n",
              "\t<tr><th></th><th scope=col>&lt;dbl&gt;</th><th scope=col>&lt;dbl&gt;</th><th scope=col>&lt;dbl&gt;</th><th scope=col>&lt;dbl&gt;</th><th scope=col>&lt;dbl&gt;</th><th scope=col>&lt;dbl&gt;</th><th scope=col>&lt;dbl&gt;</th><th scope=col>&lt;dbl&gt;</th><th scope=col>&lt;dbl&gt;</th><th scope=col>&lt;dbl&gt;</th><th scope=col>⋯</th><th scope=col>&lt;dbl&gt;</th><th scope=col>&lt;dbl&gt;</th><th scope=col>&lt;dbl&gt;</th><th scope=col>&lt;dbl&gt;</th><th scope=col>&lt;dbl&gt;</th><th scope=col>&lt;dbl&gt;</th><th scope=col>&lt;dbl&gt;</th><th scope=col>&lt;dbl&gt;</th><th scope=col>&lt;dbl&gt;</th><th scope=col>&lt;dbl&gt;</th></tr>\n",
              "</thead>\n",
              "<tbody>\n",
              "\t<tr><th scope=row>1</th><td>1</td><td>0</td><td>1</td><td>1</td><td>1</td><td>1</td><td> 0</td><td> 1</td><td>NA</td><td>1</td><td>⋯</td><td> 0</td><td>0</td><td> 0</td><td>NA</td><td> 1</td><td>NA</td><td>1</td><td>NA</td><td> 0</td><td> 1</td></tr>\n",
              "\t<tr><th scope=row>2</th><td>1</td><td>0</td><td>1</td><td>0</td><td>1</td><td>0</td><td> 0</td><td>NA</td><td>NA</td><td>0</td><td>⋯</td><td> 0</td><td>0</td><td>NA</td><td>NA</td><td> 1</td><td>NA</td><td>1</td><td>NA</td><td>NA</td><td>NA</td></tr>\n",
              "\t<tr><th scope=row>3</th><td>1</td><td>0</td><td>1</td><td>0</td><td>1</td><td>1</td><td> 1</td><td>NA</td><td>NA</td><td>0</td><td>⋯</td><td> 1</td><td>1</td><td>NA</td><td>NA</td><td> 1</td><td>NA</td><td>1</td><td>NA</td><td>NA</td><td>NA</td></tr>\n",
              "\t<tr><th scope=row>4</th><td>1</td><td>0</td><td>1</td><td>0</td><td>1</td><td>1</td><td> 0</td><td>NA</td><td>NA</td><td>0</td><td>⋯</td><td> 0</td><td>0</td><td>NA</td><td>NA</td><td> 1</td><td>NA</td><td>1</td><td>NA</td><td>NA</td><td>NA</td></tr>\n",
              "\t<tr><th scope=row>5</th><td>1</td><td>0</td><td>1</td><td>0</td><td>1</td><td>0</td><td>NA</td><td>NA</td><td> 0</td><td>0</td><td>⋯</td><td>NA</td><td>0</td><td>NA</td><td> 0</td><td>NA</td><td>NA</td><td>1</td><td>NA</td><td>NA</td><td>NA</td></tr>\n",
              "\t<tr><th scope=row>6</th><td>1</td><td>0</td><td>1</td><td>0</td><td>0</td><td>0</td><td>NA</td><td>NA</td><td>NA</td><td>0</td><td>⋯</td><td> 0</td><td>0</td><td>NA</td><td>NA</td><td> 1</td><td>NA</td><td>1</td><td>NA</td><td>NA</td><td>NA</td></tr>\n",
              "</tbody>\n",
              "</table>\n"
            ],
            "text/markdown": "\nA data.frame: 6 × 23\n\n| <!--/--> | c1 &lt;dbl&gt; | c2 &lt;dbl&gt; | c3 &lt;dbl&gt; | c4 &lt;dbl&gt; | c5 &lt;dbl&gt; | c6 &lt;dbl&gt; | c7 &lt;dbl&gt; | c8 &lt;dbl&gt; | c9 &lt;dbl&gt; | c10 &lt;dbl&gt; | ⋯ ⋯ | c14 &lt;dbl&gt; | c15 &lt;dbl&gt; | c16 &lt;dbl&gt; | c17 &lt;dbl&gt; | c18 &lt;dbl&gt; | c19 &lt;dbl&gt; | c20 &lt;dbl&gt; | c21 &lt;dbl&gt; | c22 &lt;dbl&gt; | c23 &lt;dbl&gt; |\n|---|---|---|---|---|---|---|---|---|---|---|---|---|---|---|---|---|---|---|---|---|---|\n| 1 | 1 | 0 | 1 | 1 | 1 | 1 |  0 |  1 | NA | 1 | ⋯ |  0 | 0 |  0 | NA |  1 | NA | 1 | NA |  0 |  1 |\n| 2 | 1 | 0 | 1 | 0 | 1 | 0 |  0 | NA | NA | 0 | ⋯ |  0 | 0 | NA | NA |  1 | NA | 1 | NA | NA | NA |\n| 3 | 1 | 0 | 1 | 0 | 1 | 1 |  1 | NA | NA | 0 | ⋯ |  1 | 1 | NA | NA |  1 | NA | 1 | NA | NA | NA |\n| 4 | 1 | 0 | 1 | 0 | 1 | 1 |  0 | NA | NA | 0 | ⋯ |  0 | 0 | NA | NA |  1 | NA | 1 | NA | NA | NA |\n| 5 | 1 | 0 | 1 | 0 | 1 | 0 | NA | NA |  0 | 0 | ⋯ | NA | 0 | NA |  0 | NA | NA | 1 | NA | NA | NA |\n| 6 | 1 | 0 | 1 | 0 | 0 | 0 | NA | NA | NA | 0 | ⋯ |  0 | 0 | NA | NA |  1 | NA | 1 | NA | NA | NA |\n\n",
            "text/latex": "A data.frame: 6 × 23\n\\begin{tabular}{r|lllllllllllllllllllll}\n  & c1 & c2 & c3 & c4 & c5 & c6 & c7 & c8 & c9 & c10 & ⋯ & c14 & c15 & c16 & c17 & c18 & c19 & c20 & c21 & c22 & c23\\\\\n  & <dbl> & <dbl> & <dbl> & <dbl> & <dbl> & <dbl> & <dbl> & <dbl> & <dbl> & <dbl> & ⋯ & <dbl> & <dbl> & <dbl> & <dbl> & <dbl> & <dbl> & <dbl> & <dbl> & <dbl> & <dbl>\\\\\n\\hline\n\t1 & 1 & 0 & 1 & 1 & 1 & 1 &  0 &  1 & NA & 1 & ⋯ &  0 & 0 &  0 & NA &  1 & NA & 1 & NA &  0 &  1\\\\\n\t2 & 1 & 0 & 1 & 0 & 1 & 0 &  0 & NA & NA & 0 & ⋯ &  0 & 0 & NA & NA &  1 & NA & 1 & NA & NA & NA\\\\\n\t3 & 1 & 0 & 1 & 0 & 1 & 1 &  1 & NA & NA & 0 & ⋯ &  1 & 1 & NA & NA &  1 & NA & 1 & NA & NA & NA\\\\\n\t4 & 1 & 0 & 1 & 0 & 1 & 1 &  0 & NA & NA & 0 & ⋯ &  0 & 0 & NA & NA &  1 & NA & 1 & NA & NA & NA\\\\\n\t5 & 1 & 0 & 1 & 0 & 1 & 0 & NA & NA &  0 & 0 & ⋯ & NA & 0 & NA &  0 & NA & NA & 1 & NA & NA & NA\\\\\n\t6 & 1 & 0 & 1 & 0 & 0 & 0 & NA & NA & NA & 0 & ⋯ &  0 & 0 & NA & NA &  1 & NA & 1 & NA & NA & NA\\\\\n\\end{tabular}\n",
            "text/plain": [
              "  c1 c2 c3 c4 c5 c6 c7 c8 c9 c10 ⋯ c14 c15 c16 c17 c18 c19 c20 c21 c22 c23\n",
              "1 1  0  1  1  1  1   0  1 NA 1   ⋯  0  0    0  NA   1  NA  1   NA   0   1 \n",
              "2 1  0  1  0  1  0   0 NA NA 0   ⋯  0  0   NA  NA   1  NA  1   NA  NA  NA \n",
              "3 1  0  1  0  1  1   1 NA NA 0   ⋯  1  1   NA  NA   1  NA  1   NA  NA  NA \n",
              "4 1  0  1  0  1  1   0 NA NA 0   ⋯  0  0   NA  NA   1  NA  1   NA  NA  NA \n",
              "5 1  0  1  0  1  0  NA NA  0 0   ⋯ NA  0   NA   0  NA  NA  1   NA  NA  NA \n",
              "6 1  0  1  0  0  0  NA NA NA 0   ⋯  0  0   NA  NA   1  NA  1   NA  NA  NA "
            ]
          },
          "metadata": {}
        }
      ]
    },
    {
      "cell_type": "code",
      "source": [
        "#### Criação do dicionário para mapear códigos de itens para descrições de heurísticas\n",
        "\n",
        "# Estrutura arquivo:\n",
        "# - ID Heurística: h1, h2, etc.\n",
        "# - Heurística: Descrição da heurística\n",
        "# - ID checklist: c1, c2, etc.\n",
        "# - Item de checklist: Descrição do checklist\n",
        "\n",
        "id_heuristicas <- heuristicas$ID.Heurística\n",
        "descricoes_heuristicas <- heuristicas$Heurística\n",
        "codigos_itens <- heuristicas$ID.checklist\n",
        "descricoes_itens <- heuristicas$Item.de.checklist\n",
        "\n",
        "# Criação dataframe de mapeamento\n",
        "dicionario <- data.frame(\n",
        "  codigo_item = codigos_itens,\n",
        "  descricao_item = descricoes_itens,\n",
        "  id_heuristica = id_heuristicas,\n",
        "  descricao_heuristica = descricoes_heuristicas,\n",
        "  stringsAsFactors = FALSE\n",
        ")\n",
        "\n",
        "# Verificação o dicionário criado\n",
        "head(dicionario)"
      ],
      "metadata": {
        "colab": {
          "base_uri": "https://localhost:8080/",
          "height": 373
        },
        "id": "MKGQTWDIn93f",
        "outputId": "f97e5e23-8011-4c52-d0c0-fb675a124ba6"
      },
      "execution_count": 5,
      "outputs": [
        {
          "output_type": "display_data",
          "data": {
            "text/html": [
              "<table class=\"dataframe\">\n",
              "<caption>A data.frame: 6 × 4</caption>\n",
              "<thead>\n",
              "\t<tr><th></th><th scope=col>codigo_item</th><th scope=col>descricao_item</th><th scope=col>id_heuristica</th><th scope=col>descricao_heuristica</th></tr>\n",
              "\t<tr><th></th><th scope=col>&lt;chr&gt;</th><th scope=col>&lt;chr&gt;</th><th scope=col>&lt;chr&gt;</th><th scope=col>&lt;chr&gt;</th></tr>\n",
              "</thead>\n",
              "<tbody>\n",
              "\t<tr><th scope=row>1</th><td>c1</td><td>1. O app deixa claro quais classes ele pode classificar?                           </td><td>h1</td><td>Deixar as expectativas e limitações explícitas                           </td></tr>\n",
              "\t<tr><th scope=row>2</th><td>c2</td><td>2. O aplicativo deixa claro o quão bem ele pode fazer a classificação de imagens?  </td><td>h1</td><td>Deixar as expectativas e limitações explícitas                           </td></tr>\n",
              "\t<tr><th scope=row>3</th><td>c3</td><td>3. O aplicativo fornece explicações compreensíveis?                                </td><td>h1</td><td>Deixar as expectativas e limitações explícitas                           </td></tr>\n",
              "\t<tr><th scope=row>4</th><td>c4</td><td>4. O app mostra dicas de como tirar fotos com qualidade adequada?                  </td><td>h2</td><td>Apoiar o uso efetivo                                                     </td></tr>\n",
              "\t<tr><th scope=row>5</th><td>c5</td><td>5. O app visualiza o status durante o processamento da classificação?              </td><td>h2</td><td>Apoiar o uso efetivo                                                     </td></tr>\n",
              "\t<tr><th scope=row>6</th><td>c6</td><td>6. O app deixa claro que existe incerteza em relação ao resultado da classificação?</td><td>h3</td><td>Apoiar a compreensão do usuário sobre \n",
              "incerteza e a confiança do modelo</td></tr>\n",
              "</tbody>\n",
              "</table>\n"
            ],
            "text/markdown": "\nA data.frame: 6 × 4\n\n| <!--/--> | codigo_item &lt;chr&gt; | descricao_item &lt;chr&gt; | id_heuristica &lt;chr&gt; | descricao_heuristica &lt;chr&gt; |\n|---|---|---|---|---|\n| 1 | c1 | 1. O app deixa claro quais classes ele pode classificar?                            | h1 | Deixar as expectativas e limitações explícitas                            |\n| 2 | c2 | 2. O aplicativo deixa claro o quão bem ele pode fazer a classificação de imagens?   | h1 | Deixar as expectativas e limitações explícitas                            |\n| 3 | c3 | 3. O aplicativo fornece explicações compreensíveis?                                 | h1 | Deixar as expectativas e limitações explícitas                            |\n| 4 | c4 | 4. O app mostra dicas de como tirar fotos com qualidade adequada?                   | h2 | Apoiar o uso efetivo                                                      |\n| 5 | c5 | 5. O app visualiza o status durante o processamento da classificação?               | h2 | Apoiar o uso efetivo                                                      |\n| 6 | c6 | 6. O app deixa claro que existe incerteza em relação ao resultado da classificação? | h3 | Apoiar a compreensão do usuário sobre \nincerteza e a confiança do modelo |\n\n",
            "text/latex": "A data.frame: 6 × 4\n\\begin{tabular}{r|llll}\n  & codigo\\_item & descricao\\_item & id\\_heuristica & descricao\\_heuristica\\\\\n  & <chr> & <chr> & <chr> & <chr>\\\\\n\\hline\n\t1 & c1 & 1. O app deixa claro quais classes ele pode classificar?                            & h1 & Deixar as expectativas e limitações explícitas                           \\\\\n\t2 & c2 & 2. O aplicativo deixa claro o quão bem ele pode fazer a classificação de imagens?   & h1 & Deixar as expectativas e limitações explícitas                           \\\\\n\t3 & c3 & 3. O aplicativo fornece explicações compreensíveis?                                 & h1 & Deixar as expectativas e limitações explícitas                           \\\\\n\t4 & c4 & 4. O app mostra dicas de como tirar fotos com qualidade adequada?                   & h2 & Apoiar o uso efetivo                                                     \\\\\n\t5 & c5 & 5. O app visualiza o status durante o processamento da classificação?               & h2 & Apoiar o uso efetivo                                                     \\\\\n\t6 & c6 & 6. O app deixa claro que existe incerteza em relação ao resultado da classificação? & h3 & Apoiar a compreensão do usuário sobre \nincerteza e a confiança do modelo\\\\\n\\end{tabular}\n",
            "text/plain": [
              "  codigo_item\n",
              "1 c1         \n",
              "2 c2         \n",
              "3 c3         \n",
              "4 c4         \n",
              "5 c5         \n",
              "6 c6         \n",
              "  descricao_item                                                                     \n",
              "1 1. O app deixa claro quais classes ele pode classificar?                           \n",
              "2 2. O aplicativo deixa claro o quão bem ele pode fazer a classificação de imagens?  \n",
              "3 3. O aplicativo fornece explicações compreensíveis?                                \n",
              "4 4. O app mostra dicas de como tirar fotos com qualidade adequada?                  \n",
              "5 5. O app visualiza o status durante o processamento da classificação?              \n",
              "6 6. O app deixa claro que existe incerteza em relação ao resultado da classificação?\n",
              "  id_heuristica\n",
              "1 h1           \n",
              "2 h1           \n",
              "3 h1           \n",
              "4 h2           \n",
              "5 h2           \n",
              "6 h3           \n",
              "  descricao_heuristica                                                     \n",
              "1 Deixar as expectativas e limitações explícitas                           \n",
              "2 Deixar as expectativas e limitações explícitas                           \n",
              "3 Deixar as expectativas e limitações explícitas                           \n",
              "4 Apoiar o uso efetivo                                                     \n",
              "5 Apoiar o uso efetivo                                                     \n",
              "6 Apoiar a compreensão do usuário sobre \\nincerteza e a confiança do modelo"
            ]
          },
          "metadata": {}
        }
      ]
    },
    {
      "cell_type": "code",
      "source": [
        "#### Identificação e remoção de colunas problemáticas\n",
        "# Cálculo da porcentagem de NAs em cada coluna\n",
        "na_percentagem <- colMeans(is.na(itens_num)) * 100\n",
        "print(\"Porcentagem de NAs em cada coluna:\")\n",
        "print(na_percentagem)\n",
        "\n",
        "# Cálculo do desvio padrão de cada coluna\n",
        "desvios <- sapply(itens_num, sd, na.rm = TRUE)\n",
        "print(\"Desvio padrão de cada coluna:\")\n",
        "print(desvios)\n",
        "\n",
        "# Colunas com desvio padrão zero ou muito baixo\n",
        "colunas_desvio_zero <- names(desvios[desvios < 0.1])\n",
        "print(\"Colunas com desvio padrão próximo de zero:\")\n",
        "print(colunas_desvio_zero)\n",
        "\n",
        "# Colunas com muitos NAs (mais de 30%)\n",
        "colunas_muitos_na <- names(na_percentagem[na_percentagem > 30])\n",
        "print(\"Colunas com mais de 30% de NAs:\")\n",
        "print(colunas_muitos_na)\n",
        "\n",
        "# Colunas a serem removidas (desvio zero ou muitos NAs)\n",
        "colunas_remover <- unique(c(colunas_desvio_zero, colunas_muitos_na))\n",
        "print(\"Colunas a serem removidas:\")\n",
        "print(colunas_remover)\n",
        "\n",
        "# Conjunto de dados limpo\n",
        "itens_limpos <- itens_num[, !(names(itens_num) %in% colunas_remover)]\n",
        "\n",
        "# Verificação das dimensões do conjunto de dados após limpeza\n",
        "print(\"Dimensões do conjunto de dados após limpeza:\")\n",
        "print(dim(itens_limpos))\n",
        "\n",
        "# Dataframe com informações detalhadas sobre os itens removidos\n",
        "itens_removidos <- data.frame(\n",
        "  codigo = colunas_remover,\n",
        "  descricao = sapply(colunas_remover, function(codigo) {\n",
        "    idx <- which(dicionario$codigo_item == codigo)\n",
        "    if (length(idx) > 0) dicionario$descricao_item[idx[1]] else NA\n",
        "  }),\n",
        "  motivo = sapply(colunas_remover, function(codigo) {\n",
        "    if (codigo %in% colunas_desvio_zero) {\n",
        "      if (codigo %in% colunas_muitos_na) {\n",
        "        return(\"Desvio padrão próximo de zero e muitos NAs\")\n",
        "      } else {\n",
        "        return(\"Desvio padrão próximo de zero\")\n",
        "      }\n",
        "    } else {\n",
        "      return(\"Muitos valores NA\")\n",
        "    }\n",
        "  })\n",
        ")\n"
      ],
      "metadata": {
        "colab": {
          "base_uri": "https://localhost:8080/"
        },
        "id": "afp5izGCoGuz",
        "outputId": "7824ef46-24fb-4e8f-fdbe-fdb09115c2ae"
      },
      "execution_count": 6,
      "outputs": [
        {
          "output_type": "stream",
          "name": "stdout",
          "text": [
            "[1] \"Porcentagem de NAs em cada coluna:\"\n",
            "      c1       c2       c3       c4       c5       c6       c7       c8 \n",
            " 0.00000  0.00000  0.00000  0.00000  0.00000  0.00000 41.73228 76.37795 \n",
            "      c9      c10      c11      c12      c13      c14      c15      c16 \n",
            "83.46457  0.00000  0.00000  0.00000  0.00000 11.81102  0.00000 61.41732 \n",
            "     c17      c18      c19      c20      c21      c22      c23 \n",
            "80.31496 14.17323 69.29134  0.00000 74.80315 66.14173 69.29134 \n",
            "[1] \"Desvio padrão de cada coluna:\"\n",
            "       c1        c2        c3        c4        c5        c6        c7        c8 \n",
            "0.4993434 0.3240168 0.3866281 0.4936796 0.4264414 0.5000937 0.5017555 0.4301831 \n",
            "       c9       c10       c11       c12       c13       c14       c15       c16 \n",
            "0.4830459 0.2823828 0.4631125 0.5012171 0.4264414 0.4240972 0.4445226 0.2422261 \n",
            "      c17       c18       c19       c20       c21       c22       c23 \n",
            "0.4358899 0.4866551 0.3655178 0.3144243 0.4399413 0.4538503 0.2699528 \n",
            "[1] \"Colunas com desvio padrão próximo de zero:\"\n",
            "character(0)\n",
            "[1] \"Colunas com mais de 30% de NAs:\"\n",
            "[1] \"c7\"  \"c8\"  \"c9\"  \"c16\" \"c17\" \"c19\" \"c21\" \"c22\" \"c23\"\n",
            "[1] \"Colunas a serem removidas:\"\n",
            "[1] \"c7\"  \"c8\"  \"c9\"  \"c16\" \"c17\" \"c19\" \"c21\" \"c22\" \"c23\"\n",
            "[1] \"Dimensões do conjunto de dados após limpeza:\"\n",
            "[1] 127  14\n"
          ]
        }
      ]
    },
    {
      "cell_type": "code",
      "source": [
        "# Informações detalhadas sobre os itens removidos\n",
        "print(\"Detalhes dos itens removidos:\")\n",
        "print(itens_removidos)"
      ],
      "metadata": {
        "colab": {
          "base_uri": "https://localhost:8080/"
        },
        "id": "Y61rDqn0oM5C",
        "outputId": "0527910c-62af-4d00-c16b-73315b1f5ea5"
      },
      "execution_count": 7,
      "outputs": [
        {
          "output_type": "stream",
          "name": "stdout",
          "text": [
            "[1] \"Detalhes dos itens removidos:\"\n",
            "    codigo\n",
            "c7      c7\n",
            "c8      c8\n",
            "c9      c9\n",
            "c16    c16\n",
            "c17    c17\n",
            "c19    c19\n",
            "c21    c21\n",
            "c22    c22\n",
            "c23    c23\n",
            "                                                                                                                                   descricao\n",
            "c7                                                                     7. O app indica a incerteza de forma compreensível pelo público alvo?\n",
            "c8                                                                                           8. O app demonstra os resultados de forma útil?\n",
            "c9                            9. O app deixa claro que existe incerteza quando utiliza o resultado da classificação em outra funcionalidade?\n",
            "c16                                           16. O app permite que o usuário solicite a verificação do resultado por especialistas humanos?\n",
            "c17 17. O app permite que usuários com conhecimento no domínio do aplicativo possam enviar feedback referente ao resultado da classificação?\n",
            "c19                                                                                    19. O app deixa claro o propósito de enviar feedback?\n",
            "c21                                                                                   21. O app indica os devidos cuidados para tirar fotos?\n",
            "c22                                                            22. O app destaca os riscos envolvidos com um possível erro de classificação?\n",
            "c23                            23. O app mostra elementos visuais de alerta caso o objeto classificado possa causar danos físicos a humanos?\n",
            "               motivo\n",
            "c7  Muitos valores NA\n",
            "c8  Muitos valores NA\n",
            "c9  Muitos valores NA\n",
            "c16 Muitos valores NA\n",
            "c17 Muitos valores NA\n",
            "c19 Muitos valores NA\n",
            "c21 Muitos valores NA\n",
            "c22 Muitos valores NA\n",
            "c23 Muitos valores NA\n"
          ]
        }
      ]
    },
    {
      "cell_type": "code",
      "source": [
        "# Salvamento da lista de itens removidos para referência futura\n",
        "write.csv(itens_removidos, \"itens_removidos.csv\", row.names = FALSE)\n",
        "# OBS: os arquivos gerados estarão disponíveis para download na lateral, no menu \"Arquivos\""
      ],
      "metadata": {
        "id": "IlUQlbvUoSjD"
      },
      "execution_count": 8,
      "outputs": []
    },
    {
      "cell_type": "code",
      "source": [
        "#### Calculo do Alfa de Cronbach usando correlações par a par\n",
        "alfa_resultado <- alpha(itens_limpos, check.keys = TRUE, use = \"pairwise.complete.obs\")\n",
        "print(\"Alfa de Cronbach para o checklist limpo (usando correlações par a par):\")\n",
        "print(alfa_resultado$total$raw_alpha)\n",
        "print(alfa_resultado$total)"
      ],
      "metadata": {
        "colab": {
          "base_uri": "https://localhost:8080/"
        },
        "id": "pZT5kUJBohl1",
        "outputId": "9b544b2b-0a3f-49d7-967d-3afeb75971b7"
      },
      "execution_count": 9,
      "outputs": [
        {
          "output_type": "stream",
          "name": "stderr",
          "text": [
            "Warning message in alpha(itens_limpos, check.keys = TRUE, use = \"pairwise.complete.obs\"):\n",
            "“Some items were negatively correlated with the first principal component and were automatically reversed.\n",
            " This is indicated by a negative sign for the variable name.”\n"
          ]
        },
        {
          "output_type": "stream",
          "name": "stdout",
          "text": [
            "[1] \"Alfa de Cronbach para o checklist limpo (usando correlações par a par):\"\n",
            "[1] 0.6968945\n",
            " raw_alpha std.alpha   G6(smc) average_r      S/N        ase      mean\n",
            " 0.6968945 0.7055326 0.7596289 0.1461312 2.395962 0.03869875 0.4286652\n",
            "        sd  median_r\n",
            " 0.1951348 0.1687884\n"
          ]
        }
      ]
    },
    {
      "cell_type": "code",
      "source": [
        "#### Calculo do Ômega de McDonald  com correlações par a par\n",
        "tryCatch({\n",
        "  # Tentar com opções mais robustas\n",
        "  omega_resultado <- omega(itens_limpos, nfactors = 4,\n",
        "                           use = \"pairwise.complete.obs\",\n",
        "                           fm = \"ml\",       # Método de máxima verossimilhança\n",
        "                           plot = FALSE,    # Não plotar resultados\n",
        "                           warnings = FALSE) # Suprimir avisos\n",
        "\n",
        "  cat(\"Ômega de McDonald para o checklist limpo:\\n\")\n",
        "  cat(\"Ômega Total:\", round(omega_resultado$omega.tot, 3), \"\\n\")\n",
        "  cat(\"Ômega Hierárquico:\", round(omega_resultado$omega_h, 3), \"\\n\")\n",
        "}, error = function(e) {\n",
        "  cat(\"Erro ao calcular Ômega de McDonald com 4 fatores:\", e$message, \"\\n\")\n",
        "  cat(\"Tentando com menos fatores...\\n\")\n",
        "\n",
        "  # Tentar com 3 fatores\n",
        "  tryCatch({\n",
        "    omega_resultado <- omega(itens_limpos, nfactors = 3,\n",
        "                             use = \"pairwise.complete.obs\",\n",
        "                             fm = \"ml\",\n",
        "                             plot = FALSE,\n",
        "                             warnings = FALSE)\n",
        "\n",
        "    cat(\"Ômega Total (3 fatores):\", round(omega_resultado$omega.tot, 3), \"\\n\")\n",
        "    cat(\"Ômega Hierárquico (3 fatores):\", round(omega_resultado$omega_h, 3), \"\\n\")\n",
        "\n",
        "    # Armazenar o resultado para uso posterior\n",
        "    assign(\"omega_resultado\", omega_resultado, envir = .GlobalEnv)\n",
        "  }, error = function(e2) {\n",
        "    cat(\"Erro ao calcular Ômega de McDonald com 3 fatores:\", e2$message, \"\\n\")\n",
        "    cat(\"Tentando com 2 fatores...\\n\")\n",
        "\n",
        "    # Tentar com 2 fatores\n",
        "    tryCatch({\n",
        "      omega_resultado <- omega(itens_limpos, nfactors = 2,\n",
        "                               use = \"pairwise.complete.obs\",\n",
        "                               fm = \"ml\",\n",
        "                               plot = FALSE,\n",
        "                               warnings = FALSE)\n",
        "\n",
        "      cat(\"Ômega Total (2 fatores):\", round(omega_resultado$omega.tot, 3), \"\\n\")\n",
        "      cat(\"Ômega Hierárquico (2 fatores):\", round(omega_resultado$omega_h, 3), \"\\n\")\n",
        "\n",
        "      # Armazenar o resultado para uso posterior\n",
        "      assign(\"omega_resultado\", omega_resultado, envir = .GlobalEnv)\n",
        "    }, error = function(e3) {\n",
        "      cat(\"Erro ao calcular Ômega de McDonald com 2 fatores:\", e3$message, \"\\n\")\n",
        "\n",
        "      # Última tentativa: usar um método alternativo\n",
        "      cat(\"Tentando método alternativo (minres)...\\n\")\n",
        "      tryCatch({\n",
        "        omega_resultado <- omega(itens_limpos, nfactors = 2,\n",
        "                                 use = \"pairwise.complete.obs\",\n",
        "                                 fm = \"minres\",  # Método alternativo\n",
        "                                 plot = FALSE,\n",
        "                                 warnings = FALSE)\n",
        "\n",
        "        cat(\"Ômega Total (método alternativo):\", round(omega_resultado$omega.tot, 3), \"\\n\")\n",
        "        cat(\"Ômega Hierárquico (método alternativo):\", round(omega_resultado$omega_h, 3), \"\\n\")\n",
        "\n",
        "        # Armazenar o resultado para uso posterior\n",
        "        assign(\"omega_resultado\", omega_resultado, envir = .GlobalEnv)\n",
        "      }, error = function(e4) {\n",
        "        cat(\"Não foi possível calcular o Ômega de McDonald com nenhum método.\\n\")\n",
        "        cat(\"Prosseguindo com a análise sem o Ômega.\\n\")\n",
        "      })\n",
        "    })\n",
        "  })\n",
        "})\n"
      ],
      "metadata": {
        "colab": {
          "base_uri": "https://localhost:8080/"
        },
        "id": "9qZpPcHlop1l",
        "outputId": "3a2b8d73-c026-48a9-c622-c6445fb68747"
      },
      "execution_count": 10,
      "outputs": [
        {
          "output_type": "stream",
          "name": "stderr",
          "text": [
            "Loading required namespace: GPArotation\n",
            "\n"
          ]
        },
        {
          "output_type": "stream",
          "name": "stdout",
          "text": [
            "Ômega de McDonald para o checklist limpo:\n",
            "Ômega Total: 0.791 \n",
            "Ômega Hierárquico: 0.473 \n"
          ]
        }
      ]
    },
    {
      "cell_type": "code",
      "source": [
        "#### Cálculo do Alfa de Cronbach para cada grupo de heurísticas\n",
        "\n",
        "# Grupos únicos de heurísticas\n",
        "grupos_unicos <- unique(dicionario$id_heuristica[!is.na(dicionario$id_heuristica)])\n",
        "resultados_por_grupo <- list()\n",
        "\n",
        "print(\"Alfa de Cronbach por grupo de heurísticas:\")\n",
        "\n",
        "for (grupo in grupos_unicos) {\n",
        "  # Obtenção dos códigos dos itens para este grupo\n",
        "  codigos_grupo <- dicionario$codigo_item[dicionario$id_heuristica == grupo]\n",
        "\n",
        "  # Verificação de se todos os códigos existem nas colunas de itens limpos\n",
        "  codigos_validos <- codigos_grupo[codigos_grupo %in% names(itens_limpos)]\n",
        "\n",
        "  # Se pelo menos 2 itens válidos, calculo do alfa\n",
        "  if (length(codigos_validos) > 1) {\n",
        "\n",
        "    # Selação apenas desses itens dos dados\n",
        "    itens_grupo <- itens_limpos[, codigos_validos]\n",
        "\n",
        "    # Cálculo do Alfa de Cronbach para esse grupo\n",
        "    alfa_grupo <- alpha(itens_grupo, check.keys = TRUE, use = \"pairwise.complete.obs\")\n",
        "\n",
        "    # Nome do grupo (pegar a primeira ocorrência não-NA)\n",
        "    nome_grupo <- dicionario$descricao_heuristica[dicionario$id_heuristica == grupo][1]\n",
        "\n",
        "    # Armazenar resultados\n",
        "    resultados_por_grupo[[grupo]] <- list(\n",
        "      nome = nome_grupo,\n",
        "      alfa_raw = alfa_grupo$total$raw_alpha,\n",
        "      alfa_std = alfa_grupo$total$std.alpha,\n",
        "      n_itens = length(codigos_validos),\n",
        "      itens = codigos_validos\n",
        "    )\n",
        "\n",
        "    # Exibição de resultados\n",
        "    cat(\"\\nGrupo:\", grupo, \"-\", nome_grupo, \"\\n\")\n",
        "    cat(\"Número de itens:\", length(codigos_validos), \"\\n\")\n",
        "    cat(\"Itens:\", paste(codigos_validos, collapse = \", \"), \"\\n\")\n",
        "    cat(\"Alfa de Cronbach (raw):\", round(alfa_grupo$total$raw_alpha, 3), \"\\n\")\n",
        "    cat(\"Alfa de Cronbach (std):\", round(alfa_grupo$total$std.alpha, 3), \"\\n\")\n",
        "  } else {\n",
        "    cat(\"\\nGrupo:\", grupo, \"\\n\")\n",
        "    cat(\"Número de itens insuficiente para calcular alfa (precisa de pelo menos 2 itens)\\n\")\n",
        "    cat(\"Itens:\", paste(codigos_validos, collapse = \", \"), \"\\n\")\n",
        "  }\n",
        "}\n"
      ],
      "metadata": {
        "colab": {
          "base_uri": "https://localhost:8080/"
        },
        "id": "pgMQoTfbov2s",
        "outputId": "c76b92d7-6fbb-42cd-ef48-73384a356e72"
      },
      "execution_count": 11,
      "outputs": [
        {
          "output_type": "stream",
          "name": "stdout",
          "text": [
            "[1] \"Alfa de Cronbach por grupo de heurísticas:\"\n",
            "\n",
            "Grupo: h1 - Deixar as expectativas e limitações explícitas \n",
            "Número de itens: 3 \n",
            "Itens: c1, c2, c3 \n",
            "Alfa de Cronbach (raw): 0.443 \n",
            "Alfa de Cronbach (std): 0.457 \n",
            "\n",
            "Grupo: h2 - Apoiar o uso efetivo \n",
            "Número de itens: 2 \n",
            "Itens: c4, c5 \n",
            "Alfa de Cronbach (raw): 0.514 \n",
            "Alfa de Cronbach (std): 0.518 \n",
            "\n",
            "Grupo: h3 - Apoiar a compreensão do usuário sobre \n",
            "incerteza e a confiança do modelo \n",
            "Número de itens: 2 \n",
            "Itens: c6, c10 \n",
            "Alfa de Cronbach (raw): 0.254 \n",
            "Alfa de Cronbach (std): 0.29 \n",
            "\n",
            "Grupo: h4 \n",
            "Número de itens insuficiente para calcular alfa (precisa de pelo menos 2 itens)\n",
            "Itens: c11 \n",
            "\n",
            "Grupo: h5 - Falhar graciosamente e suportar a recuperação de erros \n",
            "Número de itens: 4 \n",
            "Itens: c12, c13, c14, c15 \n",
            "Alfa de Cronbach (raw): 0.67 \n",
            "Alfa de Cronbach (std): 0.675 \n",
            "\n",
            "Grupo: h6 \n",
            "Número de itens insuficiente para calcular alfa (precisa de pelo menos 2 itens)\n",
            "Itens: c18 \n",
            "\n",
            "Grupo: h7 \n",
            "Número de itens insuficiente para calcular alfa (precisa de pelo menos 2 itens)\n",
            "Itens: c20 \n",
            "\n",
            "Grupo: h8 \n",
            "Número de itens insuficiente para calcular alfa (precisa de pelo menos 2 itens)\n",
            "Itens:  \n"
          ]
        }
      ]
    },
    {
      "cell_type": "code",
      "source": [
        "#### Análise de itens - como cada item afeta a confiabilidade\n",
        "print(\"Alfa se o item for removido:\")\n",
        "alfa_drop <- alfa_resultado$alpha.drop\n",
        "\n",
        "# Adicionar descrições dos itens\n",
        "alfa_drop$descricao <- sapply(rownames(alfa_drop), function(codigo) {\n",
        "  idx <- which(dicionario$codigo_item == codigo)\n",
        "  if (length(idx) > 0) dicionario$descricao_item[idx[1]] else NA\n",
        "})\n",
        "\n",
        "alfa_drop$heuristica <- sapply(rownames(alfa_drop), function(codigo) {\n",
        "  idx <- which(dicionario$codigo_item == codigo)\n",
        "  if (length(idx) > 0) dicionario$id_heuristica[idx[1]] else NA\n",
        "})\n",
        "\n",
        "# Ordenação do impacto na confiabilidade (maior alfa se removido = item menos importante)\n",
        "alfa_drop_ordenado <- alfa_drop[order(alfa_drop$raw_alpha, decreasing = TRUE), ]\n",
        "print(alfa_drop_ordenado)\n",
        "\n",
        "# Identificação de itens problemáticos (remoção aumentaria o alfa)\n",
        "itens_problematicos <- alfa_drop_ordenado[alfa_drop_ordenado$raw_alpha > alfa_resultado$total$raw_alpha, ]\n",
        "if (nrow(itens_problematicos) > 0) {\n",
        "  print(\"Itens cuja remoção aumentaria o Alfa de Cronbach:\")\n",
        "  print(itens_problematicos)\n",
        "} else {\n",
        "  print(\"Nenhum item cuja remoção aumentaria o Alfa de Cronbach.\")\n",
        "}"
      ],
      "metadata": {
        "colab": {
          "base_uri": "https://localhost:8080/"
        },
        "id": "cENeDARjo3u3",
        "outputId": "ae056b76-b020-4f5f-d6d4-69712654e6aa"
      },
      "execution_count": 13,
      "outputs": [
        {
          "output_type": "stream",
          "name": "stdout",
          "text": [
            "[1] \"Alfa se o item for removido:\"\n",
            "     raw_alpha std.alpha   G6(smc) average_r      S/N   alpha se      var.r\n",
            "c20  0.7058821 0.7220849 0.7673252 0.1665716 2.598221 0.03801950 0.01810552\n",
            "c6   0.7034801 0.7075998 0.7573794 0.1569374 2.419970 0.03781521 0.02124048\n",
            "c18- 0.7023165 0.7100529 0.7508353 0.1585164 2.448905 0.03818729 0.01822169\n",
            "c3   0.6937754 0.7033421 0.7538394 0.1542452 2.370886 0.03926228 0.02171861\n",
            "c12  0.6931792 0.6991200 0.7486086 0.1516345 2.323584 0.03923323 0.02093775\n",
            "c1   0.6878729 0.6948056 0.7505721 0.1490253 2.276600 0.03976847 0.02169536\n",
            "c11  0.6878109 0.6968042 0.7544843 0.1502267 2.298198 0.03986514 0.02303853\n",
            "c5   0.6829825 0.6947423 0.7487352 0.1489874 2.275920 0.04060530 0.02226213\n",
            "c10  0.6779814 0.6807810 0.7288890 0.1409301 2.132646 0.04121058 0.02029057\n",
            "c2   0.6703755 0.6734072 0.7236647 0.1368961 2.061917 0.04212047 0.01902739\n",
            "c14  0.6695415 0.6787127 0.7378662 0.1397838 2.112479 0.04229588 0.02234780\n",
            "c15  0.6645143 0.6762844 0.7315261 0.1384527 2.089131 0.04301931 0.02150199\n",
            "c4   0.6469796 0.6618158 0.7222450 0.1308399 1.956969 0.04545164 0.02143295\n",
            "c13  0.6337442 0.6453537 0.6939632 0.1227899 1.819711 0.04715018 0.01729988\n",
            "         med.r\n",
            "c20  0.1708146\n",
            "c6   0.1693875\n",
            "c18- 0.1693875\n",
            "c3   0.1692364\n",
            "c12  0.1693875\n",
            "c1   0.1639579\n",
            "c11  0.1689852\n",
            "c5   0.1693331\n",
            "c10  0.1689852\n",
            "c2   0.1546944\n",
            "c14  0.1581563\n",
            "c15  0.1627631\n",
            "c4   0.1495356\n",
            "c13  0.1581563\n",
            "                                                                                                    descricao\n",
            "c20                                                                             20. O app está livre de viés?\n",
            "c6                        6. O app deixa claro que existe incerteza em relação ao resultado da classificação?\n",
            "c18-                                                                                                     <NA>\n",
            "c3                                                        3. O aplicativo fornece explicações compreensíveis?\n",
            "c12                                                                 12. O app permite a recuperação de erros?\n",
            "c1                                                   1. O app deixa claro quais classes ele pode classificar?\n",
            "c11             11. O app disponibiliza informações sobre o uso das fotos do usuário usadas na classificação?\n",
            "c5                                      5. O app visualiza o status durante o processamento da classificação?\n",
            "c10                                 10. O app fornece informações sobre como o modelo de ML foi desenvolvido?\n",
            "c2                          2. O aplicativo deixa claro o quão bem ele pode fazer a classificação de imagens?\n",
            "c14                          14. O app indica quando se trata de objetos fora do seu escopo de classificação?\n",
            "c15  15. O app mostra um aviso quando o sistema não é capaz de classificar uma foto com confiança suficiente?\n",
            "c4                                          4. O app mostra dicas de como tirar fotos com qualidade adequada?\n",
            "c13                                              13. O app ajuda o usuário a se recuperar de possíveis erros?\n",
            "     heuristica\n",
            "c20          h7\n",
            "c6           h3\n",
            "c18-       <NA>\n",
            "c3           h1\n",
            "c12          h5\n",
            "c1           h1\n",
            "c11          h4\n",
            "c5           h2\n",
            "c10          h3\n",
            "c2           h1\n",
            "c14          h5\n",
            "c15          h5\n",
            "c4           h2\n",
            "c13          h5\n",
            "[1] \"Itens cuja remoção aumentaria o Alfa de Cronbach:\"\n",
            "     raw_alpha std.alpha   G6(smc) average_r      S/N   alpha se      var.r\n",
            "c20  0.7058821 0.7220849 0.7673252 0.1665716 2.598221 0.03801950 0.01810552\n",
            "c6   0.7034801 0.7075998 0.7573794 0.1569374 2.419970 0.03781521 0.02124048\n",
            "c18- 0.7023165 0.7100529 0.7508353 0.1585164 2.448905 0.03818729 0.01822169\n",
            "         med.r\n",
            "c20  0.1708146\n",
            "c6   0.1693875\n",
            "c18- 0.1693875\n",
            "                                                                               descricao\n",
            "c20                                                        20. O app está livre de viés?\n",
            "c6   6. O app deixa claro que existe incerteza em relação ao resultado da classificação?\n",
            "c18-                                                                                <NA>\n",
            "     heuristica\n",
            "c20          h7\n",
            "c6           h3\n",
            "c18-       <NA>\n"
          ]
        }
      ]
    },
    {
      "cell_type": "code",
      "source": [
        "#### Salvamento dos resultados em CSV\n",
        "\n",
        "# Dataframe com os resultados por grupo\n",
        "grupos_df <- data.frame(\n",
        "  grupo = names(resultados_por_grupo),\n",
        "  nome_grupo = sapply(resultados_por_grupo, function(x) x$nome),\n",
        "  alfa = sapply(resultados_por_grupo, function(x) x$alfa_raw),  # IMPORTANTE: Usando 'alfa' consistentemente\n",
        "  alfa_std = sapply(resultados_por_grupo, function(x) x$alfa_std),\n",
        "  n_itens = sapply(resultados_por_grupo, function(x) x$n_itens)\n",
        ")\n",
        "\n",
        "# Filtragem dos grupos com pelo menos 2 itens\n",
        "grupos_df <- grupos_df[grupos_df$n_itens > 1, ]\n",
        "\n",
        "# Ordenação por valor de alfa\n",
        "grupos_df <- grupos_df[order(grupos_df$alfa, decreasing = TRUE), ]  # IMPORTANTE: Usando 'alfa' consistentemente\n",
        "\n",
        "# Criação de dataframe de resultados finais\n",
        "resultados_csv <- data.frame(\n",
        "  grupo = c(\"Checklist Completo\", grupos_df$grupo),\n",
        "  nome_grupo = c(\"Checklist Completo\", grupos_df$nome_grupo),\n",
        "  alfa = c(alfa_resultado$total$raw_alpha, grupos_df$alfa),  # IMPORTANTE: Usando 'alfa' consistentemente\n",
        "  alfa_std = c(alfa_resultado$total$std.alpha, grupos_df$alfa_std),\n",
        "  n_itens = c(ncol(itens_limpos), grupos_df$n_itens)\n",
        ")\n",
        "\n",
        "# Adição do ômega se calculado com sucesso\n",
        "if (exists(\"omega_resultado\")) {\n",
        "  resultados_csv$omega_total <- c(omega_resultado$omega.tot, rep(NA, nrow(grupos_df)))\n",
        "  resultados_csv$omega_hierarquico <- c(omega_resultado$omega_h, rep(NA, nrow(grupos_df)))\n",
        "}\n"
      ],
      "metadata": {
        "id": "NLZlcL_upCD0"
      },
      "execution_count": 16,
      "outputs": []
    },
    {
      "cell_type": "code",
      "source": [
        "# Salvamento em CSV\n",
        "write.csv(resultados_csv, \"resultados_consistencia_interna.csv\", row.names = FALSE)\n",
        "write.csv(alfa_drop_ordenado, \"analise_itens.csv\", row.names = TRUE)\n",
        "write.csv(itens_removidos, \"itens_removidos.csv\", row.names = FALSE)"
      ],
      "metadata": {
        "id": "tMLGHwjIpSRq"
      },
      "execution_count": 17,
      "outputs": []
    },
    {
      "cell_type": "code",
      "source": [
        "# Matriz de correlação\n",
        "tryCatch({\n",
        "  cor_itens <- cor(itens_limpos, use = \"pairwise.complete.obs\")\n",
        "  write.csv(cor_itens, \"matriz_correlacao.csv\", row.names = TRUE)\n",
        "}, error = function(e) {\n",
        "  print(\"Não foi possível calcular a matriz de correlação:\", e$message)\n",
        "})"
      ],
      "metadata": {
        "id": "SUY8YMrMpi4q"
      },
      "execution_count": 20,
      "outputs": []
    },
    {
      "cell_type": "code",
      "source": [
        "#### Visualizações\n",
        "\n",
        "# 1. Visualização da correlação entre itens\n",
        "cor_itens <- cor(itens_limpos, use = \"pairwise.complete.obs\")\n",
        "heatmap(cor_itens,\n",
        "        main = \"Correlação entre itens do checklist\",\n",
        "        col = colorRampPalette(c(\"blue\", \"white\", \"red\"))(100))\n"
      ],
      "metadata": {
        "colab": {
          "base_uri": "https://localhost:8080/",
          "height": 437
        },
        "id": "GCi1Th62qXSO",
        "outputId": "c818de22-c086-4322-fe9f-f1d04c7b6140"
      },
      "execution_count": 25,
      "outputs": [
        {
          "output_type": "display_data",
          "data": {
            "text/plain": [
              "Plot with title “Correlação entre itens do checklist”"
            ],
            "image/png": "[encoded data removed]"
          },
          "metadata": {
            "image/png": {
              "width": 420,
              "height": 420
            }
          }
        }
      ]
    },
    {
      "cell_type": "code",
      "source": [
        "# 2. Gráfico de barras para o Alfa por grupo\n",
        "# IMPORTANTE: Usando 'alfa' consistentemente em todo o código\n",
        "plot_alfa_grupo <- ggplot(grupos_df, aes(x = reorder(grupo, alfa), y = alfa)) +\n",
        "  geom_bar(stat = \"identity\", fill = \"steelblue\") +\n",
        "  geom_text(aes(label = round(alfa, 2)), hjust = -0.1, size = 3.5) +\n",
        "  geom_text(aes(label = paste0(\"(\", n_itens, \" itens)\")), y = 0.05, hjust = 0, size = 3) +\n",
        "  coord_flip() +\n",
        "  labs(title = \"Alfa de Cronbach por Grupo de Heurísticas\",\n",
        "       x = \"Grupo de Heurísticas\",\n",
        "       y = \"Alfa de Cronbach\") +\n",
        "  theme_minimal() +\n",
        "  geom_hline(yintercept = 0.7, linetype = \"dashed\", color = \"red\") +\n",
        "  annotate(\"text\", x = 1, y = 0.72, label = \"Limiar de aceitabilidade (0.7)\", size = 3.5)\n",
        "\n",
        "# Plotar a imagem\n",
        "print(plot_alfa_grupo)"
      ],
      "metadata": {
        "colab": {
          "base_uri": "https://localhost:8080/",
          "height": 437
        },
        "id": "EsX3fo6-qfcW",
        "outputId": "fac8f706-bd3a-478b-d2e3-af5ba11a4e1f"
      },
      "execution_count": 26,
      "outputs": [
        {
          "output_type": "display_data",
          "data": {
            "text/plain": [
              "plot without title"
            ],
            "image/png": "[encoded data removed]"
          },
          "metadata": {
            "image/png": {
              "width": 420,
              "height": 420
            }
          }
        }
      ]
    },
    {
      "cell_type": "code",
      "source": [
        "# 3. Gráfico para itens problemáticos\n",
        "if(nrow(itens_problematicos) > 0) {\n",
        "\n",
        "  itens_problematicos$item_nome <- paste0(rownames(itens_problematicos), \": \",\n",
        "                                         substr(itens_problematicos$descricao, 1, 30), \"...\")\n",
        "\n",
        "  plot_itens_problematicos <- ggplot(itens_problematicos, aes(x = reorder(item_nome, raw_alpha), y = raw_alpha)) +\n",
        "    geom_bar(stat = \"identity\", fill = \"coral\") +\n",
        "    geom_hline(yintercept = alfa_resultado$total$raw_alpha, linetype = \"dashed\", color = \"blue\") +\n",
        "    annotate(\"text\", x = 1, y = alfa_resultado$total$raw_alpha + 0.01,\n",
        "             label = paste(\"Alfa atual:\", round(alfa_resultado$total$raw_alpha, 3)), size = 3.5) +\n",
        "    coord_flip() +\n",
        "    labs(title = \"Itens cuja remoção aumentaria o Alfa de Cronbach\",\n",
        "         x = \"Item\",\n",
        "         y = \"Alfa se o item for removido\") +\n",
        "    theme_minimal()\n",
        "\n",
        "\n",
        "  print(plot_itens_problematicos)\n",
        "}"
      ],
      "metadata": {
        "colab": {
          "base_uri": "https://localhost:8080/",
          "height": 437
        },
        "id": "XQYGD13xqg01",
        "outputId": "87e7f78a-9c49-40a6-afa7-959cfaa06206"
      },
      "execution_count": 28,
      "outputs": [
        {
          "output_type": "display_data",
          "data": {
            "text/plain": [
              "plot without title"
            ],
            "image/png": "[encoded data removed]"
          },
          "metadata": {
            "image/png": {
              "width": 420,
              "height": 420
            }
          }
        }
      ]
    }
  ]
}